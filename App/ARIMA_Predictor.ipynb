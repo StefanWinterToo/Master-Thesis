{
 "cells": [
  {
   "cell_type": "code",
   "execution_count": 1,
   "metadata": {},
   "outputs": [],
   "source": [
    "import pandas as pd\n",
    "from statsmodels.graphics.tsaplots import plot_acf, plot_pacf\n",
    "from statsmodels.tsa.stattools import adfuller\n",
    "import matplotlib.pyplot as plt\n",
    "import numpy as np"
   ]
  },
  {
   "cell_type": "code",
   "execution_count": 2,
   "metadata": {},
   "outputs": [],
   "source": [
    "ts = pd.read_excel(\"data/stock_prices.xlsx\", usecols = [\"Date\", \"Adj Close\", \"Volume\"])"
   ]
  },
  {
   "cell_type": "code",
   "execution_count": 3,
   "metadata": {},
   "outputs": [],
   "source": [
    "# Check for stationarity"
   ]
  },
  {
   "cell_type": "code",
   "execution_count": 4,
   "metadata": {},
   "outputs": [
    {
     "name": "stdout",
     "output_type": "stream",
     "text": [
      "ADF Statistic: -1.522240\n",
      "p-value: 0.522482\n"
     ]
    }
   ],
   "source": [
    "result = adfuller(ts[\"Adj Close\"].dropna())\n",
    "print('ADF Statistic: %f' % result[0])\n",
    "print('p-value: %f' % result[1]) # Non-stationary -> need to differentiate"
   ]
  },
  {
   "cell_type": "code",
   "execution_count": 5,
   "metadata": {},
   "outputs": [],
   "source": [
    "ts[\"Close_Diff\"] = ts[\"Adj Close\"].diff()"
   ]
  },
  {
   "cell_type": "code",
   "execution_count": 6,
   "metadata": {},
   "outputs": [
    {
     "name": "stdout",
     "output_type": "stream",
     "text": [
      "ADF Statistic: -11.104181\n",
      "p-value: 0.000000\n"
     ]
    }
   ],
   "source": [
    "result = adfuller(ts[\"Close_Diff\"].dropna())\n",
    "print('ADF Statistic: %f' % result[0])\n",
    "print('p-value: %f' % result[1]) # Stationary"
   ]
  },
  {
   "cell_type": "code",
   "execution_count": 10,
   "metadata": {},
   "outputs": [
    {
     "data": {
      "text/plain": [
       "1       0.230000\n",
       "2      -0.430000\n",
       "3      -0.030000\n",
       "4      -0.330000\n",
       "5       0.200000\n",
       "         ...    \n",
       "454     0.769989\n",
       "455    -2.269989\n",
       "456    -2.809998\n",
       "457   -11.910004\n",
       "458     4.169998\n",
       "Name: Close_Diff, Length: 458, dtype: float64"
      ]
     },
     "execution_count": 10,
     "metadata": {},
     "output_type": "execute_result"
    }
   ],
   "source": []
  },
  {
   "cell_type": "code",
   "execution_count": 14,
   "metadata": {},
   "outputs": [
    {
     "name": "stderr",
     "output_type": "stream",
     "text": [
      "/Users/stefanwinter/Local/Thesis/App/.thesis/lib/python3.9/site-packages/statsmodels/graphics/tsaplots.py:348: FutureWarning: The default method 'yw' can produce PACF values outside of the [-1,1] interval. After 0.13, the default will change tounadjusted Yule-Walker ('ywm'). You can use this method now by setting method='ywm'.\n",
      "  warnings.warn(\n"
     ]
    },
    {
     "data": {
      "image/png": "[encoded data removed]",
      "text/plain": [
       "<Figure size 432x288 with 1 Axes>"
      ]
     },
     "execution_count": 14,
     "metadata": {},
     "output_type": "execute_result"
    },
    {
     "data": {
      "image/png": "[encoded data removed]",
      "text/plain": [
       "<Figure size 432x288 with 1 Axes>"
      ]
     },
     "metadata": {
      "needs_background": "light"
     },
     "output_type": "display_data"
    },
    {
     "data": {
      "image/png": "[encoded data removed]",
      "text/plain": [
       "<Figure size 432x288 with 1 Axes>"
      ]
     },
     "metadata": {
      "needs_background": "light"
     },
     "output_type": "display_data"
    }
   ],
   "source": [
    "plot_acf(ts.Close_Diff.dropna())\n",
    "plot_pacf(ts.Close_Diff.dropna())"
   ]
  },
  {
   "cell_type": "code",
   "execution_count": 7,
   "metadata": {},
   "outputs": [],
   "source": [
    "# Build model and implement rolling window (= ExpandingWindowSplitter) for hyperparameter tuning"
   ]
  },
  {
   "cell_type": "code",
   "execution_count": null,
   "metadata": {},
   "outputs": [],
   "source": []
  },
  {
   "cell_type": "code",
   "execution_count": 8,
   "metadata": {},
   "outputs": [],
   "source": [
    "# Train, test split\n",
    "series = ts[\"Close_Diff\"].dropna()\n",
    "train_size = int(round(len(series) * 0.90, 0))\n",
    "\n",
    "train = series[:train_size]\n",
    "y_test = list(series[train_size:])\n",
    "\n",
    "# Train, val split\n",
    "train_size2 = int(round(len(train) * 0.90, 0))\n",
    "y_train = list(train[:train_size2])\n",
    "y_val = list(train[train_size2:])"
   ]
  },
  {
   "cell_type": "code",
   "execution_count": 16,
   "metadata": {},
   "outputs": [],
   "source": [
    "from statsmodels.tsa.arima.model import ARIMA\n",
    "from sklearn.metrics import mean_squared_error, mean_absolute_error\n",
    "\n",
    "def run_rolling_forecast(train, val, params):\n",
    "    history = [x for x in train]\n",
    "    predictions = list()\n",
    "    for t in range(len(val)):\n",
    "        model = ARIMA(history, order=params)\n",
    "        model_fit = model.fit(return_params=False)\n",
    "        output = model_fit.forecast()\n",
    "        yhat = output[0]\n",
    "        predictions.append(yhat)\n",
    "        obs = val[t]\n",
    "        history.append(obs)\n",
    "        # print(\"%d/%d predicted=%f, expected=%f\" % (t, len(val), yhat, obs))\n",
    "    rmse = mean_squared_error(val, predictions, squared = True)\n",
    "    mse = mean_squared_error(val, predictions, squared = False)\n",
    "    mae = mean_absolute_error(val, predictions)\n",
    "\n",
    "    return rmse, mse, mae, predictions, val"
   ]
  },
  {
   "cell_type": "code",
   "execution_count": 156,
   "metadata": {},
   "outputs": [],
   "source": [
    "# p: The number of lag observations included in the model, also called the lag order.\n",
    "# d: The number of times that the raw observations are differenced, also called the degree of differencing.\n",
    "# q: The size of the moving average window, also called the order of moving average.\n",
    "\n",
    "para = [(5,0,0), (1,0,1), (2,0,2), (0,0,5), (1,0,0), (0,0,1), (0,0,0)]"
   ]
  },
  {
   "cell_type": "code",
   "execution_count": 157,
   "metadata": {},
   "outputs": [
    {
     "name": "stdout",
     "output_type": "stream",
     "text": [
      "0/41 predicted=-9.311467, expected=-1.059998\n",
      "1/41 predicted=4.815049, expected=-7.029999\n",
      "2/41 predicted=5.741235, expected=-2.800003\n",
      "3/41 predicted=-8.035018, expected=3.740005\n",
      "4/41 predicted=-3.391265, expected=-2.369995\n",
      "5/41 predicted=4.508938, expected=3.259995\n",
      "6/41 predicted=-0.448058, expected=-9.779999\n",
      "7/41 predicted=-1.603150, expected=-1.529999\n",
      "8/41 predicted=-2.972477, expected=-3.270004\n",
      "9/41 predicted=-3.726472, expected=-8.899994\n",
      "10/41 predicted=-1.578441, expected=0.720001\n",
      "11/41 predicted=-5.134909, expected=-0.150009\n",
      "12/41 predicted=-4.300181, expected=-1.979996\n",
      "13/41 predicted=0.047606, expected=-9.190002\n",
      "14/41 predicted=-2.845783, expected=-12.440002\n",
      "15/41 predicted=-6.406999, expected=-0.799988\n",
      "16/41 predicted=-7.894794, expected=2.219986\n",
      "17/41 predicted=-3.904508, expected=4.450012\n",
      "18/41 predicted=0.246065, expected=17.689987\n",
      "19/41 predicted=0.216169, expected=-5.369995\n",
      "20/41 predicted=6.051371, expected=-6.959991\n",
      "21/41 predicted=2.996522, expected=1.509995\n",
      "22/41 predicted=-4.829849, expected=3.580002\n",
      "23/41 predicted=1.743732, expected=-5.400009\n",
      "24/41 predicted=4.818484, expected=-9.419998\n",
      "25/41 predicted=-3.300838, expected=-4.259995\n",
      "26/41 predicted=-7.085094, expected=-3.740005\n",
      "27/41 predicted=-3.878314, expected=-3.470001\n",
      "28/41 predicted=-2.397694, expected=-4.899994\n",
      "29/41 predicted=-4.593997, expected=-5.949997\n",
      "30/41 predicted=-5.296273, expected=6.639999\n",
      "31/41 predicted=-4.733331, expected=-1.669998\n",
      "32/41 predicted=0.000095, expected=9.360001\n",
      "33/41 predicted=1.009442, expected=-2.080002\n",
      "34/41 predicted=1.230015, expected=-0.270004\n",
      "35/41 predicted=1.945634, expected=3.570007\n",
      "36/41 predicted=-0.256701, expected=0.169998\n",
      "37/41 predicted=2.306465, expected=1.409988\n",
      "38/41 predicted=2.727997, expected=-0.379990\n",
      "39/41 predicted=-0.019082, expected=-6.500000\n",
      "40/41 predicted=0.398981, expected=-4.150009\n"
     ]
    },
    {
     "name": "stderr",
     "output_type": "stream",
     "text": [
      "/Users/stefanwinter/Local/Thesis/App/.thesis/lib/python3.9/site-packages/statsmodels/base/model.py:604: ConvergenceWarning: Maximum Likelihood optimization failed to converge. Check mle_retvals\n",
      "  warnings.warn(\"Maximum Likelihood optimization failed to \"\n"
     ]
    },
    {
     "name": "stdout",
     "output_type": "stream",
     "text": [
      "0/41 predicted=-7.287503, expected=-1.059998\n",
      "1/41 predicted=4.623433, expected=-7.029999\n",
      "2/41 predicted=9.761109, expected=-2.800003\n",
      "3/41 predicted=-2.984469, expected=3.740005\n",
      "4/41 predicted=-4.165346, expected=-2.369995\n",
      "5/41 predicted=3.334134, expected=3.259995\n"
     ]
    },
    {
     "name": "stderr",
     "output_type": "stream",
     "text": [
      "/Users/stefanwinter/Local/Thesis/App/.thesis/lib/python3.9/site-packages/statsmodels/base/model.py:604: ConvergenceWarning: Maximum Likelihood optimization failed to converge. Check mle_retvals\n",
      "  warnings.warn(\"Maximum Likelihood optimization failed to \"\n"
     ]
    },
    {
     "name": "stdout",
     "output_type": "stream",
     "text": [
      "6/41 predicted=1.918371, expected=-9.779999\n",
      "7/41 predicted=2.444238, expected=-1.529999\n",
      "8/41 predicted=0.011577, expected=-3.270004\n",
      "9/41 predicted=-0.694359, expected=-8.899994\n",
      "10/41 predicted=3.807320, expected=0.720001\n",
      "11/41 predicted=0.459617, expected=-0.150009\n",
      "12/41 predicted=0.576828, expected=-1.979996\n",
      "13/41 predicted=3.836133, expected=-9.190002\n",
      "14/41 predicted=3.350806, expected=-12.440002\n",
      "15/41 predicted=1.430975, expected=-0.799988\n",
      "16/41 predicted=-1.988609, expected=2.219986\n",
      "17/41 predicted=0.794846, expected=4.450012\n",
      "18/41 predicted=4.281822, expected=17.689987\n",
      "19/41 predicted=-0.126790, expected=-5.369995\n",
      "20/41 predicted=4.667058, expected=-6.959991\n",
      "21/41 predicted=2.246720, expected=1.509995\n",
      "22/41 predicted=-6.633220, expected=3.580002\n",
      "23/41 predicted=-2.089405, expected=-5.400009\n",
      "24/41 predicted=4.993241, expected=-9.419998\n",
      "25/41 predicted=2.832595, expected=-4.259995\n",
      "26/41 predicted=-1.861741, expected=-3.740005\n",
      "27/41 predicted=0.188135, expected=-3.470001\n",
      "28/41 predicted=3.189651, expected=-4.899994\n",
      "29/41 predicted=2.864905, expected=-5.949997\n",
      "30/41 predicted=2.010141, expected=6.639999\n",
      "31/41 predicted=-1.119331, expected=-1.669998\n",
      "32/41 predicted=2.727449, expected=9.360001\n",
      "33/41 predicted=1.366752, expected=-2.080002\n",
      "34/41 predicted=1.335688, expected=-0.270004\n",
      "35/41 predicted=0.999451, expected=3.570007\n",
      "36/41 predicted=-2.668080, expected=0.169998\n",
      "37/41 predicted=0.167165, expected=1.409988\n",
      "38/41 predicted=1.090848, expected=-0.379990\n",
      "39/41 predicted=-0.024047, expected=-6.500000\n",
      "40/41 predicted=1.442971, expected=-4.150009\n",
      "0/41 predicted=-7.278651, expected=-1.059998\n",
      "1/41 predicted=4.634077, expected=-7.029999\n",
      "2/41 predicted=9.793635, expected=-2.800003\n",
      "3/41 predicted=-2.967319, expected=3.740005\n",
      "4/41 predicted=-4.189265, expected=-2.369995\n",
      "5/41 predicted=3.359772, expected=3.259995\n",
      "6/41 predicted=1.934826, expected=-9.779999\n",
      "7/41 predicted=2.467529, expected=-1.529999\n",
      "8/41 predicted=0.031134, expected=-3.270004\n",
      "9/41 predicted=-0.660288, expected=-8.899994\n",
      "10/41 predicted=3.854718, expected=0.720001\n",
      "11/41 predicted=0.513132, expected=-0.150009\n",
      "12/41 predicted=0.608353, expected=-1.979996\n",
      "13/41 predicted=3.869222, expected=-9.190002\n",
      "14/41 predicted=3.397656, expected=-12.440002\n",
      "15/41 predicted=1.484319, expected=-0.799988\n",
      "16/41 predicted=-1.933769, expected=2.219986\n",
      "17/41 predicted=0.842526, expected=4.450012\n",
      "18/41 predicted=4.317759, expected=17.689987\n",
      "19/41 predicted=-0.145588, expected=-5.369995\n",
      "20/41 predicted=4.634596, expected=-6.959991\n",
      "21/41 predicted=2.229464, expected=1.509995\n",
      "22/41 predicted=-6.651412, expected=3.580002\n",
      "23/41 predicted=-2.111671, expected=-5.400009\n",
      "24/41 predicted=5.023356, expected=-9.419998\n",
      "25/41 predicted=2.872294, expected=-4.259995\n",
      "26/41 predicted=-1.828911, expected=-3.740005\n",
      "27/41 predicted=0.230706, expected=-3.470001\n",
      "28/41 predicted=3.245546, expected=-4.899994\n",
      "29/41 predicted=2.920838, expected=-5.949997\n",
      "30/41 predicted=2.059625, expected=6.639999\n",
      "31/41 predicted=-1.093676, expected=-1.669998\n",
      "32/41 predicted=2.748909, expected=9.360001\n",
      "33/41 predicted=1.363117, expected=-2.080002\n",
      "34/41 predicted=1.327550, expected=-0.270004\n",
      "35/41 predicted=0.979568, expected=3.570007\n",
      "36/41 predicted=-2.681360, expected=0.169998\n",
      "37/41 predicted=0.148643, expected=1.409988\n",
      "38/41 predicted=1.089334, expected=-0.379990\n",
      "39/41 predicted=-0.028920, expected=-6.500000\n",
      "40/41 predicted=1.450629, expected=-4.150009\n"
     ]
    }
   ],
   "source": [
    "history = []\n",
    "for p in para:\n",
    "    rmse, mse, mae, _, _ = run_rolling_forecast(y_train, y_val, p)\n",
    "    s = \"Params: \" + str(p) + \";RMSE: \" + str(rmse) + \";MSE:\" + str(mse) + \";MAE:\" + str(mae)\n",
    "    history.append(s)"
   ]
  },
  {
   "cell_type": "code",
   "execution_count": 158,
   "metadata": {},
   "outputs": [
    {
     "name": "stdout",
     "output_type": "stream",
     "text": [
      "Params: (5, 1, 0);RMSE: 52.0023748129438;MSE:7.211267212698736;MAE:5.658442127316466\n",
      "Params: (5, 1, 1);RMSE: 51.98123663786513;MSE:7.209801428462862;MAE:5.778140741560425\n",
      "Params: (5, 0, 0);RMSE: 52.125588525296315;MSE:7.219805296910459;MAE:5.789548340994598\n"
     ]
    }
   ],
   "source": [
    "# Find best parameters\n",
    "for item in history:\n",
    "    print(item)"
   ]
  },
  {
   "cell_type": "code",
   "execution_count": 17,
   "metadata": {},
   "outputs": [],
   "source": [
    "# Hypothetically now, select best later on\n",
    "best_param = (5, 1, 1)"
   ]
  },
  {
   "cell_type": "code",
   "execution_count": 18,
   "metadata": {},
   "outputs": [],
   "source": [
    "y_train_final = y_train + y_val"
   ]
  },
  {
   "cell_type": "code",
   "execution_count": 19,
   "metadata": {},
   "outputs": [
    {
     "name": "stderr",
     "output_type": "stream",
     "text": [
      "/Users/stefanwinter/Local/Thesis/App/.thesis/lib/python3.9/site-packages/statsmodels/base/model.py:604: ConvergenceWarning: Maximum Likelihood optimization failed to converge. Check mle_retvals\n",
      "  warnings.warn(\"Maximum Likelihood optimization failed to \"\n",
      "/Users/stefanwinter/Local/Thesis/App/.thesis/lib/python3.9/site-packages/statsmodels/base/model.py:604: ConvergenceWarning: Maximum Likelihood optimization failed to converge. Check mle_retvals\n",
      "  warnings.warn(\"Maximum Likelihood optimization failed to \"\n",
      "/Users/stefanwinter/Local/Thesis/App/.thesis/lib/python3.9/site-packages/statsmodels/base/model.py:604: ConvergenceWarning: Maximum Likelihood optimization failed to converge. Check mle_retvals\n",
      "  warnings.warn(\"Maximum Likelihood optimization failed to \"\n",
      "/Users/stefanwinter/Local/Thesis/App/.thesis/lib/python3.9/site-packages/statsmodels/base/model.py:604: ConvergenceWarning: Maximum Likelihood optimization failed to converge. Check mle_retvals\n",
      "  warnings.warn(\"Maximum Likelihood optimization failed to \"\n",
      "/Users/stefanwinter/Local/Thesis/App/.thesis/lib/python3.9/site-packages/statsmodels/base/model.py:604: ConvergenceWarning: Maximum Likelihood optimization failed to converge. Check mle_retvals\n",
      "  warnings.warn(\"Maximum Likelihood optimization failed to \"\n",
      "/Users/stefanwinter/Local/Thesis/App/.thesis/lib/python3.9/site-packages/statsmodels/base/model.py:604: ConvergenceWarning: Maximum Likelihood optimization failed to converge. Check mle_retvals\n",
      "  warnings.warn(\"Maximum Likelihood optimization failed to \"\n",
      "/Users/stefanwinter/Local/Thesis/App/.thesis/lib/python3.9/site-packages/statsmodels/base/model.py:604: ConvergenceWarning: Maximum Likelihood optimization failed to converge. Check mle_retvals\n",
      "  warnings.warn(\"Maximum Likelihood optimization failed to \"\n",
      "/Users/stefanwinter/Local/Thesis/App/.thesis/lib/python3.9/site-packages/statsmodels/base/model.py:604: ConvergenceWarning: Maximum Likelihood optimization failed to converge. Check mle_retvals\n",
      "  warnings.warn(\"Maximum Likelihood optimization failed to \"\n",
      "/Users/stefanwinter/Local/Thesis/App/.thesis/lib/python3.9/site-packages/statsmodels/base/model.py:604: ConvergenceWarning: Maximum Likelihood optimization failed to converge. Check mle_retvals\n",
      "  warnings.warn(\"Maximum Likelihood optimization failed to \"\n",
      "/Users/stefanwinter/Local/Thesis/App/.thesis/lib/python3.9/site-packages/statsmodels/base/model.py:604: ConvergenceWarning: Maximum Likelihood optimization failed to converge. Check mle_retvals\n",
      "  warnings.warn(\"Maximum Likelihood optimization failed to \"\n"
     ]
    }
   ],
   "source": [
    "rmse, mse, mae, y_pred, test = run_rolling_forecast(y_train_final, y_test, best_param)"
   ]
  },
  {
   "cell_type": "code",
   "execution_count": 32,
   "metadata": {},
   "outputs": [
    {
     "data": {
      "text/plain": [
       "[<matplotlib.lines.Line2D at 0x7fbecb4a0310>]"
      ]
     },
     "execution_count": 32,
     "metadata": {},
     "output_type": "execute_result"
    },
    {
     "data": {
      "image/png": "[encoded data removed]",
      "text/plain": [
       "<Figure size 432x288 with 1 Axes>"
      ]
     },
     "metadata": {
      "needs_background": "light"
     },
     "output_type": "display_data"
    }
   ],
   "source": [
    "from matplotlib import pyplot\n",
    "pyplot.plot(ts[\"Adj Close\"])"
   ]
  },
  {
   "cell_type": "code",
   "execution_count": 34,
   "metadata": {},
   "outputs": [],
   "source": [
    "# Inverse Diff"
   ]
  },
  {
   "cell_type": "code",
   "execution_count": 52,
   "metadata": {},
   "outputs": [],
   "source": [
    "def diff_inv(series_diff, first_value):\n",
    "    series_inverted = list(np.r_[first_value, series_diff].cumsum().astype('float64'))\n",
    "    return series_inverted"
   ]
  },
  {
   "cell_type": "code",
   "execution_count": 66,
   "metadata": {},
   "outputs": [],
   "source": [
    "plt_test = diff_inv(y_test, ts[\"Adj Close\"][0])\n",
    "plt_pred = diff_inv(y_pred, ts[\"Adj Close\"][0])"
   ]
  },
  {
   "cell_type": "code",
   "execution_count": 68,
   "metadata": {},
   "outputs": [
    {
     "data": {
      "text/plain": [
       "[<matplotlib.lines.Line2D at 0x7fbec8954610>]"
      ]
     },
     "execution_count": 68,
     "metadata": {},
     "output_type": "execute_result"
    },
    {
     "data": {
      "image/png": "[encoded data removed]",
      "text/plain": [
       "<Figure size 432x288 with 1 Axes>"
      ]
     },
     "metadata": {
      "needs_background": "light"
     },
     "output_type": "display_data"
    }
   ],
   "source": [
    "# Plot Price Data\n",
    "pyplot.plot(plt_test)\n",
    "pyplot.plot(plt_pred, color = \"red\")"
   ]
  },
  {
   "cell_type": "code",
   "execution_count": 69,
   "metadata": {},
   "outputs": [
    {
     "data": {
      "text/plain": [
       "[<matplotlib.lines.Line2D at 0x7fbec89d5580>]"
      ]
     },
     "execution_count": 69,
     "metadata": {},
     "output_type": "execute_result"
    },
    {
     "data": {
      "image/png": "[encoded data removed]",
      "text/plain": [
       "<Figure size 432x288 with 1 Axes>"
      ]
     },
     "metadata": {
      "needs_background": "light"
     },
     "output_type": "display_data"
    }
   ],
   "source": [
    "pyplot.plot(y_test)\n",
    "pyplot.plot(y_pred, color = \"red\")"
   ]
  },
  {
   "cell_type": "code",
   "execution_count": null,
   "metadata": {},
   "outputs": [],
   "source": []
  }
 ],
 "metadata": {
  "interpreter": {
   "hash": "a199850fbe9b2f1658a16eea735881451fc009eba53b7dda86327ce82228d5dd"
  },
  "kernelspec": {
   "display_name": "Python 3.9.7 64-bit ('.thesis': venv)",
   "language": "python",
   "name": "python3"
  },
  "language_info": {
   "codemirror_mode": {
    "name": "ipython",
    "version": 3
   },
   "file_extension": ".py",
   "mimetype": "text/x-python",
   "name": "python",
   "nbconvert_exporter": "python",
   "pygments_lexer": "ipython3",
   "version": "3.9.7"
  },
  "orig_nbformat": 4
 },
 "nbformat": 4,
 "nbformat_minor": 2
}
