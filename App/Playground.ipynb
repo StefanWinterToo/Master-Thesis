{
 "cells": [
  {
   "cell_type": "markdown",
   "metadata": {},
   "source": [
    "# Scrape Data From Reddit Pushshift"
   ]
  },
  {
   "cell_type": "code",
   "execution_count": 3,
   "metadata": {},
   "outputs": [],
   "source": [
    "from Reddit_Loader import Loader\n",
    "import datetime\n",
    "import pandas as pd\n",
    "import pickle\n",
    "import seaborn as sns\n",
    "import matplotlib.pyplot as plt\n",
    "import re\n",
    "import string"
   ]
  },
  {
   "cell_type": "code",
   "execution_count": 8,
   "metadata": {},
   "outputs": [],
   "source": [
    "# Set Start and End Date\n",
    "START = \"01/01/2020\"\n",
    "END = datetime.datetime.now().strftime(\"%d/%m/%Y\") #today -> was until October 26th"
   ]
  },
  {
   "cell_type": "code",
   "execution_count": 13,
   "metadata": {},
   "outputs": [
    {
     "name": "stdout",
     "output_type": "stream",
     "text": [
      "Response cache key: 29983c8c40dd541667743b8ea5bd1315\n"
     ]
    },
    {
     "name": "stderr",
     "output_type": "stream",
     "text": [
      "Not all PushShift shards are active. Query results may be incomplete.\n"
     ]
    },
    {
     "name": "stdout",
     "output_type": "stream",
     "text": [
      "179167 result(s) available in Pushshift\n"
     ]
    },
    {
     "name": "stderr",
     "output_type": "stream",
     "text": [
      "Not all PushShift shards are active. Query results may be incomplete.\n"
     ]
    },
    {
     "name": "stdout",
     "output_type": "stream",
     "text": [
      "Total:: Success Rate: 80.71% - Requests: 2649 - Batches: 266 - Items Remaining: 354\n"
     ]
    },
    {
     "name": "stderr",
     "output_type": "stream",
     "text": [
      "Not all PushShift shards are active. Query results may be incomplete.\n"
     ]
    },
    {
     "name": "stdout",
     "output_type": "stream",
     "text": [
      "354 result(s) not found in Pushshift\n",
      "Retrieved 178813 submissions from Pushshift.\n"
     ]
    }
   ],
   "source": [
    "# Load data from Pushshift and store it as a dataframe\n",
    "l = Loader(\"gme\", START, END, \"wallstreetbets\")\n",
    "submissions = l.load_submissions()"
   ]
  },
  {
   "cell_type": "code",
   "execution_count": 15,
   "metadata": {},
   "outputs": [],
   "source": [
    "# Save as csv\n",
    "submissions.to_csv('./data/submissions.csv', encoding='utf-8', index=False)"
   ]
  },
  {
   "cell_type": "code",
   "execution_count": 14,
   "metadata": {},
   "outputs": [],
   "source": [
    "# Save dataframe as pickle\n",
    "submissions.to_pickle(\"./data/submissions.pkl\")"
   ]
  },
  {
   "cell_type": "code",
   "execution_count": 27,
   "metadata": {},
   "outputs": [],
   "source": [
    "submissions = pd.read_pickle(\"./data/submissions.pkl\")"
   ]
  },
  {
   "cell_type": "markdown",
   "metadata": {},
   "source": [
    "# Data Exploration"
   ]
  },
  {
   "cell_type": "code",
   "execution_count": 5,
   "metadata": {},
   "outputs": [
    {
     "name": "stdout",
     "output_type": "stream",
     "text": [
      "all_awardings, allow_live_comments, author, author_flair_css_class, author_flair_richtext, author_flair_text, author_flair_type, author_fullname, author_patreon_flair, author_premium, awarders, can_mod_post, contest_mode, created_utc, domain, full_link, gildings, id, is_crosspostable, is_meta, is_original_content, is_reddit_media_domain, is_robot_indexable, is_self, is_video, link_flair_background_color, link_flair_css_class, link_flair_richtext, link_flair_template_id, link_flair_text, link_flair_text_color, link_flair_type, locked, media_only, no_follow, num_comments, num_crossposts, over_18, parent_whitelist_status, permalink, pinned, pwls, retrieved_on, score, selftext, send_replies, spoiler, stickied, subreddit, subreddit_id, subreddit_subscribers, subreddit_type, suggested_sort, thumbnail, title, total_awards_received, treatment_tags, upvote_ratio, url, whitelist_status, wls, post_hint, preview, removed_by_category, is_gallery, thumbnail_height, thumbnail_width, url_overridden_by_dest, media_metadata, media, media_embed, secure_media, secure_media_embed, author_flair_background_color, author_flair_text_color, edited, gallery_data, banned_by, author_cakeday, discussion_type, crosspost_parent, crosspost_parent_list, author_flair_template_id, author_is_blocked, is_created_from_ads_ui, steward_reports, gilded, distinguished, collections, "
     ]
    }
   ],
   "source": [
    "# All the available columns in the submissions dataframe\n",
    "for element in submissions:\n",
    "    print(element, end = \", \")"
   ]
  },
  {
   "cell_type": "code",
   "execution_count": 6,
   "metadata": {},
   "outputs": [
    {
     "data": {
      "text/plain": [
       "89"
      ]
     },
     "execution_count": 6,
     "metadata": {},
     "output_type": "execute_result"
    }
   ],
   "source": [
    "l = (\"all_awardings\",\n",
    "\"allow_live_comments\",\n",
    "\"author\",\n",
    "\"author_flair_css_class\",\n",
    "\"author_flair_richtext\",\n",
    "\"author_flair_text\",\n",
    "\"author_flair_type\",\n",
    "\"author_fullname\",\n",
    "\"author_patreon_flair\",\n",
    "\"author_premium\",\n",
    "\"awarders\",\n",
    "\"can_mod_post\",\n",
    "\"contest_mode\",\n",
    "\"created_utc\",\n",
    "\"domain\",\n",
    "\"full_link\",\n",
    "\"gildings\",\n",
    "\"id\",\n",
    "\"is_crosspostable\",\n",
    "\"is_meta\",\n",
    "\"is_original_content\",\n",
    "\"is_reddit_media_domain\",\n",
    "\"is_robot_indexable\",\n",
    "\"is_self\",\n",
    "\"is_video\",\n",
    "\"link_flair_background_color\",\n",
    "\"link_flair_css_class\",\n",
    "\"link_flair_richtext\",\n",
    "\"link_flair_template_id\",\n",
    "\"link_flair_text\",\n",
    "\"link_flair_text_color\",\n",
    "\"link_flair_type\",\n",
    "\"locked\",\n",
    "\"media_only\",\n",
    "\"no_follow\",\n",
    "\"num_comments\",\n",
    "\"num_crossposts\",\n",
    "\"over_18\",\n",
    "\"parent_whitelist_status\",\n",
    "\"permalink\",\n",
    "\"pinned\",\n",
    "\"pwls\",\n",
    "\"retrieved_on\",\n",
    "\"score\",\n",
    "\"selftext\",\n",
    "\"send_replies\",\n",
    "\"spoiler\",\n",
    "\"stickied\",\n",
    "\"subreddit\",\n",
    "\"subreddit_id\",\n",
    "\"subreddit_subscribers\",\n",
    "\"subreddit_type\",\n",
    "\"suggested_sort\",\n",
    "\"thumbnail\",\n",
    "\"title\",\n",
    "\"total_awards_received\",\n",
    "\"treatment_tags\",\n",
    "\"upvote_ratio\",\n",
    "\"url\",\n",
    "\"whitelist_status\",\n",
    "\"wls\",\n",
    "\"post_hint\",\n",
    "\"preview\",\n",
    "\"removed_by_category\",\n",
    "\"is_gallery\",\n",
    "\"thumbnail_height\",\n",
    "\"thumbnail_width\",\n",
    "\"url_overridden_by_dest\",\n",
    "\"media_metadata\",\n",
    "\"media\",\n",
    "\"media_embed\",\n",
    "\"secure_media\",\n",
    "\"secure_media_embed\",\n",
    "\"author_flair_background_color\",\n",
    "\"author_flair_text_color\",\n",
    "\"edited\",\n",
    "\"gallery_data\",\n",
    "\"banned_by\",\n",
    "\"author_cakeday\",\n",
    "\"discussion_type\",\n",
    "\"crosspost_parent\",\n",
    "\"crosspost_parent_list\",\n",
    "\"author_flair_template_id\",\n",
    "\"author_is_blocked\",\n",
    "\"is_created_from_ads_ui\",\n",
    "\"steward_reports\",\n",
    "\"gilded\",\n",
    "\"distinguished\",\n",
    "\"collections\")\n",
    "\n",
    "len(l)"
   ]
  },
  {
   "cell_type": "code",
   "execution_count": 7,
   "metadata": {},
   "outputs": [
    {
     "name": "stdout",
     "output_type": "stream",
     "text": [
      "5\n"
     ]
    }
   ],
   "source": [
    "# The number of Awards can be used as a proxy for the awards given\n",
    "print(len(submissions[\"all_awardings\"][44][0][\"resized_icons\"])) # We only count the unique awards given, not if an award has been given multiple times. May figure it out later.\n",
    "\n",
    "# is_video can be useful to weed out posts, that do not have any content and only a video. Might still be able to perform sentiment analysis on the title.\n",
    "# link_flair_text can be useful to classify content: Meme, Yolo, etc.\n",
    "# subreddit_subscribers is a cool statistic\n",
    "# thumbnail can be used to see if posts with a thumbnail have a bigger impact\n",
    "# media refers to external links. Can probably remove all those entries\n",
    "\n",
    "# To do:\n",
    "# double check the upvote ratio, it seems to be wrong\n",
    "# see how accurate removed_by_category is"
   ]
  },
  {
   "cell_type": "code",
   "execution_count": 28,
   "metadata": {},
   "outputs": [],
   "source": [
    "# Drop unneeded columns\n",
    "## allow_live_comments is Boolean\n",
    "## author_flair_css_class shows the css class of the author_flair\n",
    "## author_flair_richtext, author_flair_text, author_flair_type can be ignored, because the author can assign a flair to himself if he wants to\n",
    "## author_fullname is just the id for the user\n",
    "## author_patreon_flair, author_premium, domain, gildings, is_crosspostable, is_original_content, is_reddit_media_domain, is_robot_indexable,\n",
    "## is_self, link_flair_background_color, link_flair_text_color, link_flair_css_class, link_flair_template_id, locked, media_only,\n",
    "## no_follow, over_18, parent_whitelist_status, permalink, pwls, send_replies, spoiler, stickied, suggested_sort, subreddit_type, treatment_tags,\n",
    "## whitelist_status, wls, preview, is_gallery, thumbnail_height, thumbnail_width, url_overridden_by_dest, media_metadata, secure_media,\n",
    "## secure_media_embed, author_flair_background_color, author_flair_text_color, edited, gallery_data, banned_by do not seem to be helpful for sentiment analysis\n",
    "## awarders is always empty\n",
    "## can_mod_post, contest_mode, is_meta, pinned are always False\n",
    "## link_flair_type, discussion_type, crosspost_parent, crosspost_parent_list, author_flair_template_id, author_is_blocked,\n",
    "## is_created_from_ads_ui, steward_reports, gilded, distinguished, collections don't really say anything\n",
    "## link_flair_richtext is a dictionary for for link_flair(which is not discarded)\n",
    "## total_awards_received is similar to all_awardings, but not accurate\n",
    "submissions = submissions.drop(columns = [\"allow_live_comments\", \"author_flair_css_class\", \"author_flair_richtext\", \n",
    "                            \"author_flair_text\", \"author_flair_type\", \"author_fullname\", \"author_patreon_flair\",\n",
    "                            \"author_premium\", \"domain\", \"awarders\", \"can_mod_post\", \"contest_mode\",\n",
    "                            \"gildings\", \"is_crosspostable\", \"is_meta\", \"is_original_content\", \"is_reddit_media_domain\",\n",
    "                            \"is_robot_indexable\", \"is_self\", \"link_flair_background_color\", \"link_flair_text_color\",\n",
    "                            \"link_flair_type\", \"link_flair_css_class\", \"link_flair_richtext\", \"link_flair_template_id\",\n",
    "                            \"locked\", \"media_only\", \"no_follow\", \"over_18\", \"parent_whitelist_status\", \"permalink\",\n",
    "                            \"pinned\", \"pwls\", \"send_replies\", \"spoiler\", \"stickied\", \"subreddit_type\", \"suggested_sort\",\n",
    "                            \"treatment_tags\", \"whitelist_status\", \"wls\", \"preview\", \"is_gallery\", \"thumbnail_height\",\n",
    "                            \"thumbnail_width\", \"url_overridden_by_dest\", \"media_metadata\", \"secure_media\", \"secure_media_embed\",\n",
    "                            \"author_flair_background_color\", \"author_flair_text_color\", \"edited\", \"gallery_data\",\n",
    "                            \"banned_by\", \"discussion_type\", \"crosspost_parent\", \"crosspost_parent_list\",\n",
    "                            \"author_flair_template_id\", \"author_is_blocked\", \"is_created_from_ads_ui\",\n",
    "                            \"steward_reports\", \"gilded\", \"distinguished\", \"collections\"])"
   ]
  },
  {
   "cell_type": "code",
   "execution_count": 29,
   "metadata": {},
   "outputs": [
    {
     "name": "stdout",
     "output_type": "stream",
     "text": [
      "Index(['all_awardings', 'author', 'created_utc', 'full_link', 'id', 'is_video',\n",
      "       'num_comments', 'num_crossposts', 'retrieved_on', 'score', 'selftext',\n",
      "       'subreddit', 'subreddit_id', 'subreddit_subscribers', 'thumbnail',\n",
      "       'title', 'total_awards_received', 'upvote_ratio', 'url',\n",
      "       'link_flair_text', 'post_hint', 'removed_by_category', 'author_cakeday',\n",
      "       'media', 'media_embed'],\n",
      "      dtype='object')\n"
     ]
    }
   ],
   "source": [
    "print(submissions.columns)"
   ]
  },
  {
   "cell_type": "code",
   "execution_count": 30,
   "metadata": {},
   "outputs": [],
   "source": [
    "submissions[\"missing_content\"] = False"
   ]
  },
  {
   "cell_type": "code",
   "execution_count": 31,
   "metadata": {},
   "outputs": [],
   "source": [
    "submissions.loc[(submissions[\"selftext\"] == \"[removed]\"), \"missing_content\"] = True"
   ]
  },
  {
   "cell_type": "code",
   "execution_count": 32,
   "metadata": {},
   "outputs": [],
   "source": [
    "submissions.loc[(submissions[\"selftext\"] == \"[deleted]\"), \"missing_content\"] = True"
   ]
  },
  {
   "cell_type": "code",
   "execution_count": 33,
   "metadata": {},
   "outputs": [],
   "source": [
    "empty_content = []\n",
    "for i, text in enumerate(submissions[\"selftext\"]):\n",
    "    if(len(str(text)) == 0):\n",
    "        empty_content.append(i)\n",
    "\n",
    "submissions.loc[empty_content, \"missing_content\"] = True\n"
   ]
  },
  {
   "cell_type": "code",
   "execution_count": 34,
   "metadata": {},
   "outputs": [
    {
     "data": {
      "text/plain": [
       "True     135828\n",
       "False     43716\n",
       "Name: missing_content, dtype: int64"
      ]
     },
     "execution_count": 34,
     "metadata": {},
     "output_type": "execute_result"
    }
   ],
   "source": [
    "submissions[\"missing_content\"].value_counts()"
   ]
  },
  {
   "cell_type": "code",
   "execution_count": 35,
   "metadata": {},
   "outputs": [
    {
     "data": {
      "text/html": [
       "<div>\n",
       "<style scoped>\n",
       "    .dataframe tbody tr th:only-of-type {\n",
       "        vertical-align: middle;\n",
       "    }\n",
       "\n",
       "    .dataframe tbody tr th {\n",
       "        vertical-align: top;\n",
       "    }\n",
       "\n",
       "    .dataframe thead th {\n",
       "        text-align: right;\n",
       "    }\n",
       "</style>\n",
       "<table border=\"1\" class=\"dataframe\">\n",
       "  <thead>\n",
       "    <tr style=\"text-align: right;\">\n",
       "      <th></th>\n",
       "      <th>selftext</th>\n",
       "    </tr>\n",
       "  </thead>\n",
       "  <tbody>\n",
       "    <tr>\n",
       "      <th>86918</th>\n",
       "      <td>NaN</td>\n",
       "    </tr>\n",
       "  </tbody>\n",
       "</table>\n",
       "</div>"
      ],
      "text/plain": [
       "      selftext\n",
       "86918      NaN"
      ]
     },
     "execution_count": 35,
     "metadata": {},
     "output_type": "execute_result"
    }
   ],
   "source": [
    "title = \"Lol I just joined today and bought GME at $90. What are yall doing?\"\n",
    "submissions[submissions[\"title\"] == title][[\"selftext\"]]"
   ]
  },
  {
   "cell_type": "code",
   "execution_count": 36,
   "metadata": {},
   "outputs": [],
   "source": []
  },
  {
   "cell_type": "markdown",
   "metadata": {},
   "source": [
    "# Typical Powerlaw\n",
    "Almost 80% of posts were deleted or contain no content!"
   ]
  },
  {
   "cell_type": "code",
   "execution_count": 37,
   "metadata": {},
   "outputs": [
    {
     "name": "stdout",
     "output_type": "stream",
     "text": [
      "Posts with text: 37966\n",
      "Posts with removed text: 141578\n",
      "Proportion of posts with removed text: 0.79\n"
     ]
    }
   ],
   "source": [
    "ful_text = len(submissions[submissions[\"missing_content\"] == False][\"selftext\"])\n",
    "rem_text = len(submissions[submissions[\"missing_content\"] == True][\"selftext\"])\n",
    "\n",
    "# How many posts have the text not removed?\n",
    "print(\"Posts with text:\", ful_text)\n",
    "\n",
    "# How many posts have the text \"removed\"?\n",
    "print(\"Posts with removed text:\", rem_text)\n",
    "\n",
    "print(\"Proportion of posts with removed text:\", round((rem_text)/(rem_text+ful_text),2))"
   ]
  },
  {
   "cell_type": "code",
   "execution_count": 38,
   "metadata": {},
   "outputs": [
    {
     "name": "stdout",
     "output_type": "stream",
     "text": [
      "Removed by:\n",
      " selftext   removed_by_category\n",
      "[removed]  moderator              64059\n",
      "           reddit                  2201\n",
      "           automod_filtered         620\n",
      "           author                     1\n",
      "dtype: int64\n",
      "---------------------------------------------------\n",
      "Removed with x_comments:\n",
      " selftext   num_comments\n",
      "[removed]  0               52176\n",
      "           2                8593\n",
      "           1                1969\n",
      "           4                 955\n",
      "           3                 582\n",
      "                           ...  \n",
      "           192                 1\n",
      "           191                 1\n",
      "           190                 1\n",
      "           186                 1\n",
      "           64470               1\n",
      "Length: 211, dtype: int64\n",
      "---------------------------------------------------\n",
      "Removed with x_comments:\n",
      " selftext   score\n",
      "[removed]  1        60773\n",
      "           2         1516\n",
      "           0         1412\n",
      "           3          459\n",
      "           4          261\n",
      "                    ...  \n",
      "           180          1\n",
      "           179          1\n",
      "           173          1\n",
      "           170          1\n",
      "           42345        1\n",
      "Length: 217, dtype: int64\n"
     ]
    }
   ],
   "source": [
    "## Quite a lot of posts got removed. This is unfortunate. However, the title is still available. So I might still use the title.\n",
    "\n",
    "# Who usually removes the post?\n",
    "print(\"Removed by:\\n\", submissions[submissions[\"selftext\"] == \"[removed]\"][[\"selftext\", \"removed_by_category\"]].value_counts())\n",
    "print(\"-----------------\"*3)\n",
    "# Were there any posts with a lot of comments that were removed?\n",
    "print(\"Removed with x_comments:\\n\", submissions[submissions[\"selftext\"] == \"[removed]\"][[\"selftext\", \"num_comments\"]].value_counts())\n",
    "print(\"-----------------\"*3)\n",
    "# Were there any posts with a high score that were removed?\n",
    "print(\"Removed with x_comments:\\n\", submissions[submissions[\"selftext\"] == \"[removed]\"][[\"selftext\", \"score\"]].value_counts())"
   ]
  },
  {
   "cell_type": "code",
   "execution_count": 19,
   "metadata": {},
   "outputs": [],
   "source": [
    "# Put removed submissions into its own dataframe and then only use submissions that still exist.\n",
    "submissions_removed = submissions[submissions[\"selftext\"] == \"[removed]\"]\n",
    "submissions = submissions[submissions[\"selftext\"] != \"[removed]\"]"
   ]
  },
  {
   "cell_type": "code",
   "execution_count": 20,
   "metadata": {},
   "outputs": [],
   "source": [
    "# Save submissions with flag to csv to do some manual analysis\n",
    "submissions.to_csv('./data/test.csv', encoding='utf-8', index=False)"
   ]
  },
  {
   "cell_type": "markdown",
   "metadata": {},
   "source": [
    "# Preprocess Title"
   ]
  },
  {
   "cell_type": "markdown",
   "metadata": {},
   "source": [
    "source: https://realpython.com/nltk-nlp-python/"
   ]
  },
  {
   "cell_type": "markdown",
   "metadata": {},
   "source": [
    "<b>Tokenizing by word:</b> Words are like the atoms of natural language. They’re the smallest unit of meaning that still makes sense on its own. Tokenizing your text by word allows you to identify words that come up particularly often. For example, if you were analyzing a group of job ads, then you might find that the word “Python” comes up often. That could suggest high demand for Python knowledge, but you’d need to look deeper to know more."
   ]
  },
  {
   "cell_type": "markdown",
   "metadata": {},
   "source": [
    "<b>Tokenizing by sentence:</b> When you tokenize by sentence, you can analyze how those words relate to one another and see more context. Are there a lot of negative words around the word “Python” because the hiring manager doesn’t like Python? Are there more terms from the domain of herpetology than the domain of software development, suggesting that you may be dealing with an entirely different kind of python than you were expecting?"
   ]
  },
  {
   "cell_type": "code",
   "execution_count": null,
   "metadata": {},
   "outputs": [],
   "source": []
  },
  {
   "cell_type": "markdown",
   "metadata": {},
   "source": [
    "# Active Learner"
   ]
  },
  {
   "cell_type": "markdown",
   "metadata": {},
   "source": [
    "Step 1: Read in seed data and concatenate the title and content"
   ]
  },
  {
   "cell_type": "code",
   "execution_count": 2,
   "metadata": {},
   "outputs": [],
   "source": [
    "seed = pd.read_excel(\"./data/annotation.xlsx\", header = None, usecols = range(0, 4))"
   ]
  },
  {
   "cell_type": "code",
   "execution_count": 3,
   "metadata": {},
   "outputs": [],
   "source": [
    "# Rename columns\n",
    "seed = seed.rename(columns = {0 : \"index\", 1 : \"title\", 2 : \"content\", 3 : \"sentiment\"})"
   ]
  },
  {
   "cell_type": "code",
   "execution_count": 4,
   "metadata": {},
   "outputs": [
    {
     "data": {
      "text/plain": [
       "sentiment\n",
       "bullish      9357\n",
       "neutral      5119\n",
       "bearish      3479\n",
       "dtype: int64"
      ]
     },
     "execution_count": 4,
     "metadata": {},
     "output_type": "execute_result"
    }
   ],
   "source": [
    "seed[[\"sentiment\"]].value_counts()"
   ]
  },
  {
   "cell_type": "code",
   "execution_count": 5,
   "metadata": {},
   "outputs": [],
   "source": [
    "import main\n",
    "submissions = pd.read_pickle(\"./data/submissions.pkl\")\n",
    "submissions = main.drop_unneeded_columns(submissions)\n",
    "submissions = main.flag_records_with_no_content(submissions)"
   ]
  },
  {
   "cell_type": "code",
   "execution_count": 6,
   "metadata": {},
   "outputs": [],
   "source": [
    "# Remove [removed]/[deleted] from selftext if it is missing\n",
    "submissions.loc[submissions[\"missing_content\"] == True, \"selftext\"] = \"\""
   ]
  },
  {
   "cell_type": "code",
   "execution_count": 7,
   "metadata": {},
   "outputs": [
    {
     "name": "stdout",
     "output_type": "stream",
     "text": [
      "[20]\n"
     ]
    }
   ],
   "source": [
    "## Exploartory!\n",
    "\n",
    "# Find indexes where annotation does not have the same text as the submissions df\n",
    "index_mismatch = []\n",
    "for value in seed[\"index\"]:\n",
    "    if seed[\"title\"][value/10] != submissions[\"title\"][value]:\n",
    "        index_mismatch.append(value)\n",
    "\n",
    "print(index_mismatch)\n",
    "\n",
    "# For some reason there is one mismatch. Since it is just one out of almost 18000, it does not really matter..."
   ]
  },
  {
   "cell_type": "code",
   "execution_count": 8,
   "metadata": {},
   "outputs": [],
   "source": [
    "# Concatenate Text\n",
    "submissions[\"text\"] = submissions[\"title\"] + \" \" + submissions[\"selftext\"]"
   ]
  },
  {
   "cell_type": "code",
   "execution_count": 9,
   "metadata": {},
   "outputs": [],
   "source": [
    "# Drop columns\n",
    "submissions = submissions.drop(columns = {\"title\", \"selftext\"})\n",
    "\n",
    "# Add sentiment column\n",
    "submissions[\"sentiment\"] = \"\"\n",
    "\n",
    "# Add known labels\n",
    "for i in seed[\"index\"]:\n",
    "    submissions.loc[i, \"sentiment\"] = seed.loc[i/10, \"sentiment\"]"
   ]
  },
  {
   "cell_type": "markdown",
   "metadata": {},
   "source": [
    "Step 2: Prepare Data"
   ]
  },
  {
   "cell_type": "code",
   "execution_count": 3,
   "metadata": {},
   "outputs": [],
   "source": [
    "import nltk\n",
    "import ssl\n",
    "\n",
    "try:\n",
    "    _create_unverified_https_context = ssl._create_unverified_context\n",
    "except AttributeError:\n",
    "    pass\n",
    "else:\n",
    "    ssl._create_default_https_context = _create_unverified_https_context\n",
    "#nltk.download('wordnet')\n",
    "#nltk.download()"
   ]
  },
  {
   "cell_type": "code",
   "execution_count": 11,
   "metadata": {},
   "outputs": [],
   "source": [
    "def remove_URL(sample):\n",
    "    \"\"\"Remove URLs from a sample string\"\"\"\n",
    "    return re.sub(r\"http\\S+\", \"\", str(sample))\n",
    "\n",
    "submissions[\"text\"] = submissions[\"text\"].apply(lambda x: remove_URL(x))"
   ]
  },
  {
   "cell_type": "code",
   "execution_count": 12,
   "metadata": {},
   "outputs": [],
   "source": [
    "def remove_escape_newline(sample):\n",
    "    \"\"\"Remove URLs from a sample string\"\"\"\n",
    "    return re.sub(r\"\\n\", \"\", str(sample))\n",
    "\n",
    "submissions[\"text\"] = submissions[\"text\"].apply(lambda x: remove_escape_newline(x))"
   ]
  },
  {
   "cell_type": "code",
   "execution_count": 13,
   "metadata": {},
   "outputs": [],
   "source": [
    "def remove_escape_tab(sample):\n",
    "    \"\"\"Remove URLs from a sample string\"\"\"\n",
    "    return re.sub(r\"\\t\", \"\", str(sample))\n",
    "\n",
    "submissions[\"text\"] = submissions[\"text\"].apply(lambda x: remove_escape_tab(x))"
   ]
  },
  {
   "cell_type": "code",
   "execution_count": 14,
   "metadata": {},
   "outputs": [],
   "source": [
    "def remove_punctuation(text):\n",
    "    punctuationfree=\"\".join([i for i in str(text) if i not in string.punctuation])\n",
    "    return punctuationfree\n",
    "\n",
    "#storing the puntuation free text\n",
    "submissions[\"text\"] = submissions[\"text\"].apply(lambda x: remove_punctuation(x))"
   ]
  },
  {
   "cell_type": "code",
   "execution_count": 15,
   "metadata": {},
   "outputs": [],
   "source": [
    "# lowercase\n",
    "submissions[\"text\"] = submissions[\"text\"].str.lower()"
   ]
  },
  {
   "cell_type": "code",
   "execution_count": 16,
   "metadata": {},
   "outputs": [],
   "source": [
    "def remove_some_chars(sample):\n",
    "    \"\"\"Remove URLs from a sample string\"\"\"\n",
    "    return re.sub(r\"[“”—-]\", \"\", str(sample))\n",
    "\n",
    "submissions[\"text\"] = submissions[\"text\"].apply(lambda x: remove_some_chars(x))\n"
   ]
  },
  {
   "cell_type": "code",
   "execution_count": 17,
   "metadata": {},
   "outputs": [],
   "source": [
    "import spacy\n",
    "nlp = spacy.load('en_core_web_sm', disable=['parser', 'ner'])\n",
    "\n",
    "def lemmatize_text(sentence):\n",
    "    doc = nlp(sentence)\n",
    "    lem = \" \".join([token.lemma_ for token in doc])\n",
    "    return lem\n",
    "\n",
    "submissions[\"text\"] = submissions[\"text\"].apply(lambda x: lemmatize_text(x))"
   ]
  },
  {
   "cell_type": "code",
   "execution_count": 18,
   "metadata": {},
   "outputs": [],
   "source": [
    "def remove_stopwords(l):\n",
    "    new_list = []\n",
    "    new_sentence = []\n",
    "    for sentence in l:\n",
    "        for word in sentence.split(\" \"): # Here we also tokenize our sentence\n",
    "            if word not in nltk.corpus.stopwords.words('english') and len(word) > 0:\n",
    "                new_sentence.append(word)\n",
    "        new_list.append(new_sentence)\n",
    "        new_sentence = []\n",
    "    return new_list\n",
    "\n",
    "submissions[\"text\"] = remove_stopwords(list(submissions[\"text\"]))"
   ]
  },
  {
   "cell_type": "code",
   "execution_count": 19,
   "metadata": {},
   "outputs": [],
   "source": [
    "def remove_special_character(l):\n",
    "    new_l = []\n",
    "    for word in l:\n",
    "        if word != \"-\" and word != \"—\" and word != \"¿\":\n",
    "            new_l.append(word)\n",
    "    return new_l\n",
    "submissions[\"text\"] = submissions[\"text\"].apply(lambda x: remove_special_character(x))   "
   ]
  },
  {
   "cell_type": "code",
   "execution_count": 20,
   "metadata": {},
   "outputs": [],
   "source": [
    "submissions.to_pickle(\"./data/cleaned_submissions.pkl\")"
   ]
  },
  {
   "cell_type": "code",
   "execution_count": 4,
   "metadata": {},
   "outputs": [],
   "source": [
    "data = pd.read_pickle(\"./data/cleaned_submissions.pkl\")\n",
    "# del submissions"
   ]
  },
  {
   "cell_type": "code",
   "execution_count": 5,
   "metadata": {},
   "outputs": [],
   "source": [
    "def count_occurances(dic):\n",
    "    one, two, three, four, five, six, seven, eight, nine = 0, 0, 0, 0, 0, 0, 0, 0, 0\n",
    "    for item in dic.values():\n",
    "        if item == 1:\n",
    "            one = one + 1\n",
    "        if item == 2:\n",
    "            two = two + 1\n",
    "        if item == 3:\n",
    "            three = three + 1\n",
    "        if item == 4:\n",
    "            four = four + 1\n",
    "        if item == 5:\n",
    "            five = five + 1\n",
    "        if item == 6:\n",
    "            six = six + 1\n",
    "        if item == 7:\n",
    "            seven = seven + 1\n",
    "        if item == 8:\n",
    "            eight = eight + 1\n",
    "        if item == 9:\n",
    "            nine = nine + 1\n",
    "    return one, two, three, four, five, six, seven, eight, nine"
   ]
  },
  {
   "cell_type": "code",
   "execution_count": 6,
   "metadata": {},
   "outputs": [
    {
     "name": "stdout",
     "output_type": "stream",
     "text": [
      "Number of unique words: 145292\n",
      "Number of = 1:  92874 - 64 %\n",
      "Number of = 2:  19064 - 13 %\n",
      "Number of = 3:  7206 - 5 %\n",
      "Number of = 4:  4528 - 3 %\n",
      "Number of = 5:  2587 - 2 %\n",
      "Number of = 6:  1949 - 1 %\n",
      "Number of = 7:  1385 - 1 %\n",
      "Number of = 8:  1228 - 1 %\n",
      "Number of = 9:  1008 - 1 %\n",
      "Number of > 10:  13463 - 9 %\n"
     ]
    }
   ],
   "source": [
    "import collections\n",
    "words = data['text'].tolist()\n",
    "word_count = collections.Counter([x for sublist in words for x in sublist])\n",
    "unique_word = len(word_count)\n",
    "\n",
    "print(\"Number of unique words:\", unique_word)\n",
    "print(\"Number of = 1: \", count_occurances(word_count)[0], \"-\", int(round(count_occurances(word_count)[0]/unique_word, 2)*100),\"%\")\n",
    "print(\"Number of = 2: \", count_occurances(word_count)[1], \"-\", int(round(count_occurances(word_count)[1]/unique_word, 2)*100),\"%\")\n",
    "print(\"Number of = 3: \", count_occurances(word_count)[2], \"-\", int(round(count_occurances(word_count)[2]/unique_word, 2)*100),\"%\")\n",
    "print(\"Number of = 4: \", count_occurances(word_count)[3], \"-\", int(round(count_occurances(word_count)[3]/unique_word, 2)*100),\"%\")\n",
    "print(\"Number of = 5: \", count_occurances(word_count)[4], \"-\", int(round(count_occurances(word_count)[4]/unique_word, 2)*100),\"%\")\n",
    "print(\"Number of = 6: \", count_occurances(word_count)[5], \"-\", int(round(count_occurances(word_count)[5]/unique_word, 2)*100),\"%\")\n",
    "print(\"Number of = 7: \", count_occurances(word_count)[6], \"-\", int(round(count_occurances(word_count)[6]/unique_word, 2)*100),\"%\")\n",
    "print(\"Number of = 8: \", count_occurances(word_count)[7], \"-\", int(round(count_occurances(word_count)[7]/unique_word, 2)*100),\"%\")\n",
    "print(\"Number of = 9: \", count_occurances(word_count)[8], \"-\", int(round(count_occurances(word_count)[8]/unique_word, 2)*100),\"%\")\n",
    "print(\"Number of > 10: \", unique_word - sum(count_occurances(word_count)), \"-\", int(round( ( unique_word - sum(count_occurances(word_count)) ) / unique_word, 2)*100),\"%\")"
   ]
  },
  {
   "cell_type": "code",
   "execution_count": null,
   "metadata": {},
   "outputs": [],
   "source": []
  },
  {
   "cell_type": "code",
   "execution_count": 60,
   "metadata": {},
   "outputs": [],
   "source": [
    "text = data[\"text\"]\n",
    "labels = data[\"sentiment\"]"
   ]
  },
  {
   "cell_type": "code",
   "execution_count": 61,
   "metadata": {},
   "outputs": [],
   "source": [
    "indices = []\n",
    "for i in range(0, len(labels), 10):\n",
    "    indices.append(i)"
   ]
  },
  {
   "cell_type": "code",
   "execution_count": 10,
   "metadata": {},
   "outputs": [],
   "source": [
    "text = text[:1000]\n",
    "labels = labels[:1000]"
   ]
  },
  {
   "cell_type": "code",
   "execution_count": 10,
   "metadata": {},
   "outputs": [
    {
     "name": "stderr",
     "output_type": "stream",
     "text": [
      "*c* argument looks like a single numeric RGB or RGBA sequence, which should be avoided as value-mapping will have precedence in case its length matches with *x* & *y*.  Please use the *color* keyword-argument or provide a 2D array with a single row if you intend to specify the same RGB or RGBA value for all points.\n",
      "*c* argument looks like a single numeric RGB or RGBA sequence, which should be avoided as value-mapping will have precedence in case its length matches with *x* & *y*.  Please use the *color* keyword-argument or provide a 2D array with a single row if you intend to specify the same RGB or RGBA value for all points.\n",
      "*c* argument looks like a single numeric RGB or RGBA sequence, which should be avoided as value-mapping will have precedence in case its length matches with *x* & *y*.  Please use the *color* keyword-argument or provide a 2D array with a single row if you intend to specify the same RGB or RGBA value for all points.\n"
     ]
    },
    {
     "data": {
      "image/png": "[encoded data removed]",
      "text/plain": [
       "<Figure size 576x396 with 1 Axes>"
      ]
     },
     "metadata": {},
     "output_type": "display_data"
    },
    {
     "data": {
      "text/plain": [
       "<AxesSubplot:title={'center':'TSNE Projection of 1000 Documents'}>"
      ]
     },
     "execution_count": 10,
     "metadata": {},
     "output_type": "execute_result"
    }
   ],
   "source": [
    "# Playing with t-sne\n",
    "\n",
    "from sklearn.feature_extraction.text import TfidfVectorizer\n",
    "\n",
    "from yellowbrick.text import TSNEVisualizer\n",
    "from yellowbrick.datasets import load_hobbies\n",
    "\n",
    "# Load the data and create document vectors\n",
    "corpus = load_hobbies()\n",
    "tfidf = TfidfVectorizer(preprocessor=' '.join, lowercase=False)\n",
    "\n",
    "X = tfidf.fit_transform(text)\n",
    "y = labels\n",
    "\n",
    "# Create the visualizer and draw the vectors\n",
    "tsne = TSNEVisualizer()\n",
    "tsne.fit(X, y)\n",
    "tsne.show()"
   ]
  },
  {
   "cell_type": "code",
   "execution_count": null,
   "metadata": {},
   "outputs": [],
   "source": []
  },
  {
   "cell_type": "code",
   "execution_count": null,
   "metadata": {},
   "outputs": [],
   "source": []
  },
  {
   "cell_type": "code",
   "execution_count": null,
   "metadata": {},
   "outputs": [],
   "source": []
  },
  {
   "cell_type": "code",
   "execution_count": null,
   "metadata": {},
   "outputs": [],
   "source": []
  },
  {
   "cell_type": "markdown",
   "metadata": {},
   "source": [
    "# Active Learner\n",
    "Using Parameters from Park, Lee & Moon  \n",
    "Pool based, SVM, inductive -> those parameters are standard  \n",
    "Initial set: Normally, k-means is used. PLM recommend their own algorithm, LCA.  \n",
    "After all documents are labeled, the corpus becomes input to the Sentiment Lexicon Extraction Model (SLE-BE), which creates the domain-specific lexicon."
   ]
  },
  {
   "cell_type": "code",
   "execution_count": 82,
   "metadata": {},
   "outputs": [
    {
     "data": {
      "text/plain": [
       "0         [gamestop, short, squeeze, discussion, short, ...\n",
       "1                 [gme, yolo, monthend, update, june, 2020]\n",
       "2         [gme, dd, new, console, release, backwards, co...\n",
       "3         [gme, put, seem, like, gamestop, become, obsol...\n",
       "4         [wee, bit, dd, new, ps5, affect, sne, gamestop...\n",
       "                                ...                        \n",
       "179539    [robinhood, block, amc, bb, nok, amp, gme, I, ...\n",
       "179540                                  [gme, 350, late, 🚀]\n",
       "179541    [I, late, gme, love, switzerland, 🚀, 🚀, 🚀, 🚀, ...\n",
       "179542    [tsla, amzn, zm, roku, nflx, aapl, go, skyrock...\n",
       "179543    [gme, trade, I, know, optional, app, buy, sell...\n",
       "Name: text, Length: 179544, dtype: object"
      ]
     },
     "execution_count": 82,
     "metadata": {},
     "output_type": "execute_result"
    }
   ],
   "source": [
    "text = data[\"text\"]\n",
    "labels = data[\"sentiment\"]\n",
    "\n",
    "indices = []\n",
    "for i in range(0, len(labels), 10):\n",
    "    indices.append(i)\n",
    "    \n",
    "# Set seed\n",
    "X_seed = text[indices]\n",
    "y_seed = labels[indices]\n",
    "\n",
    "# Normal data:\n",
    "data[\"text\"]"
   ]
  },
  {
   "cell_type": "code",
   "execution_count": 89,
   "metadata": {},
   "outputs": [],
   "source": [
    "# Encode labels\n",
    "from sklearn.preprocessing import LabelEncoder\n",
    "\n",
    "# Labels\n",
    "lenc = LabelEncoder()\n",
    "y_train = lenc.fit_transform(y_seed)\n",
    "\n",
    "# Vectorize Text\n",
    "from sklearn.feature_extraction.text import TfidfVectorizer\n",
    "tfidf = TfidfVectorizer(preprocessor=' '.join, lowercase=False, min_df=5) # min_df = Minimum occurance of words\n",
    "X_train = tfidf.fit_transform(data[\"text\"])"
   ]
  },
  {
   "cell_type": "code",
   "execution_count": 91,
   "metadata": {},
   "outputs": [],
   "source": [
    "y_train_seed = y_train\n",
    "X_train_seed = X_train[indices]"
   ]
  },
  {
   "cell_type": "code",
   "execution_count": 111,
   "metadata": {},
   "outputs": [],
   "source": [
    "new_indices = []\n",
    "for i in range(0, len(data[\"text\"].index)):\n",
    "    if i not in indices:\n",
    "        new_indices.append(i)"
   ]
  },
  {
   "cell_type": "code",
   "execution_count": 116,
   "metadata": {},
   "outputs": [],
   "source": [
    "X_train_pool = X_train[new_indices]"
   ]
  },
  {
   "cell_type": "code",
   "execution_count": 124,
   "metadata": {},
   "outputs": [],
   "source": [
    "from modAL.models import ActiveLearner\n",
    "from modAL.uncertainty import uncertainty_sampling\n",
    "from sklearn.svm import SVC\n",
    "\n",
    "learner = ActiveLearner(\n",
    "    estimator = SVC(probability=True),\n",
    "    X_training = X_train_seed,\n",
    "    y_training = y_train_seed\n",
    ")"
   ]
  },
  {
   "cell_type": "code",
   "execution_count": 125,
   "metadata": {},
   "outputs": [],
   "source": [
    "query_idx, query_sample = learner.query(X_train_pool)"
   ]
  },
  {
   "cell_type": "code",
   "execution_count": 149,
   "metadata": {},
   "outputs": [
    {
     "name": "stdout",
     "output_type": "stream",
     "text": [
      "[79422] \n",
      "\n",
      "   (0, 8085)\t0.5320041686767372\n",
      "  (0, 8300)\t0.0772008763417568\n",
      "  (0, 8686)\t0.43779329884422785\n",
      "  (0, 15144)\t0.5296971883218979\n",
      "  (0, 17000)\t0.35877644618411414\n",
      "  (0, 17580)\t0.3317362914079504\n"
     ]
    }
   ],
   "source": [
    "print(query_idx, \"\\n\\n\", query_sample)"
   ]
  },
  {
   "cell_type": "code",
   "execution_count": null,
   "metadata": {},
   "outputs": [],
   "source": [
    "# Is the above "
   ]
  },
  {
   "cell_type": "markdown",
   "metadata": {},
   "source": [
    "## Fun Section Below"
   ]
  },
  {
   "cell_type": "code",
   "execution_count": 58,
   "metadata": {},
   "outputs": [
    {
     "data": {
      "text/plain": [
       "[('hop', 0.79681396484375),\n",
       " ('bandwagon', 0.7894788384437561),\n",
       " ('boat', 0.754088282585144),\n",
       " ('gravy', 0.7140452861785889),\n",
       " ('wagon', 0.6746969819068909),\n",
       " ('aboard', 0.6687965989112854),\n",
       " ('hype', 0.6289212703704834),\n",
       " ('choo', 0.6148343086242676),\n",
       " ('ship', 0.6055804491043091),\n",
       " ('onboard', 0.597622811794281)]"
      ]
     },
     "execution_count": 58,
     "metadata": {},
     "output_type": "execute_result"
    }
   ],
   "source": [
    "w2v_model.wv.most_similar(\"train\")"
   ]
  },
  {
   "cell_type": "code",
   "execution_count": 48,
   "metadata": {},
   "outputs": [],
   "source": [
    "def top_10_terms(l):\n",
    "    new_l = []\n",
    "    for i in range(0, len(l)):\n",
    "        new_l.append(l[i][0])\n",
    "    return new_l\n",
    "\n",
    "top_10 = top_10_terms(word_count.most_common()[:10])"
   ]
  },
  {
   "cell_type": "code",
   "execution_count": null,
   "metadata": {},
   "outputs": [],
   "source": [
    "from modAL.models import ActiveLearner\n",
    "from sklearn.svm import SVC\n",
    "\n",
    "'''learner = ActiveLearner(estimator = SVC(), \\\n",
    "    X_training=)'''"
   ]
  },
  {
   "cell_type": "code",
   "execution_count": 49,
   "metadata": {},
   "outputs": [
    {
     "name": "stderr",
     "output_type": "stream",
     "text": [
      "c:\\DEV\\Master Thesis\\App\\.thesis\\lib\\site-packages\\matplotlib\\backends\\backend_agg.py:240: RuntimeWarning: Glyph 128640 missing from current font.\n",
      "  font.set_text(s, 0.0, flags=flags)\n",
      "c:\\DEV\\Master Thesis\\App\\.thesis\\lib\\site-packages\\matplotlib\\backends\\backend_agg.py:240: RuntimeWarning: Glyph 127765 missing from current font.\n",
      "  font.set_text(s, 0.0, flags=flags)\n",
      "c:\\DEV\\Master Thesis\\App\\.thesis\\lib\\site-packages\\matplotlib\\backends\\backend_agg.py:240: RuntimeWarning: Glyph 127769 missing from current font.\n",
      "  font.set_text(s, 0.0, flags=flags)\n",
      "c:\\DEV\\Master Thesis\\App\\.thesis\\lib\\site-packages\\matplotlib\\backends\\backend_agg.py:203: RuntimeWarning: Glyph 128640 missing from current font.\n",
      "  font.set_text(s, 0, flags=flags)\n",
      "c:\\DEV\\Master Thesis\\App\\.thesis\\lib\\site-packages\\matplotlib\\backends\\backend_agg.py:203: RuntimeWarning: Glyph 127765 missing from current font.\n",
      "  font.set_text(s, 0, flags=flags)\n",
      "c:\\DEV\\Master Thesis\\App\\.thesis\\lib\\site-packages\\matplotlib\\backends\\backend_agg.py:203: RuntimeWarning: Glyph 127769 missing from current font.\n",
      "  font.set_text(s, 0, flags=flags)\n"
     ]
    },
    {
     "data": {
      "image/png": "[encoded data removed]",
      "text/plain": [
       "<Figure size 1008x576 with 1 Axes>"
      ]
     },
     "metadata": {
      "needs_background": "light"
     },
     "output_type": "display_data"
    }
   ],
   "source": [
    "from sklearn.manifold import TSNE\n",
    "\n",
    "similar_words = {search_term: [item[0] for item in w2v_model.wv.most_similar([search_term], topn=5)]\n",
    "                  for search_term in top_10}\n",
    "\n",
    "words = sum([[k] + v for k, v in similar_words.items()], [])\n",
    "wvs = w2v_model.wv[words]\n",
    "\n",
    "tsne = TSNE(n_components=2, random_state=0, n_iter=10000, perplexity=2)\n",
    "np.set_printoptions(suppress=True)\n",
    "T = tsne.fit_transform(wvs)\n",
    "labels = words\n",
    "\n",
    "plt.figure(figsize=(14, 8))\n",
    "plt.scatter(T[:, 0], T[:, 1], c='orange', edgecolors='r')\n",
    "for label, x, y in zip(labels, T[:, 0], T[:, 1]):\n",
    "    plt.annotate(label, xy=(x+1, y+1), xytext=(0, 0), textcoords='offset points')"
   ]
  },
  {
   "cell_type": "code",
   "execution_count": null,
   "metadata": {},
   "outputs": [],
   "source": []
  },
  {
   "cell_type": "code",
   "execution_count": null,
   "metadata": {},
   "outputs": [],
   "source": []
  }
 ],
 "metadata": {
  "interpreter": {
   "hash": "a199850fbe9b2f1658a16eea735881451fc009eba53b7dda86327ce82228d5dd"
  },
  "kernelspec": {
   "display_name": "Python 3.9.7 64-bit ('.thesis': venv)",
   "name": "python3"
  },
  "language_info": {
   "codemirror_mode": {
    "name": "ipython",
    "version": 3
   },
   "file_extension": ".py",
   "mimetype": "text/x-python",
   "name": "python",
   "nbconvert_exporter": "python",
   "pygments_lexer": "ipython3",
   "version": "3.9.5"
  },
  "orig_nbformat": 4
 },
 "nbformat": 4,
 "nbformat_minor": 2
}
