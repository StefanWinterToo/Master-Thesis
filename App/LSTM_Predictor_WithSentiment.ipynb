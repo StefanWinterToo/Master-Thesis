{
 "cells": [
  {
   "cell_type": "code",
   "execution_count": 57,
   "metadata": {},
   "outputs": [],
   "source": [
    "# https://machinelearningmastery.com/time-series-prediction-lstm-recurrent-neural-networks-python-keras/"
   ]
  },
  {
   "cell_type": "code",
   "execution_count": 1,
   "metadata": {},
   "outputs": [],
   "source": [
    "import pandas as pd\n",
    "import matplotlib.pyplot as plt\n",
    "import numpy as np\n",
    "from sklearn.preprocessing import MinMaxScaler\n",
    "from keras.models import Sequential\n",
    "from keras.layers import Dense\n",
    "from keras.layers import LSTM\n",
    "import EstimatorPreprocessor as ep\n",
    "from datetime import datetime\n",
    "import math\n",
    "from numpy import concatenate"
   ]
  },
  {
   "cell_type": "code",
   "execution_count": 2,
   "metadata": {},
   "outputs": [],
   "source": [
    "# Obtain sentiment"
   ]
  },
  {
   "cell_type": "code",
   "execution_count": 3,
   "metadata": {},
   "outputs": [],
   "source": [
    "data = ep.load_cleaned_submissions()"
   ]
  },
  {
   "cell_type": "code",
   "execution_count": 4,
   "metadata": {},
   "outputs": [],
   "source": [
    "df = pd.DataFrame()"
   ]
  },
  {
   "cell_type": "code",
   "execution_count": 5,
   "metadata": {},
   "outputs": [],
   "source": [
    "df[\"Date\"] = pd.to_datetime(data.created_utc.apply(lambda x: datetime.utcfromtimestamp(x).strftime('%Y-%m-%d')))\n",
    "df[\"Sentiment\"] = data.sentiment\n",
    "df[\"Scores\"] = df.Sentiment.apply(lambda x: 1 if x == \"bullish\" else (-1 if x == \"bearish\" else 0))"
   ]
  },
  {
   "cell_type": "code",
   "execution_count": 6,
   "metadata": {},
   "outputs": [],
   "source": [
    "df = df.groupby(\"Date\", as_index = False)[\"Scores\"].sum(\"Sum\")"
   ]
  },
  {
   "cell_type": "code",
   "execution_count": 7,
   "metadata": {},
   "outputs": [],
   "source": [
    "df[\"LogScores\"] = df.Scores.apply(lambda x: math.log(x) if x > 0 else 0)"
   ]
  },
  {
   "cell_type": "code",
   "execution_count": 8,
   "metadata": {},
   "outputs": [],
   "source": [
    "# Start Time Series Analysis"
   ]
  },
  {
   "cell_type": "code",
   "execution_count": 9,
   "metadata": {},
   "outputs": [],
   "source": [
    "ts = pd.read_excel(\"data/stock_prices.xlsx\", usecols = [\"Date\", \"Adj Close\", \"Volume\"])\n",
    "ts[\"Close_Diff\"] = ts[\"Adj Close\"].diff()"
   ]
  },
  {
   "cell_type": "code",
   "execution_count": 10,
   "metadata": {},
   "outputs": [
    {
     "data": {
      "text/html": [
       "<div>\n",
       "<style scoped>\n",
       "    .dataframe tbody tr th:only-of-type {\n",
       "        vertical-align: middle;\n",
       "    }\n",
       "\n",
       "    .dataframe tbody tr th {\n",
       "        vertical-align: top;\n",
       "    }\n",
       "\n",
       "    .dataframe thead th {\n",
       "        text-align: right;\n",
       "    }\n",
       "</style>\n",
       "<table border=\"1\" class=\"dataframe\">\n",
       "  <thead>\n",
       "    <tr style=\"text-align: right;\">\n",
       "      <th></th>\n",
       "      <th>Date</th>\n",
       "      <th>Adj Close</th>\n",
       "      <th>Volume</th>\n",
       "      <th>Close_Diff</th>\n",
       "      <th>Scores</th>\n",
       "      <th>LogScores</th>\n",
       "    </tr>\n",
       "  </thead>\n",
       "  <tbody>\n",
       "    <tr>\n",
       "      <th>0</th>\n",
       "      <td>2019-12-31</td>\n",
       "      <td>6.080000</td>\n",
       "      <td>4322600</td>\n",
       "      <td>0.000000</td>\n",
       "      <td>0.0</td>\n",
       "      <td>0.000000</td>\n",
       "    </tr>\n",
       "    <tr>\n",
       "      <th>1</th>\n",
       "      <td>2020-01-02</td>\n",
       "      <td>6.310000</td>\n",
       "      <td>4453600</td>\n",
       "      <td>0.230000</td>\n",
       "      <td>0.0</td>\n",
       "      <td>0.000000</td>\n",
       "    </tr>\n",
       "    <tr>\n",
       "      <th>2</th>\n",
       "      <td>2020-01-03</td>\n",
       "      <td>5.880000</td>\n",
       "      <td>3543900</td>\n",
       "      <td>-0.430000</td>\n",
       "      <td>0.0</td>\n",
       "      <td>0.000000</td>\n",
       "    </tr>\n",
       "    <tr>\n",
       "      <th>3</th>\n",
       "      <td>2020-01-06</td>\n",
       "      <td>5.850000</td>\n",
       "      <td>3394800</td>\n",
       "      <td>-0.030000</td>\n",
       "      <td>1.0</td>\n",
       "      <td>0.000000</td>\n",
       "    </tr>\n",
       "    <tr>\n",
       "      <th>4</th>\n",
       "      <td>2020-01-07</td>\n",
       "      <td>5.520000</td>\n",
       "      <td>5228000</td>\n",
       "      <td>-0.330000</td>\n",
       "      <td>0.0</td>\n",
       "      <td>0.000000</td>\n",
       "    </tr>\n",
       "    <tr>\n",
       "      <th>...</th>\n",
       "      <td>...</td>\n",
       "      <td>...</td>\n",
       "      <td>...</td>\n",
       "      <td>...</td>\n",
       "      <td>...</td>\n",
       "      <td>...</td>\n",
       "    </tr>\n",
       "    <tr>\n",
       "      <th>454</th>\n",
       "      <td>2021-10-19</td>\n",
       "      <td>186.789993</td>\n",
       "      <td>2070600</td>\n",
       "      <td>0.769989</td>\n",
       "      <td>28.0</td>\n",
       "      <td>3.332205</td>\n",
       "    </tr>\n",
       "    <tr>\n",
       "      <th>455</th>\n",
       "      <td>2021-10-20</td>\n",
       "      <td>184.520004</td>\n",
       "      <td>2276900</td>\n",
       "      <td>-2.269989</td>\n",
       "      <td>9.0</td>\n",
       "      <td>2.197225</td>\n",
       "    </tr>\n",
       "    <tr>\n",
       "      <th>456</th>\n",
       "      <td>2021-10-21</td>\n",
       "      <td>181.710007</td>\n",
       "      <td>2402400</td>\n",
       "      <td>-2.809998</td>\n",
       "      <td>19.0</td>\n",
       "      <td>2.944439</td>\n",
       "    </tr>\n",
       "    <tr>\n",
       "      <th>457</th>\n",
       "      <td>2021-10-22</td>\n",
       "      <td>169.800003</td>\n",
       "      <td>2800400</td>\n",
       "      <td>-11.910004</td>\n",
       "      <td>25.0</td>\n",
       "      <td>3.218876</td>\n",
       "    </tr>\n",
       "    <tr>\n",
       "      <th>458</th>\n",
       "      <td>2021-10-25</td>\n",
       "      <td>173.970001</td>\n",
       "      <td>1442800</td>\n",
       "      <td>4.169998</td>\n",
       "      <td>17.0</td>\n",
       "      <td>2.833213</td>\n",
       "    </tr>\n",
       "  </tbody>\n",
       "</table>\n",
       "<p>459 rows × 6 columns</p>\n",
       "</div>"
      ],
      "text/plain": [
       "          Date   Adj Close   Volume  Close_Diff  Scores  LogScores\n",
       "0   2019-12-31    6.080000  4322600    0.000000     0.0   0.000000\n",
       "1   2020-01-02    6.310000  4453600    0.230000     0.0   0.000000\n",
       "2   2020-01-03    5.880000  3543900   -0.430000     0.0   0.000000\n",
       "3   2020-01-06    5.850000  3394800   -0.030000     1.0   0.000000\n",
       "4   2020-01-07    5.520000  5228000   -0.330000     0.0   0.000000\n",
       "..         ...         ...      ...         ...     ...        ...\n",
       "454 2021-10-19  186.789993  2070600    0.769989    28.0   3.332205\n",
       "455 2021-10-20  184.520004  2276900   -2.269989     9.0   2.197225\n",
       "456 2021-10-21  181.710007  2402400   -2.809998    19.0   2.944439\n",
       "457 2021-10-22  169.800003  2800400  -11.910004    25.0   3.218876\n",
       "458 2021-10-25  173.970001  1442800    4.169998    17.0   2.833213\n",
       "\n",
       "[459 rows x 6 columns]"
      ]
     },
     "execution_count": 10,
     "metadata": {},
     "output_type": "execute_result"
    }
   ],
   "source": [
    "# Add sentiment to stock price time series data\n",
    "ts = pd.merge(ts, df, how = \"left\", on = \"Date\").fillna(0)\n",
    "ts"
   ]
  },
  {
   "cell_type": "code",
   "execution_count": 11,
   "metadata": {},
   "outputs": [
    {
     "data": {
      "image/png": "[encoded data removed]",
      "text/plain": [
       "<Figure size 1080x360 with 1 Axes>"
      ]
     },
     "metadata": {
      "needs_background": "light"
     },
     "output_type": "display_data"
    }
   ],
   "source": [
    "# Add stock prices and volume a bit later\n",
    "import matplotlib.dates as mdates\n",
    "fig, ax = plt.subplots(figsize=(15,5))\n",
    "ax.bar(ts.Date, ts.LogScores)\n",
    "ax.tick_params(axis=\"x\", labelbottom=True, rotation=45)\n",
    "fig.autofmt_xdate()\n",
    "ax.fmt_xdata = mdates.DateFormatter('%Y-%m-%d')\n",
    "plt.show()"
   ]
  },
  {
   "cell_type": "code",
   "execution_count": 12,
   "metadata": {},
   "outputs": [],
   "source": [
    "sc = MinMaxScaler(feature_range=(0,1))\n",
    "training_set_scaled = sc.fit_transform(ts.loc[:, [\"Adj Close\", \"Scores\", \"LogScores\", \"Volume\"]])"
   ]
  },
  {
   "cell_type": "code",
   "execution_count": 13,
   "metadata": {},
   "outputs": [],
   "source": [
    "# Train, test split\n",
    "series = training_set_scaled\n",
    "train_size = int(round(len(series) * 0.90, 0))\n",
    "\n",
    "train_set = series[:train_size]\n",
    "test_set = series[train_size:]"
   ]
  },
  {
   "cell_type": "code",
   "execution_count": 14,
   "metadata": {},
   "outputs": [],
   "source": [
    "assert (len(train_set) + len(test_set)) == len(series)"
   ]
  },
  {
   "cell_type": "code",
   "execution_count": 15,
   "metadata": {},
   "outputs": [],
   "source": [
    "def create_dataset(dataset, look_back = 1):\n",
    "    X, Y = [], []\n",
    "    for i in range(len(dataset) - look_back - 1):\n",
    "        a = dataset[i:(i + look_back), :]\n",
    "        X.append(a)\n",
    "        Y.append(dataset[i + look_back, :])\n",
    "    return np.array(X), np.array(Y)"
   ]
  },
  {
   "cell_type": "code",
   "execution_count": 18,
   "metadata": {},
   "outputs": [],
   "source": [
    "LOOK_BACK = 2\n",
    "X_train, y_train = create_dataset(train_set, LOOK_BACK)\n",
    "X_test, y_test = create_dataset(test_set, LOOK_BACK)"
   ]
  },
  {
   "cell_type": "code",
   "execution_count": 36,
   "metadata": {},
   "outputs": [],
   "source": [
    "# The LSTM network expects the input data (X) to be provided in the form of: [samples, time steps, features].\n",
    "# Currently, our data is in the form: [samples, time steps]\n",
    "X_train = np.reshape(X_train, (X_train.shape[0], X_train.shape[1], X_train.shape[2]))\n",
    "X_test = np.reshape(X_test, (X_test.shape[0], X_test.shape[1], X_test.shape[2]))"
   ]
  },
  {
   "cell_type": "code",
   "execution_count": 37,
   "metadata": {},
   "outputs": [
    {
     "data": {
      "text/plain": [
       "(410, 2, 4)"
      ]
     },
     "execution_count": 37,
     "metadata": {},
     "output_type": "execute_result"
    }
   ],
   "source": [
    "X_train.shape"
   ]
  },
  {
   "cell_type": "code",
   "execution_count": 38,
   "metadata": {},
   "outputs": [],
   "source": [
    "def build_model(opt):\n",
    "    model = Sequential()\n",
    "    model.add(LSTM(4, input_shape = (LOOK_BACK, X_train.shape[2]))) # , return_sequences = True\n",
    "    # model.add(LSTM(4, input_shape = (1, LOOK_BACK))) # If more layers are included, the comment from above also needs to be included.\n",
    "    model.add(Dense(1))\n",
    "    model.compile(optimizer = opt, loss = 'mean_squared_error', metrics = 'RootMeanSquaredError')\n",
    "    return model"
   ]
  },
  {
   "cell_type": "code",
   "execution_count": 39,
   "metadata": {},
   "outputs": [
    {
     "name": "stderr",
     "output_type": "stream",
     "text": [
      "2021-12-26 17:38:14.112756: I tensorflow/core/platform/cpu_feature_guard.cc:151] This TensorFlow binary is optimized with oneAPI Deep Neural Network Library (oneDNN) to use the following CPU instructions in performance-critical operations:  AVX2 FMA\n",
      "To enable them in other operations, rebuild TensorFlow with the appropriate compiler flags.\n"
     ]
    }
   ],
   "source": [
    "param_list = []\n",
    "\n",
    "opti = ['adam']\n",
    "\n",
    "for opt in opti:\n",
    "    model = build_model(opt)\n",
    "    history = model.fit(X_train, y_train, epochs = 20, batch_size = 1, validation_split = 0.2, verbose = 0)\n",
    "    param_list.append(\"Dropout: \" + str(0) + \n",
    "                            \" & Optimizer:\" + opt +\n",
    "                            \" ;Train MSE: \" + str(history.history['root_mean_squared_error']) + \n",
    "                            \" ;Train Loss: \"+ str(history.history['loss']) + \n",
    "                            \" ;Val MSE:\" + str(history.history['val_root_mean_squared_error']) +\n",
    "                            \" ;Val Loss:\" + str(history.history['val_loss'])\n",
    "                            )"
   ]
  },
  {
   "cell_type": "code",
   "execution_count": 69,
   "metadata": {},
   "outputs": [
    {
     "data": {
      "image/png": "[encoded data removed]",
      "text/plain": [
       "<Figure size 432x288 with 1 Axes>"
      ]
     },
     "metadata": {
      "needs_background": "light"
     },
     "output_type": "display_data"
    },
    {
     "data": {
      "image/png": "[encoded data removed]",
      "text/plain": [
       "<Figure size 432x288 with 1 Axes>"
      ]
     },
     "metadata": {
      "needs_background": "light"
     },
     "output_type": "display_data"
    }
   ],
   "source": [
    "import matplotlib.pyplot as plt\n",
    "\n",
    "rmse_history = history.history[\"root_mean_squared_error\"]\n",
    "val_rmse_history = history.history[\"val_root_mean_squared_error\"]\n",
    "\n",
    "plt.plot(range(1, len(rmse_history) + 1), rmse_history)\n",
    "plt.plot(range(1, len(val_rmse_history) + 1), val_rmse_history)\n",
    "plt.xlabel(\"Epochs\")\n",
    "plt.ylabel(\"RMSE\")\n",
    "plt.legend([\"training\", \"validation\"])\n",
    "plt.show()\n",
    "\n",
    "loss_history = history.history[\"loss\"]\n",
    "val_loss_history = history.history[\"val_loss\"]\n",
    "\n",
    "plt.plot(range(1, len(loss_history) + 1), loss_history)\n",
    "plt.plot(range(1, len(val_loss_history) + 1), val_loss_history)\n",
    "plt.xlabel(\"Epochs\")\n",
    "plt.ylabel(\"Loss\")\n",
    "plt.legend([\"training\", \"validation\"])\n",
    "plt.show()"
   ]
  },
  {
   "cell_type": "code",
   "execution_count": 78,
   "metadata": {},
   "outputs": [],
   "source": [
    "def inverse_prediction(data):\n",
    "    test_X = data.reshape((data.shape[0], 8))\n",
    "    yhat = model.predict(data)\n",
    "    testPredict = concatenate((yhat, test_X[:, -3:]), axis=1)\n",
    "    testPredict = sc.inverse_transform(testPredict)\n",
    "    return testPredict[:, 0]"
   ]
  },
  {
   "cell_type": "code",
   "execution_count": 71,
   "metadata": {},
   "outputs": [],
   "source": [
    "y_test = sc.inverse_transform(y_test)[:, 0]"
   ]
  },
  {
   "cell_type": "code",
   "execution_count": 79,
   "metadata": {},
   "outputs": [],
   "source": [
    "import math\n",
    "from sklearn.metrics import mean_squared_error\n",
    "\n",
    "trainPredict = inverse_prediction(X_train)\n",
    "testPredict  = inverse_prediction(X_test)\n",
    "testScore = math.sqrt(mean_squared_error(y_test, testPredict))"
   ]
  },
  {
   "cell_type": "code",
   "execution_count": 80,
   "metadata": {},
   "outputs": [
    {
     "data": {
      "text/plain": [
       "122.0987592648885"
      ]
     },
     "execution_count": 80,
     "metadata": {},
     "output_type": "execute_result"
    }
   ],
   "source": [
    "testScore"
   ]
  },
  {
   "cell_type": "code",
   "execution_count": 104,
   "metadata": {},
   "outputs": [
    {
     "data": {
      "image/png": "[encoded data removed]",
      "text/plain": [
       "<Figure size 432x288 with 1 Axes>"
      ]
     },
     "metadata": {
      "needs_background": "light"
     },
     "output_type": "display_data"
    }
   ],
   "source": [
    "trainPredictPlot = np.empty_like(training_set_scaled)\n",
    "trainPredictPlot[:, :] = np.nan\n",
    "\n",
    "testPredictPlot = np.empty_like(training_set_scaled)\n",
    "testPredictPlot[:, :] = np.nan\n",
    "\n",
    "plt.plot(sc.inverse_transform(training_set_scaled)[:, 0])\n",
    "plt.plot(trainPredict)\n",
    "plt.plot(testPredict)\n",
    "plt.show()"
   ]
  },
  {
   "cell_type": "code",
   "execution_count": 110,
   "metadata": {},
   "outputs": [
    {
     "ename": "IndexError",
     "evalue": "too many indices for array: array is 1-dimensional, but 2 were indexed",
     "output_type": "error",
     "traceback": [
      "\u001b[0;31m---------------------------------------------------------------------------\u001b[0m",
      "\u001b[0;31mIndexError\u001b[0m                                Traceback (most recent call last)",
      "\u001b[0;32m/var/folders/64/7b1hkdr172d2q0xs5rpt2t680000gn/T/ipykernel_95082/2638032739.py\u001b[0m in \u001b[0;36m<module>\u001b[0;34m\u001b[0m\n\u001b[1;32m      1\u001b[0m \u001b[0;31m# shift train predictions for plotting\u001b[0m\u001b[0;34m\u001b[0m\u001b[0;34m\u001b[0m\u001b[0m\n\u001b[1;32m      2\u001b[0m \u001b[0mtrainPredictPlot\u001b[0m \u001b[0;34m=\u001b[0m \u001b[0mnp\u001b[0m\u001b[0;34m.\u001b[0m\u001b[0mempty_like\u001b[0m\u001b[0;34m(\u001b[0m\u001b[0mtrainPredict\u001b[0m\u001b[0;34m)\u001b[0m\u001b[0;34m\u001b[0m\u001b[0;34m\u001b[0m\u001b[0m\n\u001b[0;32m----> 3\u001b[0;31m \u001b[0mtrainPredictPlot\u001b[0m\u001b[0;34m[\u001b[0m\u001b[0;34m:\u001b[0m\u001b[0;34m,\u001b[0m \u001b[0;34m:\u001b[0m\u001b[0;34m]\u001b[0m \u001b[0;34m=\u001b[0m \u001b[0mnp\u001b[0m\u001b[0;34m.\u001b[0m\u001b[0mnan\u001b[0m\u001b[0;34m\u001b[0m\u001b[0;34m\u001b[0m\u001b[0m\n\u001b[0m\u001b[1;32m      4\u001b[0m \u001b[0mtrainPredictPlot\u001b[0m\u001b[0;34m[\u001b[0m\u001b[0mLOOK_BACK\u001b[0m\u001b[0;34m:\u001b[0m\u001b[0mlen\u001b[0m\u001b[0;34m(\u001b[0m\u001b[0mtrainPredict\u001b[0m\u001b[0;34m)\u001b[0m\u001b[0;34m+\u001b[0m\u001b[0mLOOK_BACK\u001b[0m\u001b[0;34m,\u001b[0m \u001b[0;34m:\u001b[0m\u001b[0;34m]\u001b[0m \u001b[0;34m=\u001b[0m \u001b[0mtrainPredict\u001b[0m\u001b[0;34m\u001b[0m\u001b[0;34m\u001b[0m\u001b[0m\n\u001b[1;32m      5\u001b[0m \u001b[0;31m# shift test predictions for plotting\u001b[0m\u001b[0;34m\u001b[0m\u001b[0;34m\u001b[0m\u001b[0m\n",
      "\u001b[0;31mIndexError\u001b[0m: too many indices for array: array is 1-dimensional, but 2 were indexed"
     ]
    }
   ],
   "source": [
    "# shift train predictions for plotting\n",
    "trainPredictPlot = np.empty_like(trainPredict)\n",
    "trainPredictPlot[:, :] = np.nan\n",
    "trainPredictPlot[LOOK_BACK:len(trainPredict)+LOOK_BACK, :] = trainPredict\n",
    "# shift test predictions for plotting\n",
    "testPredictPlot = np.empty_like(testPredict)\n",
    "testPredictPlot[:, :] = np.nan\n",
    "testPredictPlot[len(trainPredict)+(LOOK_BACK*2)+1:len(training_set_scaled)-1, :] = testPredict\n",
    "# plot baseline and predictions\n",
    "plt.plot(sc.inverse_transform(training_set_scaled)[:, 0])\n",
    "plt.plot(trainPredictPlot)\n",
    "plt.plot(testPredictPlot)\n",
    "plt.show()"
   ]
  },
  {
   "cell_type": "code",
   "execution_count": null,
   "metadata": {},
   "outputs": [],
   "source": []
  }
 ],
 "metadata": {
  "interpreter": {
   "hash": "a199850fbe9b2f1658a16eea735881451fc009eba53b7dda86327ce82228d5dd"
  },
  "kernelspec": {
   "display_name": "Python 3.9.7 64-bit ('.thesis': venv)",
   "language": "python",
   "name": "python3"
  },
  "language_info": {
   "codemirror_mode": {
    "name": "ipython",
    "version": 3
   },
   "file_extension": ".py",
   "mimetype": "text/x-python",
   "name": "python",
   "nbconvert_exporter": "python",
   "pygments_lexer": "ipython3",
   "version": "3.9.7"
  },
  "orig_nbformat": 4
 },
 "nbformat": 4,
 "nbformat_minor": 2
}
