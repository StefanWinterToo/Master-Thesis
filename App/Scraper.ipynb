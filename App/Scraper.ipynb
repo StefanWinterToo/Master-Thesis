{
 "cells": [
  {
   "cell_type": "markdown",
   "source": [
    "# Scrape Data From Reddit Pushshift"
   ],
   "metadata": {}
  },
  {
   "cell_type": "code",
   "execution_count": 1,
   "source": [
    "from Reddit_Loader import Loader\r\n",
    "import datetime\r\n",
    "import pandas as pd\r\n",
    "import pickle\r\n"
   ],
   "outputs": [],
   "metadata": {}
  },
  {
   "cell_type": "code",
   "execution_count": 12,
   "source": [
    "# Set Start and End Date\r\n",
    "START = \"01/01/2020\"\r\n",
    "END = datetime.datetime.now().strftime(\"%d/%m/%Y\") #today"
   ],
   "outputs": [],
   "metadata": {}
  },
  {
   "cell_type": "code",
   "execution_count": 13,
   "source": [
    "# Load data from Pushshift and store it as a dataframe\r\n",
    "l = Loader(\"gme\", START, END, \"wallstreetbets\")\r\n",
    "submissions = l.load_submissions()"
   ],
   "outputs": [
    {
     "output_type": "stream",
     "name": "stdout",
     "text": [
      "Response cache key: 29983c8c40dd541667743b8ea5bd1315\n"
     ]
    },
    {
     "output_type": "stream",
     "name": "stderr",
     "text": [
      "Not all PushShift shards are active. Query results may be incomplete.\n"
     ]
    },
    {
     "output_type": "stream",
     "name": "stdout",
     "text": [
      "179167 result(s) available in Pushshift\n"
     ]
    },
    {
     "output_type": "stream",
     "name": "stderr",
     "text": [
      "Not all PushShift shards are active. Query results may be incomplete.\n"
     ]
    },
    {
     "output_type": "stream",
     "name": "stdout",
     "text": [
      "Total:: Success Rate: 80.71% - Requests: 2649 - Batches: 266 - Items Remaining: 354\n"
     ]
    },
    {
     "output_type": "stream",
     "name": "stderr",
     "text": [
      "Not all PushShift shards are active. Query results may be incomplete.\n"
     ]
    },
    {
     "output_type": "stream",
     "name": "stdout",
     "text": [
      "354 result(s) not found in Pushshift\n",
      "Retrieved 178813 submissions from Pushshift.\n"
     ]
    }
   ],
   "metadata": {}
  },
  {
   "cell_type": "code",
   "execution_count": 15,
   "source": [
    "# Save as csv\r\n",
    "submissions.to_csv('./data/submissions.csv', encoding='utf-8', index=False)"
   ],
   "outputs": [],
   "metadata": {}
  },
  {
   "cell_type": "code",
   "execution_count": 14,
   "source": [
    "# Save dataframe as pickle\r\n",
    "submissions.to_pickle(\"./data/submissions.pkl\")"
   ],
   "outputs": [],
   "metadata": {}
  },
  {
   "cell_type": "code",
   "execution_count": 3,
   "source": [
    "submissions = pd.read_pickle(\"./data/submissions.pkl\")"
   ],
   "outputs": [],
   "metadata": {}
  },
  {
   "cell_type": "markdown",
   "source": [
    "# Data Exploration"
   ],
   "metadata": {}
  },
  {
   "cell_type": "code",
   "execution_count": 92,
   "source": [
    "# All the available columns in the submissions dataframe\r\n",
    "for element in submissions:\r\n",
    "    print(element, end = \", \")"
   ],
   "outputs": [
    {
     "output_type": "stream",
     "name": "stdout",
     "text": [
      "all_awardings, allow_live_comments, author, author_flair_css_class, author_flair_richtext, author_flair_text, author_flair_type, author_fullname, author_patreon_flair, author_premium, awarders, can_mod_post, contest_mode, created_utc, domain, full_link, gildings, id, is_crosspostable, is_meta, is_original_content, is_reddit_media_domain, is_robot_indexable, is_self, is_video, link_flair_background_color, link_flair_css_class, link_flair_richtext, link_flair_template_id, link_flair_text, link_flair_text_color, link_flair_type, locked, media_only, no_follow, num_comments, num_crossposts, over_18, parent_whitelist_status, permalink, pinned, pwls, retrieved_on, score, selftext, send_replies, spoiler, stickied, subreddit, subreddit_id, subreddit_subscribers, subreddit_type, suggested_sort, thumbnail, title, total_awards_received, treatment_tags, upvote_ratio, url, whitelist_status, wls, post_hint, preview, removed_by_category, is_gallery, thumbnail_height, thumbnail_width, url_overridden_by_dest, media_metadata, media, media_embed, secure_media, secure_media_embed, author_flair_background_color, author_flair_text_color, edited, gallery_data, banned_by, author_cakeday, discussion_type, crosspost_parent, crosspost_parent_list, author_flair_template_id, author_is_blocked, is_created_from_ads_ui, steward_reports, gilded, distinguished, collections, "
     ]
    }
   ],
   "metadata": {}
  },
  {
   "cell_type": "code",
   "execution_count": 78,
   "source": [
    "# The number of Awards can be used as a proxy for the awards given\r\n",
    "print(len(submissions[\"all_awardings\"][44][0][\"resized_icons\"])) # We only count the unique awards given, not if an award has been given multiple times. May figure it out later.\r\n",
    "\r\n",
    "# is_video can be useful to weed out posts, that do not have any content and only a video. Might still be able to perform sentiment analysis on the title.\r\n",
    "# link_flair_text can be useful to classify content: Meme, Yolo, etc."
   ],
   "outputs": [
    {
     "output_type": "stream",
     "name": "stdout",
     "text": [
      "5\n"
     ]
    }
   ],
   "metadata": {}
  },
  {
   "cell_type": "code",
   "execution_count": 220,
   "source": [
    "print(type(submissions[\"num_comments\"][76]))\r\n",
    "submissions[\"num_comments\"][76]"
   ],
   "outputs": [
    {
     "output_type": "stream",
     "name": "stdout",
     "text": [
      "<class 'numpy.int64'>\n"
     ]
    },
    {
     "output_type": "execute_result",
     "data": {
      "text/plain": [
       "0"
      ]
     },
     "metadata": {},
     "execution_count": 220
    }
   ],
   "metadata": {}
  },
  {
   "cell_type": "code",
   "execution_count": 216,
   "source": [
    "for i, elem in enumerate(submissions[\"no_follow\"]):\r\n",
    "    if elem != np.bool(False):\r\n",
    "        print(i)"
   ],
   "outputs": [
    {
     "output_type": "error",
     "ename": "NameError",
     "evalue": "name 'np' is not defined",
     "traceback": [
      "\u001b[1;31m---------------------------------------------------------------------------\u001b[0m",
      "\u001b[1;31mNameError\u001b[0m                                 Traceback (most recent call last)",
      "\u001b[1;32m~\\AppData\\Local\\Temp/ipykernel_17224/2060508272.py\u001b[0m in \u001b[0;36m<module>\u001b[1;34m\u001b[0m\n\u001b[0;32m      1\u001b[0m \u001b[1;32mfor\u001b[0m \u001b[0mi\u001b[0m\u001b[1;33m,\u001b[0m \u001b[0melem\u001b[0m \u001b[1;32min\u001b[0m \u001b[0menumerate\u001b[0m\u001b[1;33m(\u001b[0m\u001b[0msubmissions\u001b[0m\u001b[1;33m[\u001b[0m\u001b[1;34m\"no_follow\"\u001b[0m\u001b[1;33m]\u001b[0m\u001b[1;33m)\u001b[0m\u001b[1;33m:\u001b[0m\u001b[1;33m\u001b[0m\u001b[1;33m\u001b[0m\u001b[0m\n\u001b[1;32m----> 2\u001b[1;33m     \u001b[1;32mif\u001b[0m \u001b[0melem\u001b[0m \u001b[1;33m!=\u001b[0m \u001b[0mnp\u001b[0m\u001b[1;33m.\u001b[0m\u001b[0mbool\u001b[0m\u001b[1;33m(\u001b[0m\u001b[1;32mFalse\u001b[0m\u001b[1;33m)\u001b[0m\u001b[1;33m:\u001b[0m\u001b[1;33m\u001b[0m\u001b[1;33m\u001b[0m\u001b[0m\n\u001b[0m\u001b[0;32m      3\u001b[0m         \u001b[0mprint\u001b[0m\u001b[1;33m(\u001b[0m\u001b[0mi\u001b[0m\u001b[1;33m)\u001b[0m\u001b[1;33m\u001b[0m\u001b[1;33m\u001b[0m\u001b[0m\n",
      "\u001b[1;31mNameError\u001b[0m: name 'np' is not defined"
     ]
    }
   ],
   "metadata": {}
  },
  {
   "cell_type": "code",
   "execution_count": 107,
   "source": [
    "# Drop unneeded columns\r\n",
    "## allow_live_comments is Boolean\r\n",
    "## author_flair_css_class shows the css class of the author_flair\r\n",
    "## author_flair_richtext, author_flair_text, author_flair_type can be ignored, because the author can assign a flair to himself if he wants to\r\n",
    "## author_fullname is just the id for the user\r\n",
    "## author_patreon_flair, author_premium, domain, gildings, is_crosspostable, is_original_content, is_reddit_media_domain, is_robot_indexable,\r\n",
    "## is_self, link_flair_background_color, link_flair_text_color, link_flair_css_class, link_flair_template_id, locked, media_only,\r\n",
    "## no_follow do not seem to be helpful for sentiment analysis\r\n",
    "## awarders is always empty\r\n",
    "## can_mod_post, contest_mode, is_meta are always False\r\n",
    "## link_flair_type doesn't really say anything\r\n",
    "## link_flair_richtext is a dictionary for for link_flair(which is not discarded)\r\n",
    "submissions.drop(columns = [\"allow_live_comments\", \"author_flair_css_class\", \"author_flair_richtext\", \r\n",
    "                            \"author_flair_text\", \"author_flair_type\", \"author_fullname\", \"author_patreon_flair\",\r\n",
    "                            \"author_premium\", \"domain\", \"awarders\", \"can_mod_post\", \"contest_mode\",\r\n",
    "                            \"gildings\", \"is_crosspostable\", \"is_meta\", \"is_original_content\", \"is_reddit_media_domain\",\r\n",
    "                            \"is_robot_indexable\", \"is_self\", \"link_flair_background_color\", \"link_flair_text_color\",\r\n",
    "                            \"link_flair_type\", \"link_flair_css_class\", \"link_flair_richtext\", \"link_flair_template_id\",\r\n",
    "                            \"locked\", \"media_only\", \"no_follow\"])"
   ],
   "outputs": [
    {
     "output_type": "execute_result",
     "data": {
      "text/html": [
       "<div>\n",
       "<style scoped>\n",
       "    .dataframe tbody tr th:only-of-type {\n",
       "        vertical-align: middle;\n",
       "    }\n",
       "\n",
       "    .dataframe tbody tr th {\n",
       "        vertical-align: top;\n",
       "    }\n",
       "\n",
       "    .dataframe thead th {\n",
       "        text-align: right;\n",
       "    }\n",
       "</style>\n",
       "<table border=\"1\" class=\"dataframe\">\n",
       "  <thead>\n",
       "    <tr style=\"text-align: right;\">\n",
       "      <th></th>\n",
       "      <th>all_awardings</th>\n",
       "      <th>author</th>\n",
       "      <th>author_flair_richtext</th>\n",
       "      <th>author_flair_text</th>\n",
       "      <th>author_flair_type</th>\n",
       "      <th>author_fullname</th>\n",
       "      <th>author_patreon_flair</th>\n",
       "      <th>author_premium</th>\n",
       "      <th>awarders</th>\n",
       "      <th>can_mod_post</th>\n",
       "      <th>...</th>\n",
       "      <th>discussion_type</th>\n",
       "      <th>crosspost_parent</th>\n",
       "      <th>crosspost_parent_list</th>\n",
       "      <th>author_flair_template_id</th>\n",
       "      <th>author_is_blocked</th>\n",
       "      <th>is_created_from_ads_ui</th>\n",
       "      <th>steward_reports</th>\n",
       "      <th>gilded</th>\n",
       "      <th>distinguished</th>\n",
       "      <th>collections</th>\n",
       "    </tr>\n",
       "  </thead>\n",
       "  <tbody>\n",
       "    <tr>\n",
       "      <th>0</th>\n",
       "      <td>[]</td>\n",
       "      <td>guitarheropwn21</td>\n",
       "      <td>[]</td>\n",
       "      <td>None</td>\n",
       "      <td>text</td>\n",
       "      <td>t2_9g956</td>\n",
       "      <td>False</td>\n",
       "      <td>False</td>\n",
       "      <td>[]</td>\n",
       "      <td>False</td>\n",
       "      <td>...</td>\n",
       "      <td>NaN</td>\n",
       "      <td>NaN</td>\n",
       "      <td>NaN</td>\n",
       "      <td>NaN</td>\n",
       "      <td>NaN</td>\n",
       "      <td>NaN</td>\n",
       "      <td>NaN</td>\n",
       "      <td>NaN</td>\n",
       "      <td>NaN</td>\n",
       "      <td>NaN</td>\n",
       "    </tr>\n",
       "    <tr>\n",
       "      <th>1</th>\n",
       "      <td>[]</td>\n",
       "      <td>stonkylassie</td>\n",
       "      <td>[]</td>\n",
       "      <td>None</td>\n",
       "      <td>text</td>\n",
       "      <td>t2_80q8h8pv</td>\n",
       "      <td>False</td>\n",
       "      <td>False</td>\n",
       "      <td>[]</td>\n",
       "      <td>False</td>\n",
       "      <td>...</td>\n",
       "      <td>NaN</td>\n",
       "      <td>NaN</td>\n",
       "      <td>NaN</td>\n",
       "      <td>NaN</td>\n",
       "      <td>NaN</td>\n",
       "      <td>NaN</td>\n",
       "      <td>NaN</td>\n",
       "      <td>NaN</td>\n",
       "      <td>NaN</td>\n",
       "      <td>NaN</td>\n",
       "    </tr>\n",
       "    <tr>\n",
       "      <th>2</th>\n",
       "      <td>[]</td>\n",
       "      <td>Bridge4YC</td>\n",
       "      <td>[]</td>\n",
       "      <td>None</td>\n",
       "      <td>text</td>\n",
       "      <td>t2_3g7567fg</td>\n",
       "      <td>False</td>\n",
       "      <td>False</td>\n",
       "      <td>[]</td>\n",
       "      <td>False</td>\n",
       "      <td>...</td>\n",
       "      <td>NaN</td>\n",
       "      <td>NaN</td>\n",
       "      <td>NaN</td>\n",
       "      <td>NaN</td>\n",
       "      <td>NaN</td>\n",
       "      <td>NaN</td>\n",
       "      <td>NaN</td>\n",
       "      <td>NaN</td>\n",
       "      <td>NaN</td>\n",
       "      <td>NaN</td>\n",
       "    </tr>\n",
       "    <tr>\n",
       "      <th>3</th>\n",
       "      <td>[]</td>\n",
       "      <td>ChingityChingtyChong</td>\n",
       "      <td>[]</td>\n",
       "      <td>None</td>\n",
       "      <td>text</td>\n",
       "      <td>t2_2dbxwncy</td>\n",
       "      <td>False</td>\n",
       "      <td>False</td>\n",
       "      <td>[]</td>\n",
       "      <td>False</td>\n",
       "      <td>...</td>\n",
       "      <td>NaN</td>\n",
       "      <td>NaN</td>\n",
       "      <td>NaN</td>\n",
       "      <td>NaN</td>\n",
       "      <td>NaN</td>\n",
       "      <td>NaN</td>\n",
       "      <td>NaN</td>\n",
       "      <td>NaN</td>\n",
       "      <td>NaN</td>\n",
       "      <td>NaN</td>\n",
       "    </tr>\n",
       "    <tr>\n",
       "      <th>4</th>\n",
       "      <td>[]</td>\n",
       "      <td>Poopoosexman</td>\n",
       "      <td>[]</td>\n",
       "      <td>None</td>\n",
       "      <td>text</td>\n",
       "      <td>t2_50tnyl7m</td>\n",
       "      <td>False</td>\n",
       "      <td>False</td>\n",
       "      <td>[]</td>\n",
       "      <td>False</td>\n",
       "      <td>...</td>\n",
       "      <td>NaN</td>\n",
       "      <td>NaN</td>\n",
       "      <td>NaN</td>\n",
       "      <td>NaN</td>\n",
       "      <td>NaN</td>\n",
       "      <td>NaN</td>\n",
       "      <td>NaN</td>\n",
       "      <td>NaN</td>\n",
       "      <td>NaN</td>\n",
       "      <td>NaN</td>\n",
       "    </tr>\n",
       "    <tr>\n",
       "      <th>...</th>\n",
       "      <td>...</td>\n",
       "      <td>...</td>\n",
       "      <td>...</td>\n",
       "      <td>...</td>\n",
       "      <td>...</td>\n",
       "      <td>...</td>\n",
       "      <td>...</td>\n",
       "      <td>...</td>\n",
       "      <td>...</td>\n",
       "      <td>...</td>\n",
       "      <td>...</td>\n",
       "      <td>...</td>\n",
       "      <td>...</td>\n",
       "      <td>...</td>\n",
       "      <td>...</td>\n",
       "      <td>...</td>\n",
       "      <td>...</td>\n",
       "      <td>...</td>\n",
       "      <td>...</td>\n",
       "      <td>...</td>\n",
       "      <td>...</td>\n",
       "    </tr>\n",
       "    <tr>\n",
       "      <th>178808</th>\n",
       "      <td>[]</td>\n",
       "      <td>robbe-cl</td>\n",
       "      <td>[]</td>\n",
       "      <td>None</td>\n",
       "      <td>text</td>\n",
       "      <td>t2_7b1xle97</td>\n",
       "      <td>False</td>\n",
       "      <td>False</td>\n",
       "      <td>[]</td>\n",
       "      <td>False</td>\n",
       "      <td>...</td>\n",
       "      <td>NaN</td>\n",
       "      <td>NaN</td>\n",
       "      <td>NaN</td>\n",
       "      <td>NaN</td>\n",
       "      <td>NaN</td>\n",
       "      <td>NaN</td>\n",
       "      <td>NaN</td>\n",
       "      <td>NaN</td>\n",
       "      <td>NaN</td>\n",
       "      <td>NaN</td>\n",
       "    </tr>\n",
       "    <tr>\n",
       "      <th>178809</th>\n",
       "      <td>[]</td>\n",
       "      <td>powleads</td>\n",
       "      <td>[]</td>\n",
       "      <td>None</td>\n",
       "      <td>text</td>\n",
       "      <td>t2_8cii0hir</td>\n",
       "      <td>False</td>\n",
       "      <td>False</td>\n",
       "      <td>[]</td>\n",
       "      <td>False</td>\n",
       "      <td>...</td>\n",
       "      <td>NaN</td>\n",
       "      <td>NaN</td>\n",
       "      <td>NaN</td>\n",
       "      <td>NaN</td>\n",
       "      <td>NaN</td>\n",
       "      <td>NaN</td>\n",
       "      <td>NaN</td>\n",
       "      <td>NaN</td>\n",
       "      <td>NaN</td>\n",
       "      <td>NaN</td>\n",
       "    </tr>\n",
       "    <tr>\n",
       "      <th>178810</th>\n",
       "      <td>[]</td>\n",
       "      <td>Liftedlarvitar</td>\n",
       "      <td>[]</td>\n",
       "      <td>None</td>\n",
       "      <td>text</td>\n",
       "      <td>t2_16n5qi</td>\n",
       "      <td>False</td>\n",
       "      <td>False</td>\n",
       "      <td>[]</td>\n",
       "      <td>False</td>\n",
       "      <td>...</td>\n",
       "      <td>NaN</td>\n",
       "      <td>NaN</td>\n",
       "      <td>NaN</td>\n",
       "      <td>NaN</td>\n",
       "      <td>NaN</td>\n",
       "      <td>NaN</td>\n",
       "      <td>NaN</td>\n",
       "      <td>NaN</td>\n",
       "      <td>NaN</td>\n",
       "      <td>NaN</td>\n",
       "    </tr>\n",
       "    <tr>\n",
       "      <th>178811</th>\n",
       "      <td>[]</td>\n",
       "      <td>Fortnox-_-</td>\n",
       "      <td>[]</td>\n",
       "      <td>None</td>\n",
       "      <td>text</td>\n",
       "      <td>t2_a0rqwcp8</td>\n",
       "      <td>False</td>\n",
       "      <td>False</td>\n",
       "      <td>[]</td>\n",
       "      <td>False</td>\n",
       "      <td>...</td>\n",
       "      <td>NaN</td>\n",
       "      <td>NaN</td>\n",
       "      <td>NaN</td>\n",
       "      <td>NaN</td>\n",
       "      <td>NaN</td>\n",
       "      <td>NaN</td>\n",
       "      <td>NaN</td>\n",
       "      <td>NaN</td>\n",
       "      <td>NaN</td>\n",
       "      <td>NaN</td>\n",
       "    </tr>\n",
       "    <tr>\n",
       "      <th>178812</th>\n",
       "      <td>[]</td>\n",
       "      <td>Whole-Part388</td>\n",
       "      <td>[]</td>\n",
       "      <td>None</td>\n",
       "      <td>text</td>\n",
       "      <td>t2_7a0hdfy6</td>\n",
       "      <td>False</td>\n",
       "      <td>False</td>\n",
       "      <td>[]</td>\n",
       "      <td>False</td>\n",
       "      <td>...</td>\n",
       "      <td>NaN</td>\n",
       "      <td>NaN</td>\n",
       "      <td>NaN</td>\n",
       "      <td>NaN</td>\n",
       "      <td>NaN</td>\n",
       "      <td>NaN</td>\n",
       "      <td>NaN</td>\n",
       "      <td>NaN</td>\n",
       "      <td>NaN</td>\n",
       "      <td>NaN</td>\n",
       "    </tr>\n",
       "  </tbody>\n",
       "</table>\n",
       "<p>178813 rows × 87 columns</p>\n",
       "</div>"
      ],
      "text/plain": [
       "       all_awardings                author author_flair_richtext  \\\n",
       "0                 []       guitarheropwn21                    []   \n",
       "1                 []          stonkylassie                    []   \n",
       "2                 []             Bridge4YC                    []   \n",
       "3                 []  ChingityChingtyChong                    []   \n",
       "4                 []          Poopoosexman                    []   \n",
       "...              ...                   ...                   ...   \n",
       "178808            []              robbe-cl                    []   \n",
       "178809            []              powleads                    []   \n",
       "178810            []        Liftedlarvitar                    []   \n",
       "178811            []            Fortnox-_-                    []   \n",
       "178812            []         Whole-Part388                    []   \n",
       "\n",
       "       author_flair_text author_flair_type author_fullname  \\\n",
       "0                   None              text        t2_9g956   \n",
       "1                   None              text     t2_80q8h8pv   \n",
       "2                   None              text     t2_3g7567fg   \n",
       "3                   None              text     t2_2dbxwncy   \n",
       "4                   None              text     t2_50tnyl7m   \n",
       "...                  ...               ...             ...   \n",
       "178808              None              text     t2_7b1xle97   \n",
       "178809              None              text     t2_8cii0hir   \n",
       "178810              None              text       t2_16n5qi   \n",
       "178811              None              text     t2_a0rqwcp8   \n",
       "178812              None              text     t2_7a0hdfy6   \n",
       "\n",
       "       author_patreon_flair author_premium awarders  can_mod_post  ...  \\\n",
       "0                     False          False       []         False  ...   \n",
       "1                     False          False       []         False  ...   \n",
       "2                     False          False       []         False  ...   \n",
       "3                     False          False       []         False  ...   \n",
       "4                     False          False       []         False  ...   \n",
       "...                     ...            ...      ...           ...  ...   \n",
       "178808                False          False       []         False  ...   \n",
       "178809                False          False       []         False  ...   \n",
       "178810                False          False       []         False  ...   \n",
       "178811                False          False       []         False  ...   \n",
       "178812                False          False       []         False  ...   \n",
       "\n",
       "        discussion_type  crosspost_parent crosspost_parent_list  \\\n",
       "0                   NaN               NaN                   NaN   \n",
       "1                   NaN               NaN                   NaN   \n",
       "2                   NaN               NaN                   NaN   \n",
       "3                   NaN               NaN                   NaN   \n",
       "4                   NaN               NaN                   NaN   \n",
       "...                 ...               ...                   ...   \n",
       "178808              NaN               NaN                   NaN   \n",
       "178809              NaN               NaN                   NaN   \n",
       "178810              NaN               NaN                   NaN   \n",
       "178811              NaN               NaN                   NaN   \n",
       "178812              NaN               NaN                   NaN   \n",
       "\n",
       "       author_flair_template_id author_is_blocked is_created_from_ads_ui  \\\n",
       "0                           NaN               NaN                    NaN   \n",
       "1                           NaN               NaN                    NaN   \n",
       "2                           NaN               NaN                    NaN   \n",
       "3                           NaN               NaN                    NaN   \n",
       "4                           NaN               NaN                    NaN   \n",
       "...                         ...               ...                    ...   \n",
       "178808                      NaN               NaN                    NaN   \n",
       "178809                      NaN               NaN                    NaN   \n",
       "178810                      NaN               NaN                    NaN   \n",
       "178811                      NaN               NaN                    NaN   \n",
       "178812                      NaN               NaN                    NaN   \n",
       "\n",
       "        steward_reports  gilded  distinguished  collections  \n",
       "0                   NaN     NaN            NaN          NaN  \n",
       "1                   NaN     NaN            NaN          NaN  \n",
       "2                   NaN     NaN            NaN          NaN  \n",
       "3                   NaN     NaN            NaN          NaN  \n",
       "4                   NaN     NaN            NaN          NaN  \n",
       "...                 ...     ...            ...          ...  \n",
       "178808              NaN     NaN            NaN          NaN  \n",
       "178809              NaN     NaN            NaN          NaN  \n",
       "178810              NaN     NaN            NaN          NaN  \n",
       "178811              NaN     NaN            NaN          NaN  \n",
       "178812              NaN     NaN            NaN          NaN  \n",
       "\n",
       "[178813 rows x 87 columns]"
      ]
     },
     "metadata": {},
     "execution_count": 107
    }
   ],
   "metadata": {}
  },
  {
   "cell_type": "code",
   "execution_count": null,
   "source": [],
   "outputs": [],
   "metadata": {}
  },
  {
   "cell_type": "code",
   "execution_count": null,
   "source": [],
   "outputs": [],
   "metadata": {}
  },
  {
   "cell_type": "markdown",
   "source": [],
   "metadata": {}
  }
 ],
 "metadata": {
  "orig_nbformat": 4,
  "language_info": {
   "name": "python",
   "version": "3.9.5",
   "mimetype": "text/x-python",
   "codemirror_mode": {
    "name": "ipython",
    "version": 3
   },
   "pygments_lexer": "ipython3",
   "nbconvert_exporter": "python",
   "file_extension": ".py"
  },
  "kernelspec": {
   "name": "python3",
   "display_name": "Python 3.9.5 64-bit ('.thesis': venv)"
  },
  "interpreter": {
   "hash": "9cbf719e3a6bae849a7ceaf0338c4b24a4d1a8685d6b4521732eb78799be0b2d"
  }
 },
 "nbformat": 4,
 "nbformat_minor": 2
}