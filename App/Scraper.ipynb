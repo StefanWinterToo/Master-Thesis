{
 "cells": [
  {
   "cell_type": "markdown",
   "source": [
    "# Scrape Data From Reddit Pushshift"
   ],
   "metadata": {}
  },
  {
   "cell_type": "code",
   "execution_count": 8,
   "source": [
    "from Reddit_Loader import Loader\r\n",
    "import datetime\r\n",
    "import pandas as pd\r\n",
    "import pickle\r\n"
   ],
   "outputs": [],
   "metadata": {}
  },
  {
   "cell_type": "code",
   "execution_count": 2,
   "source": [
    "# Set Start and End Date\r\n",
    "START = \"01/09/2021\"\r\n",
    "END = datetime.datetime.now().strftime(\"%d/%m/%Y\") #today"
   ],
   "outputs": [],
   "metadata": {}
  },
  {
   "cell_type": "code",
   "execution_count": 3,
   "source": [
    "# Load data from Pushshift and store it as a dataframe\r\n",
    "l = Loader(\"gme\", START, END, \"wallstreetbets\")\r\n",
    "submissions = l.load_submissions()"
   ],
   "outputs": [
    {
     "output_type": "stream",
     "name": "stdout",
     "text": [
      "Response cache key: 78b74e1becebdb8c4b06175744a58ef7\n",
      "Retrieved 694 submissions from Pushshift.\n"
     ]
    }
   ],
   "metadata": {}
  },
  {
   "cell_type": "code",
   "execution_count": 7,
   "source": [
    "# Save as csv\r\n",
    "submissions.to_csv('./data/submissions.csv', encoding='utf-8', index=False)"
   ],
   "outputs": [],
   "metadata": {}
  },
  {
   "cell_type": "code",
   "execution_count": 9,
   "source": [
    "# Save dataframe as pickle\r\n",
    "submissions.to_pickle(\"./data/submissions.pkl\")"
   ],
   "outputs": [],
   "metadata": {}
  },
  {
   "cell_type": "code",
   "execution_count": 10,
   "source": [
    "print(pd.read_pickle(\"./data/submissions.pkl\"))"
   ],
   "outputs": [
    {
     "output_type": "stream",
     "name": "stdout",
     "text": [
      "    all_awardings  allow_live_comments                author  \\\n",
      "0              []                False               didiamc   \n",
      "1              []                False     Papo_of_the_papos   \n",
      "2              []                False          Shethjugal03   \n",
      "3              []                False               1xSoSx1   \n",
      "4              []                False                aznkor   \n",
      "..            ...                  ...                   ...   \n",
      "689            []                False      BigWhaleOfficial   \n",
      "690            []                False  Affectionate-Duck452   \n",
      "691            []                False               dvinz01   \n",
      "692            []                False      BigWhaleOfficial   \n",
      "693            []                False     BurgundySerpent72   \n",
      "\n",
      "    author_flair_css_class author_flair_richtext author_flair_text  \\\n",
      "0                     None                    []              None   \n",
      "1                     None                    []              None   \n",
      "2                     None                    []              None   \n",
      "3                     None                    []              None   \n",
      "4                     None                    []              None   \n",
      "..                     ...                   ...               ...   \n",
      "689                   None                    []              None   \n",
      "690                   None                    []              None   \n",
      "691                   None                    []              None   \n",
      "692                   None                    []              None   \n",
      "693                   None                    []              None   \n",
      "\n",
      "    author_flair_type author_fullname  author_is_blocked author_patreon_flair  \\\n",
      "0                text     t2_edtvc3hw              False                False   \n",
      "1                text     t2_61f48hyb              False                False   \n",
      "2                text     t2_7sqnu2p0              False                False   \n",
      "3                text     t2_6c8mg5qx              False                False   \n",
      "4                text     t2_8fyo5wpj              False                False   \n",
      "..                ...             ...                ...                  ...   \n",
      "689              text     t2_a132q61o              False                False   \n",
      "690              text     t2_ch63ckvg              False                False   \n",
      "691              text        t2_erp6w              False                False   \n",
      "692              text     t2_a132q61o              False                False   \n",
      "693              text     t2_86woyiof              False                False   \n",
      "\n",
      "     ... author_flair_background_color author_flair_text_color  \\\n",
      "0    ...                           NaN                     NaN   \n",
      "1    ...                           NaN                     NaN   \n",
      "2    ...                           NaN                     NaN   \n",
      "3    ...                           NaN                     NaN   \n",
      "4    ...                           NaN                     NaN   \n",
      "..   ...                           ...                     ...   \n",
      "689  ...                           NaN                     NaN   \n",
      "690  ...                           NaN                     NaN   \n",
      "691  ...                           NaN                     NaN   \n",
      "692  ...                           NaN                     NaN   \n",
      "693  ...                           NaN                     NaN   \n",
      "\n",
      "     author_flair_template_id  gallery_data  is_gallery media secure_media  \\\n",
      "0                         NaN           NaN         NaN   NaN          NaN   \n",
      "1                         NaN           NaN         NaN   NaN          NaN   \n",
      "2                         NaN           NaN         NaN   NaN          NaN   \n",
      "3                         NaN           NaN         NaN   NaN          NaN   \n",
      "4                         NaN           NaN         NaN   NaN          NaN   \n",
      "..                        ...           ...         ...   ...          ...   \n",
      "689                       NaN           NaN         NaN   NaN          NaN   \n",
      "690                       NaN           NaN         NaN   NaN          NaN   \n",
      "691                       NaN           NaN         NaN   NaN          NaN   \n",
      "692                       NaN           NaN         NaN   NaN          NaN   \n",
      "693                       NaN           NaN         NaN   NaN          NaN   \n",
      "\n",
      "    media_embed secure_media_embed  author_cakeday  \n",
      "0           NaN                NaN             NaN  \n",
      "1           NaN                NaN             NaN  \n",
      "2           NaN                NaN             NaN  \n",
      "3           NaN                NaN             NaN  \n",
      "4           NaN                NaN             NaN  \n",
      "..          ...                ...             ...  \n",
      "689         NaN                NaN             NaN  \n",
      "690         NaN                NaN             NaN  \n",
      "691         NaN                NaN             NaN  \n",
      "692         NaN                NaN             NaN  \n",
      "693         NaN                NaN             NaN  \n",
      "\n",
      "[694 rows x 80 columns]\n"
     ]
    }
   ],
   "metadata": {}
  },
  {
   "cell_type": "code",
   "execution_count": null,
   "source": [],
   "outputs": [],
   "metadata": {}
  }
 ],
 "metadata": {
  "orig_nbformat": 4,
  "language_info": {
   "name": "python",
   "version": "3.9.5",
   "mimetype": "text/x-python",
   "codemirror_mode": {
    "name": "ipython",
    "version": 3
   },
   "pygments_lexer": "ipython3",
   "nbconvert_exporter": "python",
   "file_extension": ".py"
  },
  "kernelspec": {
   "name": "python3",
   "display_name": "Python 3.9.5 64-bit ('.thesis': venv)"
  },
  "interpreter": {
   "hash": "9cbf719e3a6bae849a7ceaf0338c4b24a4d1a8685d6b4521732eb78799be0b2d"
  }
 },
 "nbformat": 4,
 "nbformat_minor": 2
}