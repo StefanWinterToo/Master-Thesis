{
 "cells": [
  {
   "cell_type": "markdown",
   "source": [
    "# Scrape Data From Reddit Pushshift"
   ],
   "metadata": {}
  },
  {
   "cell_type": "code",
   "execution_count": 1,
   "source": [
    "from Reddit_Loader import Loader\n",
    "import datetime\n",
    "import pandas as pd\n",
    "import pickle\n"
   ],
   "outputs": [],
   "metadata": {}
  },
  {
   "cell_type": "code",
   "execution_count": 12,
   "source": [
    "# Set Start and End Date\n",
    "START = \"01/01/2020\"\n",
    "END = datetime.datetime.now().strftime(\"%d/%m/%Y\") #today"
   ],
   "outputs": [],
   "metadata": {}
  },
  {
   "cell_type": "code",
   "execution_count": 13,
   "source": [
    "# Load data from Pushshift and store it as a dataframe\n",
    "l = Loader(\"gme\", START, END, \"wallstreetbets\")\n",
    "submissions = l.load_submissions()"
   ],
   "outputs": [
    {
     "output_type": "stream",
     "name": "stdout",
     "text": [
      "Response cache key: 29983c8c40dd541667743b8ea5bd1315\n"
     ]
    },
    {
     "output_type": "stream",
     "name": "stderr",
     "text": [
      "Not all PushShift shards are active. Query results may be incomplete.\n"
     ]
    },
    {
     "output_type": "stream",
     "name": "stdout",
     "text": [
      "179167 result(s) available in Pushshift\n"
     ]
    },
    {
     "output_type": "stream",
     "name": "stderr",
     "text": [
      "Not all PushShift shards are active. Query results may be incomplete.\n"
     ]
    },
    {
     "output_type": "stream",
     "name": "stdout",
     "text": [
      "Total:: Success Rate: 80.71% - Requests: 2649 - Batches: 266 - Items Remaining: 354\n"
     ]
    },
    {
     "output_type": "stream",
     "name": "stderr",
     "text": [
      "Not all PushShift shards are active. Query results may be incomplete.\n"
     ]
    },
    {
     "output_type": "stream",
     "name": "stdout",
     "text": [
      "354 result(s) not found in Pushshift\n",
      "Retrieved 178813 submissions from Pushshift.\n"
     ]
    }
   ],
   "metadata": {}
  },
  {
   "cell_type": "code",
   "execution_count": 15,
   "source": [
    "# Save as csv\n",
    "submissions.to_csv('./data/submissions.csv', encoding='utf-8', index=False)"
   ],
   "outputs": [],
   "metadata": {}
  },
  {
   "cell_type": "code",
   "execution_count": 14,
   "source": [
    "# Save dataframe as pickle\n",
    "submissions.to_pickle(\"./data/submissions.pkl\")"
   ],
   "outputs": [],
   "metadata": {}
  },
  {
   "cell_type": "code",
   "execution_count": 3,
   "source": [
    "submissions = pd.read_pickle(\"./data/submissions.pkl\")"
   ],
   "outputs": [],
   "metadata": {}
  },
  {
   "cell_type": "markdown",
   "source": [
    "# Data Exploration"
   ],
   "metadata": {}
  },
  {
   "cell_type": "code",
   "execution_count": 92,
   "source": [
    "# All the available columns in the submissions dataframe\n",
    "for element in submissions:\n",
    "    print(element, end = \", \")"
   ],
   "outputs": [
    {
     "output_type": "stream",
     "name": "stdout",
     "text": [
      "all_awardings, allow_live_comments, author, author_flair_css_class, author_flair_richtext, author_flair_text, author_flair_type, author_fullname, author_patreon_flair, author_premium, awarders, can_mod_post, contest_mode, created_utc, domain, full_link, gildings, id, is_crosspostable, is_meta, is_original_content, is_reddit_media_domain, is_robot_indexable, is_self, is_video, link_flair_background_color, link_flair_css_class, link_flair_richtext, link_flair_template_id, link_flair_text, link_flair_text_color, link_flair_type, locked, media_only, no_follow, num_comments, num_crossposts, over_18, parent_whitelist_status, permalink, pinned, pwls, retrieved_on, score, selftext, send_replies, spoiler, stickied, subreddit, subreddit_id, subreddit_subscribers, subreddit_type, suggested_sort, thumbnail, title, total_awards_received, treatment_tags, upvote_ratio, url, whitelist_status, wls, post_hint, preview, removed_by_category, is_gallery, thumbnail_height, thumbnail_width, url_overridden_by_dest, media_metadata, media, media_embed, secure_media, secure_media_embed, author_flair_background_color, author_flair_text_color, edited, gallery_data, banned_by, author_cakeday, discussion_type, crosspost_parent, crosspost_parent_list, author_flair_template_id, author_is_blocked, is_created_from_ads_ui, steward_reports, gilded, distinguished, collections, "
     ]
    }
   ],
   "metadata": {}
  },
  {
   "cell_type": "code",
   "execution_count": 1,
   "source": [
    "l = (\"all_awardings\",\n",
    "\"allow_live_comments\",\n",
    "\"author\",\n",
    "\"author_flair_css_class\",\n",
    "\"author_flair_richtext\",\n",
    "\"author_flair_text\",\n",
    "\"author_flair_type\",\n",
    "\"author_fullname\",\n",
    "\"author_patreon_flair\",\n",
    "\"author_premium\",\n",
    "\"awarders\",\n",
    "\"can_mod_post\",\n",
    "\"contest_mode\",\n",
    "\"created_utc\",\n",
    "\"domain\",\n",
    "\"full_link\",\n",
    "\"gildings\",\n",
    "\"id\",\n",
    "\"is_crosspostable\",\n",
    "\"is_meta\",\n",
    "\"is_original_content\",\n",
    "\"is_reddit_media_domain\",\n",
    "\"is_robot_indexable\",\n",
    "\"is_self\",\n",
    "\"is_video\",\n",
    "\"link_flair_background_color\",\n",
    "\"link_flair_css_class\",\n",
    "\"link_flair_richtext\",\n",
    "\"link_flair_template_id\",\n",
    "\"link_flair_text\",\n",
    "\"link_flair_text_color\",\n",
    "\"link_flair_type\",\n",
    "\"locked\",\n",
    "\"media_only\",\n",
    "\"no_follow\",\n",
    "\"num_comments\",\n",
    "\"num_crossposts\",\n",
    "\"over_18\",\n",
    "\"parent_whitelist_status\",\n",
    "\"permalink\",\n",
    "\"pinned\",\n",
    "\"pwls\",\n",
    "\"retrieved_on\",\n",
    "\"score\",\n",
    "\"selftext\",\n",
    "\"send_replies\",\n",
    "\"spoiler\",\n",
    "\"stickied\",\n",
    "\"subreddit\",\n",
    "\"subreddit_id\",\n",
    "\"subreddit_subscribers\",\n",
    "\"subreddit_type\",\n",
    "\"suggested_sort\",\n",
    "\"thumbnail\",\n",
    "\"title\",\n",
    "\"total_awards_received\",\n",
    "\"treatment_tags\",\n",
    "\"upvote_ratio\",\n",
    "\"url\",\n",
    "\"whitelist_status\",\n",
    "\"wls\",\n",
    "\"post_hint\",\n",
    "\"preview\",\n",
    "\"removed_by_category\",\n",
    "\"is_gallery\",\n",
    "\"thumbnail_height\",\n",
    "\"thumbnail_width\",\n",
    "\"url_overridden_by_dest\",\n",
    "\"media_metadata\",\n",
    "\"media\",\n",
    "\"media_embed\",\n",
    "\"secure_media\",\n",
    "\"secure_media_embed\",\n",
    "\"author_flair_background_color\",\n",
    "\"author_flair_text_color\",\n",
    "\"edited\",\n",
    "\"gallery_data\",\n",
    "\"banned_by\",\n",
    "\"author_cakeday\",\n",
    "\"discussion_type\",\n",
    "\"crosspost_parent\",\n",
    "\"crosspost_parent_list\",\n",
    "\"author_flair_template_id\",\n",
    "\"author_is_blocked\",\n",
    "\"is_created_from_ads_ui\",\n",
    "\"steward_reports\",\n",
    "\"gilded\",\n",
    "\"distinguished\",\n",
    "\"collections\")\n",
    "\n",
    "len(l)"
   ],
   "outputs": [
    {
     "output_type": "execute_result",
     "data": {
      "text/plain": [
       "89"
      ]
     },
     "metadata": {},
     "execution_count": 1
    }
   ],
   "metadata": {}
  },
  {
   "cell_type": "code",
   "execution_count": 78,
   "source": [
    "# The number of Awards can be used as a proxy for the awards given\n",
    "print(len(submissions[\"all_awardings\"][44][0][\"resized_icons\"])) # We only count the unique awards given, not if an award has been given multiple times. May figure it out later.\n",
    "\n",
    "# is_video can be useful to weed out posts, that do not have any content and only a video. Might still be able to perform sentiment analysis on the title.\n",
    "# link_flair_text can be useful to classify content: Meme, Yolo, etc.\n",
    "# subreddit_subscribers is a cool statistic\n",
    "# thumbnail can be used to see if posts with a thumbnail have a bigger impact\n",
    "# media refers to external links. Can probably remove all those entries\n",
    "\n",
    "# To do:\n",
    "# double check the upvote ratio, it seems to be wrong\n",
    "# see how accurate removed_by_category is"
   ],
   "outputs": [
    {
     "output_type": "stream",
     "name": "stdout",
     "text": [
      "5\n"
     ]
    }
   ],
   "metadata": {}
  },
  {
   "cell_type": "code",
   "execution_count": 353,
   "source": [
    "# Drop unneeded columns\n",
    "## allow_live_comments is Boolean\n",
    "## author_flair_css_class shows the css class of the author_flair\n",
    "## author_flair_richtext, author_flair_text, author_flair_type can be ignored, because the author can assign a flair to himself if he wants to\n",
    "## author_fullname is just the id for the user\n",
    "## author_patreon_flair, author_premium, domain, gildings, is_crosspostable, is_original_content, is_reddit_media_domain, is_robot_indexable,\n",
    "## is_self, link_flair_background_color, link_flair_text_color, link_flair_css_class, link_flair_template_id, locked, media_only,\n",
    "## no_follow, over_18, parent_whitelist_status, permalink, pwls, send_replies, spoiler, stickied, suggested_sort, subreddit_type, treatment_tags,\n",
    "## whitelist_status, wls, preview, is_gallery, thumbnail_height, thumbnail_width, url_overridden_by_dest, media_metadata, secure_media,\n",
    "## secure_media_embed, author_flair_background_color, author_flair_text_color, edited, gallery_data, banned_by do not seem to be helpful for sentiment analysis\n",
    "## awarders is always empty\n",
    "## can_mod_post, contest_mode, is_meta, pinned are always False\n",
    "## link_flair_type, discussion_type, crosspost_parent, crosspost_parent_list, author_flair_template_id, author_is_blocked,\n",
    "## is_created_from_ads_ui, steward_reports, gilded, distinguished, collections don't really say anything\n",
    "## link_flair_richtext is a dictionary for for link_flair(which is not discarded)\n",
    "## total_awards_received is similar to all_awardings, but not accurate\n",
    "submissions = submissions.drop(columns = [\"allow_live_comments\", \"author_flair_css_class\", \"author_flair_richtext\", \n",
    "                            \"author_flair_text\", \"author_flair_type\", \"author_fullname\", \"author_patreon_flair\",\n",
    "                            \"author_premium\", \"domain\", \"awarders\", \"can_mod_post\", \"contest_mode\",\n",
    "                            \"gildings\", \"is_crosspostable\", \"is_meta\", \"is_original_content\", \"is_reddit_media_domain\",\n",
    "                            \"is_robot_indexable\", \"is_self\", \"link_flair_background_color\", \"link_flair_text_color\",\n",
    "                            \"link_flair_type\", \"link_flair_css_class\", \"link_flair_richtext\", \"link_flair_template_id\",\n",
    "                            \"locked\", \"media_only\", \"no_follow\", \"over_18\", \"parent_whitelist_status\", \"permalink\",\n",
    "                            \"pinned\", \"pwls\", \"send_replies\", \"spoiler\", \"stickied\", \"subreddit_type\", \"suggested_sort\",\n",
    "                            \"treatment_tags\", \"whitelist_status\", \"wls\", \"preview\", \"is_gallery\", \"thumbnail_height\",\n",
    "                            \"thumbnail_width\", \"url_overridden_by_dest\", \"media_metadata\", \"secure_media\", \"secure_media_embed\",\n",
    "                            \"author_flair_background_color\", \"author_flair_text_color\", \"edited\", \"gallery_data\",\n",
    "                            \"banned_by\", \"discussion_type\", \"crosspost_parent\", \"crosspost_parent_list\",\n",
    "                            \"author_flair_template_id\", \"author_is_blocked\", \"is_created_from_ads_ui\",\n",
    "                            \"steward_reports\", \"gilded\", \"distinguished\", \"collections\"])"
   ],
   "outputs": [],
   "metadata": {}
  },
  {
   "cell_type": "code",
   "execution_count": 354,
   "source": [
    "print(submissions.columns)"
   ],
   "outputs": [
    {
     "output_type": "stream",
     "name": "stdout",
     "text": [
      "Index(['all_awardings', 'author', 'created_utc', 'full_link', 'id', 'is_video',\n",
      "       'link_flair_text', 'num_comments', 'num_crossposts', 'retrieved_on',\n",
      "       'score', 'selftext', 'subreddit', 'subreddit_id',\n",
      "       'subreddit_subscribers', 'thumbnail', 'title', 'total_awards_received',\n",
      "       'upvote_ratio', 'url', 'post_hint', 'removed_by_category', 'media',\n",
      "       'media_embed', 'author_cakeday'],\n",
      "      dtype='object')\n"
     ]
    }
   ],
   "metadata": {}
  },
  {
   "cell_type": "code",
   "execution_count": null,
   "source": [],
   "outputs": [],
   "metadata": {}
  },
  {
   "cell_type": "markdown",
   "source": [],
   "metadata": {}
  }
 ],
 "metadata": {
  "orig_nbformat": 4,
  "language_info": {
   "name": "python",
   "version": "3.7.3",
   "mimetype": "text/x-python",
   "codemirror_mode": {
    "name": "ipython",
    "version": 3
   },
   "pygments_lexer": "ipython3",
   "nbconvert_exporter": "python",
   "file_extension": ".py"
  },
  "kernelspec": {
   "name": "python3",
   "display_name": "Python 3.7.3 64-bit"
  },
  "interpreter": {
   "hash": "31f2aee4e71d21fbe5cf8b01ff0e069b9275f58929596ceb00d14d90e3e16cd6"
  }
 },
 "nbformat": 4,
 "nbformat_minor": 2
}