{
 "cells": [
  {
   "cell_type": "markdown",
   "source": [
    "# This is the playground, where everything can happen, but nothing must happen!"
   ],
   "metadata": {}
  },
  {
   "cell_type": "code",
   "execution_count": 8,
   "source": [
    "from psaw import PushshiftAPI\r\n",
    "import requests\r\n",
    "import json\r\n",
    "import csv\r\n",
    "api = PushshiftAPI()"
   ],
   "outputs": [
    {
     "output_type": "error",
     "ename": "ModuleNotFoundError",
     "evalue": "No module named 'psaw'",
     "traceback": [
      "\u001b[1;31m---------------------------------------------------------------------------\u001b[0m",
      "\u001b[1;31mModuleNotFoundError\u001b[0m                       Traceback (most recent call last)",
      "\u001b[1;32m<ipython-input-8-4ea67825276f>\u001b[0m in \u001b[0;36m<module>\u001b[1;34m\u001b[0m\n\u001b[1;32m----> 1\u001b[1;33m \u001b[1;32mfrom\u001b[0m \u001b[0mpsaw\u001b[0m \u001b[1;32mimport\u001b[0m \u001b[0mPushshiftAPI\u001b[0m\u001b[1;33m\u001b[0m\u001b[1;33m\u001b[0m\u001b[0m\n\u001b[0m\u001b[0;32m      2\u001b[0m \u001b[1;32mimport\u001b[0m \u001b[0mrequests\u001b[0m\u001b[1;33m\u001b[0m\u001b[1;33m\u001b[0m\u001b[0m\n\u001b[0;32m      3\u001b[0m \u001b[1;32mimport\u001b[0m \u001b[0mjson\u001b[0m\u001b[1;33m\u001b[0m\u001b[1;33m\u001b[0m\u001b[0m\n\u001b[0;32m      4\u001b[0m \u001b[1;32mimport\u001b[0m \u001b[0mcsv\u001b[0m\u001b[1;33m\u001b[0m\u001b[1;33m\u001b[0m\u001b[0m\n\u001b[0;32m      5\u001b[0m \u001b[0mapi\u001b[0m \u001b[1;33m=\u001b[0m \u001b[0mPushshiftAPI\u001b[0m\u001b[1;33m(\u001b[0m\u001b[1;33m)\u001b[0m\u001b[1;33m\u001b[0m\u001b[1;33m\u001b[0m\u001b[0m\n",
      "\u001b[1;31mModuleNotFoundError\u001b[0m: No module named 'psaw'"
     ]
    }
   ],
   "metadata": {}
  },
  {
   "cell_type": "code",
   "execution_count": 2,
   "source": [
    "gen = api.search_submissions(limit=100)\r\n",
    "results = list(gen)"
   ],
   "outputs": [
    {
     "output_type": "stream",
     "name": "stderr",
     "text": [
      "/Users/stefanwinter/Library/Python/3.7/lib/python/site-packages/psaw/PushshiftAPI.py:252: UserWarning: Not all PushShift shards are active. Query results may be incomplete\n",
      "  warnings.warn(shards_down_message)\n"
     ]
    }
   ],
   "metadata": {}
  },
  {
   "cell_type": "code",
   "execution_count": 6,
   "source": [
    "# Convert date to unix timestampe\r\n",
    "\r\n",
    "import time\r\n",
    "import datetime\r\n",
    "\r\n",
    "def convert_time_to_unix(START, END):\r\n",
    "    start = int(time.mktime(datetime.datetime.strptime(START, \"%d/%m/%Y\").timetuple()))\r\n",
    "    end = int(time.mktime(datetime.datetime.strptime(END, \"%d/%m/%Y\").timetuple()))\r\n",
    "\r\n",
    "    return start, end\r\n",
    "\r\n",
    "#    print(\"Start: {} -> {}\".format(START, start))\r\n",
    "#    print(\"End: {} -> {}\".format(END, end))"
   ],
   "outputs": [],
   "metadata": {}
  },
  {
   "cell_type": "code",
   "execution_count": null,
   "source": [],
   "outputs": [],
   "metadata": {}
  },
  {
   "cell_type": "markdown",
   "source": [
    "# Pushshift Params  \n",
    "size — increase limit of returned entries to 1000  \n",
    "after — where to start the search  \n",
    "before — where to end the search  \n",
    "title — to search only within the submission’s title  \n",
    "subreddit — to narrow it down to a particular subreddit  "
   ],
   "metadata": {}
  },
  {
   "cell_type": "code",
   "execution_count": 7,
   "source": [
    "def collectSubData(subm):\r\n",
    "    subData = list() #list to store data points\r\n",
    "    title = subm['title']\r\n",
    "    url = subm['url']\r\n",
    "    try:\r\n",
    "        flair = subm['link_flair_text']\r\n",
    "    except KeyError:\r\n",
    "        flair = \"NaN\"    \r\n",
    "    author = subm['author']\r\n",
    "    sub_id = subm['id']\r\n",
    "    score = subm['score']\r\n",
    "    created = datetime.datetime.fromtimestamp(subm['created_utc']) #1520561700.0\r\n",
    "    numComms = subm['num_comments']\r\n",
    "    permalink = subm['permalink']\r\n",
    "    \r\n",
    "    subData.append((sub_id,title,url,author,score,created,numComms,permalink,flair))\r\n",
    "    subStats[sub_id] = subData"
   ],
   "outputs": [],
   "metadata": {}
  },
  {
   "cell_type": "code",
   "execution_count": 22,
   "source": [
    "START = \"01/09/2021\"\r\n",
    "END = datetime.datetime.now().strftime(\"%d/%m/%Y\") #today\r\n",
    "\r\n",
    "#Subreddit to query\r\n",
    "sub='wallstreetbets'\r\n",
    "#before and after dates\r\n",
    "after, before = convert_time_to_unix(START, END)\r\n",
    "print(after, before)\r\n",
    "query = \"gme\"\r\n",
    "subCount = 0\r\n",
    "subStats = {}"
   ],
   "outputs": [
    {
     "output_type": "stream",
     "name": "stdout",
     "text": [
      "1630447200 1631138400\n"
     ]
    }
   ],
   "metadata": {}
  },
  {
   "cell_type": "code",
   "execution_count": 2,
   "source": [
    "def getPushshiftData(query, after, before, sub):\r\n",
    "    url = 'https://api.pushshift.io/reddit/search/submission/?title='+str(query)+'&size=1000&after='+str(after)+'&before='+str(before)+'&subreddit='+str(sub)\r\n",
    "    print(url)\r\n",
    "    r = requests.get(url)\r\n",
    "    data = json.loads(r.text)\r\n",
    "    return data['data']"
   ],
   "outputs": [],
   "metadata": {}
  },
  {
   "cell_type": "code",
   "execution_count": 4,
   "source": [
    "getPushshiftData(\"gme\", 1630447200, 1632261600, \"wallstreetbets\")"
   ],
   "outputs": [
    {
     "output_type": "stream",
     "name": "stdout",
     "text": [
      "https://api.pushshift.io/reddit/search/submission/?title=gme&size=1000&after=1630447200&before=1632261600&subreddit=wallstreetbets\n"
     ]
    },
    {
     "output_type": "error",
     "ename": "NameError",
     "evalue": "name 'requests' is not defined",
     "traceback": [
      "\u001b[1;31m---------------------------------------------------------------------------\u001b[0m",
      "\u001b[1;31mNameError\u001b[0m                                 Traceback (most recent call last)",
      "\u001b[1;32m<ipython-input-4-769594c7854f>\u001b[0m in \u001b[0;36m<module>\u001b[1;34m\u001b[0m\n\u001b[1;32m----> 1\u001b[1;33m \u001b[0mgetPushshiftData\u001b[0m\u001b[1;33m(\u001b[0m\u001b[1;34m\"gme\"\u001b[0m\u001b[1;33m,\u001b[0m \u001b[1;36m1630447200\u001b[0m\u001b[1;33m,\u001b[0m \u001b[1;36m1632261600\u001b[0m\u001b[1;33m,\u001b[0m \u001b[1;34m\"wallstreetbets\"\u001b[0m\u001b[1;33m)\u001b[0m\u001b[1;33m\u001b[0m\u001b[1;33m\u001b[0m\u001b[0m\n\u001b[0m",
      "\u001b[1;32m<ipython-input-2-0715b878a0dc>\u001b[0m in \u001b[0;36mgetPushshiftData\u001b[1;34m(query, after, before, sub)\u001b[0m\n\u001b[0;32m      2\u001b[0m     \u001b[0murl\u001b[0m \u001b[1;33m=\u001b[0m \u001b[1;34m'https://api.pushshift.io/reddit/search/submission/?title='\u001b[0m\u001b[1;33m+\u001b[0m\u001b[0mstr\u001b[0m\u001b[1;33m(\u001b[0m\u001b[0mquery\u001b[0m\u001b[1;33m)\u001b[0m\u001b[1;33m+\u001b[0m\u001b[1;34m'&size=1000&after='\u001b[0m\u001b[1;33m+\u001b[0m\u001b[0mstr\u001b[0m\u001b[1;33m(\u001b[0m\u001b[0mafter\u001b[0m\u001b[1;33m)\u001b[0m\u001b[1;33m+\u001b[0m\u001b[1;34m'&before='\u001b[0m\u001b[1;33m+\u001b[0m\u001b[0mstr\u001b[0m\u001b[1;33m(\u001b[0m\u001b[0mbefore\u001b[0m\u001b[1;33m)\u001b[0m\u001b[1;33m+\u001b[0m\u001b[1;34m'&subreddit='\u001b[0m\u001b[1;33m+\u001b[0m\u001b[0mstr\u001b[0m\u001b[1;33m(\u001b[0m\u001b[0msub\u001b[0m\u001b[1;33m)\u001b[0m\u001b[1;33m\u001b[0m\u001b[1;33m\u001b[0m\u001b[0m\n\u001b[0;32m      3\u001b[0m     \u001b[0mprint\u001b[0m\u001b[1;33m(\u001b[0m\u001b[0murl\u001b[0m\u001b[1;33m)\u001b[0m\u001b[1;33m\u001b[0m\u001b[1;33m\u001b[0m\u001b[0m\n\u001b[1;32m----> 4\u001b[1;33m     \u001b[0mr\u001b[0m \u001b[1;33m=\u001b[0m \u001b[0mrequests\u001b[0m\u001b[1;33m.\u001b[0m\u001b[0mget\u001b[0m\u001b[1;33m(\u001b[0m\u001b[0murl\u001b[0m\u001b[1;33m)\u001b[0m\u001b[1;33m\u001b[0m\u001b[1;33m\u001b[0m\u001b[0m\n\u001b[0m\u001b[0;32m      5\u001b[0m     \u001b[0mdata\u001b[0m \u001b[1;33m=\u001b[0m \u001b[0mjson\u001b[0m\u001b[1;33m.\u001b[0m\u001b[0mloads\u001b[0m\u001b[1;33m(\u001b[0m\u001b[0mr\u001b[0m\u001b[1;33m.\u001b[0m\u001b[0mtext\u001b[0m\u001b[1;33m)\u001b[0m\u001b[1;33m\u001b[0m\u001b[1;33m\u001b[0m\u001b[0m\n\u001b[0;32m      6\u001b[0m     \u001b[1;32mreturn\u001b[0m \u001b[0mdata\u001b[0m\u001b[1;33m[\u001b[0m\u001b[1;34m'data'\u001b[0m\u001b[1;33m]\u001b[0m\u001b[1;33m\u001b[0m\u001b[1;33m\u001b[0m\u001b[0m\n",
      "\u001b[1;31mNameError\u001b[0m: name 'requests' is not defined"
     ]
    }
   ],
   "metadata": {}
  },
  {
   "cell_type": "code",
   "execution_count": 24,
   "source": [
    "data = getPushshiftData(query, after, before, sub)\r\n",
    "# Will run until all posts have been gathered \r\n",
    "# from the 'after' date up until before date\r\n",
    "while len(data) > 0:\r\n",
    "    for submission in data:\r\n",
    "        collectSubData(submission)\r\n",
    "        subCount+=1\r\n",
    "    # Calls getPushshiftData() with the created date of the last submission\r\n",
    "    print(len(data))\r\n",
    "    print(str(datetime.datetime.fromtimestamp(data[-1]['created_utc'])))\r\n",
    "    after = data[-1]['created_utc']\r\n",
    "    data = getPushshiftData(query, after, before, sub)\r\n",
    "    \r\n",
    "print(len(data))"
   ],
   "outputs": [
    {
     "output_type": "stream",
     "name": "stdout",
     "text": [
      "https://api.pushshift.io/reddit/search/submission/?title=gme&size=1000&after=1630447200&before=1631138400&subreddit=wallstreetbets\n",
      "100\n",
      "2021-09-04 20:36:34\n",
      "https://api.pushshift.io/reddit/search/submission/?title=gme&size=1000&after=1630780594&before=1631138400&subreddit=wallstreetbets\n",
      "55\n",
      "2021-09-08 07:17:25\n",
      "https://api.pushshift.io/reddit/search/submission/?title=gme&size=1000&after=1631078245&before=1631138400&subreddit=wallstreetbets\n",
      "0\n"
     ]
    }
   ],
   "metadata": {}
  },
  {
   "cell_type": "code",
   "execution_count": 28,
   "source": [
    "print(str(len(subStats)) + \" submissions have added to list\")\r\n",
    "print(\"1st entry is:\")\r\n",
    "print(list(subStats.values())[0][0][1] + \" created: \" + str(list(subStats.values())[0][0][5]))\r\n",
    "print(\"Last entry is:\")\r\n",
    "print(list(subStats.values())[-1][0][1] + \" created: \" + str(list(subStats.values())[-1][0][5]))"
   ],
   "outputs": [
    {
     "output_type": "stream",
     "name": "stdout",
     "text": [
      "155 submissions have added to list\n",
      "1st entry is:\n",
      "I'm setting my sell limit high for GME so Robinhood can't give it to short sellers at current pricing....as I was told this was the way? Anyway, what dafuq is going on here? I don't want to hear about how bad RH is. I know. But I'm not cashing out and losing money. Well screw that. Any thoughts? created: 2021-09-01 00:15:06\n",
      "Last entry is:\n",
      "Since some of you think you’ll pull some magic out your ass and revive gme created: 2021-09-08 07:17:25\n"
     ]
    }
   ],
   "metadata": {}
  },
  {
   "cell_type": "code",
   "execution_count": 45,
   "source": [
    "def updateSubs_file():\r\n",
    "    upload_count = 0\r\n",
    "    location = \"data/\"\r\n",
    "    print(\"input filename of submission file, please add .csv\")\r\n",
    "    filename = input()\r\n",
    "    file = location + filename\r\n",
    "    with open(file, 'w', newline='', encoding='utf-8') as file: \r\n",
    "        a = csv.writer(file, delimiter=',')\r\n",
    "        headers = [\"Post ID\",\"Title\",\"Url\",\"Author\",\"Score\",\"Publish Date\",\"Total No. of Comments\",\"Permalink\",\"Flair\"]\r\n",
    "        a.writerow(headers)\r\n",
    "        for sub in subStats:\r\n",
    "            a.writerow(subStats[sub][0])\r\n",
    "            upload_count+=1\r\n",
    "            \r\n",
    "        print(str(upload_count) + \" submissions have been uploaded\")\r\n",
    "updateSubs_file()"
   ],
   "outputs": [
    {
     "output_type": "stream",
     "name": "stdout",
     "text": [
      "input filename of submission file, please add .csv\n",
      "155 submissions have been uploaded\n"
     ]
    }
   ],
   "metadata": {}
  },
  {
   "cell_type": "code",
   "execution_count": 14,
   "source": [
    "## Using the pmaw pushshift api wrapper\r\n",
    "# https://medium.com/swlh/how-to-scrape-large-amounts-of-reddit-data-using-pushshift-1d33bde9286"
   ],
   "outputs": [],
   "metadata": {}
  },
  {
   "cell_type": "code",
   "execution_count": 24,
   "source": [
    "import pandas as pd\r\n",
    "from pmaw import PushshiftAPI\r\n",
    "import datetime as dt\r\n",
    "\r\n",
    "api = PushshiftAPI()"
   ],
   "outputs": [],
   "metadata": {}
  },
  {
   "cell_type": "code",
   "execution_count": 9,
   "source": [
    "START = \"01/09/2021\"\r\n",
    "END = datetime.datetime.now().strftime(\"%d/%m/%Y\") #today\r\n",
    "\r\n",
    "#Subreddit to query\r\n",
    "subreddit = 'wallstreetbets'\r\n",
    "#before and after dates\r\n",
    "after, before = convert_time_to_unix(START, END)\r\n",
    "print(after, before)\r\n",
    "query = \"gme\"\r\n",
    "subCount = 0\r\n",
    "subStats = {}"
   ],
   "outputs": [
    {
     "output_type": "stream",
     "name": "stdout",
     "text": [
      "1630447200 1631224800\n"
     ]
    }
   ],
   "metadata": {}
  },
  {
   "cell_type": "code",
   "execution_count": 96,
   "source": [
    "# Submissions\r\n",
    "subreddit=\"wallstreetbets\"\r\n",
    "limit=1000\r\n",
    "submissions = api.search_submissions(subreddit=subreddit, q = \"gme\", before=before, after=after, mem_safe=True, safe_exit=True)\r\n",
    "print(f'Retrieved {len(submissions)} comments from Pushshift')"
   ],
   "outputs": [
    {
     "output_type": "stream",
     "name": "stdout",
     "text": [
      "Response cache key: d4780f3a8295132fb947e64afac8469f\n",
      "337 result(s) available in Pushshift\n",
      "Total:: Success Rate: 100.00% - Requests: 10 - Batches: 1 - Items Remaining: 0\n",
      "Retrieved 337 comments from Pushshift\n"
     ]
    }
   ],
   "metadata": {}
  },
  {
   "cell_type": "code",
   "execution_count": 97,
   "source": [
    "submissions_df = pd.DataFrame(submissions)"
   ],
   "outputs": [],
   "metadata": {}
  },
  {
   "cell_type": "code",
   "execution_count": 98,
   "source": [
    "print(submissions_df.columns)"
   ],
   "outputs": [
    {
     "output_type": "stream",
     "name": "stdout",
     "text": [
      "Index(['all_awardings', 'allow_live_comments', 'author',\n",
      "       'author_flair_css_class', 'author_flair_richtext', 'author_flair_text',\n",
      "       'author_flair_type', 'author_fullname', 'author_is_blocked',\n",
      "       'author_patreon_flair', 'author_premium', 'awarders', 'can_mod_post',\n",
      "       'contest_mode', 'created_utc', 'domain', 'full_link', 'gildings', 'id',\n",
      "       'is_created_from_ads_ui', 'is_crosspostable', 'is_meta',\n",
      "       'is_original_content', 'is_reddit_media_domain', 'is_robot_indexable',\n",
      "       'is_self', 'is_video', 'link_flair_background_color',\n",
      "       'link_flair_css_class', 'link_flair_richtext', 'link_flair_template_id',\n",
      "       'link_flair_text', 'link_flair_text_color', 'link_flair_type', 'locked',\n",
      "       'media_only', 'no_follow', 'num_comments', 'num_crossposts', 'over_18',\n",
      "       'parent_whitelist_status', 'permalink', 'pinned', 'pwls',\n",
      "       'retrieved_on', 'score', 'selftext', 'send_replies', 'spoiler',\n",
      "       'stickied', 'subreddit', 'subreddit_id', 'subreddit_subscribers',\n",
      "       'subreddit_type', 'suggested_sort', 'thumbnail', 'title',\n",
      "       'total_awards_received', 'treatment_tags', 'upvote_ratio', 'url',\n",
      "       'whitelist_status', 'wls', 'post_hint', 'preview', 'thumbnail_height',\n",
      "       'thumbnail_width', 'url_overridden_by_dest', 'removed_by_category',\n",
      "       'author_flair_background_color', 'author_flair_text_color',\n",
      "       'media_metadata', 'author_flair_template_id', 'gallery_data',\n",
      "       'is_gallery', 'media', 'media_embed', 'secure_media',\n",
      "       'secure_media_embed'],\n",
      "      dtype='object')\n"
     ]
    }
   ],
   "metadata": {}
  },
  {
   "cell_type": "code",
   "execution_count": 83,
   "source": [
    "# Retrieve comments by submission id\r\n",
    "\r\n",
    "submission_ids = list(submissions_df[\"id\"])\r\n",
    "\r\n",
    "c = api.search_submission_comment_ids(ids = submission_ids[:10])\r\n",
    "\r\n",
    "c_df = pd.DataFrame(c)"
   ],
   "outputs": [
    {
     "output_type": "stream",
     "name": "stdout",
     "text": [
      "Total:: Success Rate: 100.00% - Requests: 10 - Batches: 1 - Items Remaining: 0\n"
     ]
    }
   ],
   "metadata": {}
  },
  {
   "cell_type": "code",
   "execution_count": 87,
   "source": [
    "submissions_df[\"score\"]"
   ],
   "outputs": [
    {
     "output_type": "execute_result",
     "data": {
      "text/plain": [
       "0      1\n",
       "1      1\n",
       "2      1\n",
       "3      1\n",
       "4      1\n",
       "      ..\n",
       "332    1\n",
       "333    1\n",
       "334    1\n",
       "335    1\n",
       "336    1\n",
       "Name: score, Length: 337, dtype: int64"
      ]
     },
     "metadata": {},
     "execution_count": 87
    }
   ],
   "metadata": {}
  },
  {
   "cell_type": "code",
   "execution_count": 85,
   "source": [
    "print(submission_ids[:10])\r\n",
    "print(c_df)"
   ],
   "outputs": [
    {
     "output_type": "stream",
     "name": "stdout",
     "text": [
      "['pg0759', 'pg0249', 'pfzgt2', 'pfxslq', 'pfxdnj', 'pfx9de', 'pfx74v', 'pfwgby', 'pfwff1', 'pfwdi4']\n",
      "          0\n",
      "0   hb7g632\n",
      "1   hb7x8cy\n",
      "2   hb7s0n3\n",
      "3   hb7w7ie\n",
      "4   hb7d844\n",
      "5   hb7dfbi\n",
      "6   hb7cgto\n",
      "7   hb7bvs7\n",
      "8   hb7c2xb\n",
      "9   hb76e2g\n",
      "10  hb76guy\n",
      "11  hb76wp1\n",
      "12  hb77l86\n",
      "13  hb780th\n",
      "14  hb784hr\n",
      "15  hb787o0\n",
      "16  hb7889o\n",
      "17  hb78pam\n",
      "18  hb79284\n",
      "19  hb7a0az\n",
      "20  hb7f9zs\n",
      "21  hb7t763\n",
      "22  hb767e9\n",
      "23  hb75vhf\n"
     ]
    }
   ],
   "metadata": {}
  },
  {
   "cell_type": "code",
   "execution_count": 75,
   "source": [
    "print(\"First ten submission ids: \\n\", submission_ids[:10])\r\n",
    "c_df = pd.DataFrame(c)\r\n",
    "print(c_df)"
   ],
   "outputs": [
    {
     "output_type": "stream",
     "name": "stdout",
     "text": [
      "First ten submission ids: \n",
      " ['pg0759', 'pg0249', 'pfzgt2', 'pfxslq', 'pfxdnj', 'pfx9de', 'pfx74v', 'pfwgby', 'pfwff1', 'pfwdi4']\n",
      "          0\n",
      "0   hb7s0n3\n",
      "1   hb7w7ie\n",
      "2   hb7x8cy\n",
      "3   hb7g632\n",
      "4   hb7d844\n",
      "5   hb7dfbi\n",
      "6   hb7cgto\n",
      "7   hb7bvs7\n",
      "8   hb7c2xb\n",
      "9   hb76e2g\n",
      "10  hb76guy\n",
      "11  hb76wp1\n",
      "12  hb77l86\n",
      "13  hb780th\n",
      "14  hb784hr\n",
      "15  hb787o0\n",
      "16  hb7889o\n",
      "17  hb78pam\n",
      "18  hb79284\n",
      "19  hb7a0az\n",
      "20  hb7f9zs\n",
      "21  hb7t763\n",
      "22  hb767e9\n",
      "23  hb75vhf\n"
     ]
    }
   ],
   "metadata": {}
  },
  {
   "cell_type": "code",
   "execution_count": 53,
   "source": [
    "# Search for all Comments\r\n",
    "subreddit=\"wallstreetbets\"\r\n",
    "limit=1000\r\n",
    "comments = api.search_comments(subreddit=subreddit, q = \"gme\", limit=limit, before=before, after=after)\r\n",
    "print(f'Retrieved {len(comments)} comments from Pushshift')"
   ],
   "outputs": [
    {
     "output_type": "stream",
     "name": "stdout",
     "text": [
      "Total:: Success Rate: 100.00% - Requests: 10 - Batches: 1 - Items Remaining: 0\n",
      "Retrieved 1000 comments from Pushshift\n"
     ]
    }
   ],
   "metadata": {}
  },
  {
   "cell_type": "code",
   "execution_count": 54,
   "source": [
    "comments_df = pd.DataFrame(comments)"
   ],
   "outputs": [],
   "metadata": {}
  },
  {
   "cell_type": "code",
   "execution_count": 55,
   "source": [
    "print(comments_df.columns)"
   ],
   "outputs": [
    {
     "output_type": "stream",
     "name": "stdout",
     "text": [
      "Index(['all_awardings', 'associated_award', 'author',\n",
      "       'author_flair_background_color', 'author_flair_css_class',\n",
      "       'author_flair_richtext', 'author_flair_template_id',\n",
      "       'author_flair_text', 'author_flair_text_color', 'author_flair_type',\n",
      "       'author_fullname', 'author_patreon_flair', 'author_premium', 'awarders',\n",
      "       'body', 'collapsed_because_crowd_control', 'collapsed_reason_code',\n",
      "       'comment_type', 'created_utc', 'gildings', 'id', 'is_submitter',\n",
      "       'link_id', 'locked', 'no_follow', 'parent_id', 'permalink',\n",
      "       'retrieved_on', 'score', 'send_replies', 'stickied', 'subreddit',\n",
      "       'subreddit_id', 'top_awarded_type', 'total_awards_received',\n",
      "       'treatment_tags', 'archived', 'body_sha1', 'can_gild', 'collapsed',\n",
      "       'collapsed_reason', 'controversiality', 'distinguished', 'gilded',\n",
      "       'retrieved_utc', 'score_hidden', 'subreddit_name_prefixed',\n",
      "       'subreddit_type', 'media_metadata', 'author_cakeday'],\n",
      "      dtype='object')\n"
     ]
    }
   ],
   "metadata": {}
  },
  {
   "cell_type": "code",
   "execution_count": null,
   "source": [],
   "outputs": [],
   "metadata": {}
  }
 ],
 "metadata": {
  "orig_nbformat": 4,
  "language_info": {
   "name": "python",
   "version": "3.9.5",
   "mimetype": "text/x-python",
   "codemirror_mode": {
    "name": "ipython",
    "version": 3
   },
   "pygments_lexer": "ipython3",
   "nbconvert_exporter": "python",
   "file_extension": ".py"
  },
  "kernelspec": {
   "name": "python3",
   "display_name": "Python 3.9.5 64-bit ('.thesis': venv)"
  },
  "interpreter": {
   "hash": "9cbf719e3a6bae849a7ceaf0338c4b24a4d1a8685d6b4521732eb78799be0b2d"
  }
 },
 "nbformat": 4,
 "nbformat_minor": 2
}