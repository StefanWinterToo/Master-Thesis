{
 "cells": [
  {
   "cell_type": "markdown",
   "source": [
    "# This is the playground, where everything can happen, but nothing must happen!"
   ],
   "metadata": {}
  },
  {
   "cell_type": "code",
   "execution_count": 1,
   "source": [
    "from psaw import PushshiftAPI\n",
    "import requests\n",
    "import json\n",
    "import csv\n",
    "api = PushshiftAPI()"
   ],
   "outputs": [],
   "metadata": {}
  },
  {
   "cell_type": "code",
   "execution_count": 2,
   "source": [
    "gen = api.search_submissions(limit=100)\n",
    "results = list(gen)"
   ],
   "outputs": [
    {
     "output_type": "stream",
     "name": "stderr",
     "text": [
      "/Users/stefanwinter/Library/Python/3.7/lib/python/site-packages/psaw/PushshiftAPI.py:252: UserWarning: Not all PushShift shards are active. Query results may be incomplete\n",
      "  warnings.warn(shards_down_message)\n"
     ]
    }
   ],
   "metadata": {}
  },
  {
   "cell_type": "code",
   "execution_count": 6,
   "source": [
    "# Convert date to unix timestampe\n",
    "\n",
    "import time\n",
    "import datetime\n",
    "\n",
    "def convert_time_to_unix(START, END):\n",
    "    start = int(time.mktime(datetime.datetime.strptime(START, \"%d/%m/%Y\").timetuple()))\n",
    "    end = int(time.mktime(datetime.datetime.strptime(END, \"%d/%m/%Y\").timetuple()))\n",
    "\n",
    "    return start, end\n",
    "\n",
    "#    print(\"Start: {} -> {}\".format(START, start))\n",
    "#    print(\"End: {} -> {}\".format(END, end))"
   ],
   "outputs": [],
   "metadata": {}
  },
  {
   "cell_type": "code",
   "execution_count": null,
   "source": [],
   "outputs": [],
   "metadata": {}
  },
  {
   "cell_type": "markdown",
   "source": [
    "# Pushshift Params  \n",
    "size — increase limit of returned entries to 1000  \n",
    "after — where to start the search  \n",
    "before — where to end the search  \n",
    "title — to search only within the submission’s title  \n",
    "subreddit — to narrow it down to a particular subreddit  "
   ],
   "metadata": {}
  },
  {
   "cell_type": "code",
   "execution_count": 7,
   "source": [
    "def collectSubData(subm):\n",
    "    subData = list() #list to store data points\n",
    "    title = subm['title']\n",
    "    url = subm['url']\n",
    "    try:\n",
    "        flair = subm['link_flair_text']\n",
    "    except KeyError:\n",
    "        flair = \"NaN\"    \n",
    "    author = subm['author']\n",
    "    sub_id = subm['id']\n",
    "    score = subm['score']\n",
    "    created = datetime.datetime.fromtimestamp(subm['created_utc']) #1520561700.0\n",
    "    numComms = subm['num_comments']\n",
    "    permalink = subm['permalink']\n",
    "    \n",
    "    subData.append((sub_id,title,url,author,score,created,numComms,permalink,flair))\n",
    "    subStats[sub_id] = subData"
   ],
   "outputs": [],
   "metadata": {}
  },
  {
   "cell_type": "code",
   "execution_count": 22,
   "source": [
    "START = \"01/09/2021\"\n",
    "END = datetime.datetime.now().strftime(\"%d/%m/%Y\") #today\n",
    "\n",
    "#Subreddit to query\n",
    "sub='wallstreetbets'\n",
    "#before and after dates\n",
    "after, before = convert_time_to_unix(START, END)\n",
    "print(after, before)\n",
    "query = \"gme\"\n",
    "subCount = 0\n",
    "subStats = {}"
   ],
   "outputs": [
    {
     "output_type": "stream",
     "name": "stdout",
     "text": [
      "1630447200 1631138400\n"
     ]
    }
   ],
   "metadata": {}
  },
  {
   "cell_type": "code",
   "execution_count": 2,
   "source": [
    "def getPushshiftData(query, after, before, sub):\n",
    "    url = 'https://api.pushshift.io/reddit/search/submission/?title='+str(query)+'&size=1000&after='+str(after)+'&before='+str(before)+'&subreddit='+str(sub)\n",
    "    print(url)\n",
    "    r = requests.get(url)\n",
    "    data = json.loads(r.text)\n",
    "    return data['data']"
   ],
   "outputs": [],
   "metadata": {}
  },
  {
   "cell_type": "code",
   "execution_count": 4,
   "source": [
    "getPushshiftData(\"gme\", 1630447200, 1632261600, \"wallstreetbets\")"
   ],
   "outputs": [
    {
     "output_type": "stream",
     "name": "stdout",
     "text": [
      "https://api.pushshift.io/reddit/search/submission/?title=gme&size=1000&after=1630447200&before=1632261600&subreddit=wallstreetbets\n"
     ]
    },
    {
     "output_type": "error",
     "ename": "NameError",
     "evalue": "name 'requests' is not defined",
     "traceback": [
      "\u001b[1;31m---------------------------------------------------------------------------\u001b[0m",
      "\u001b[1;31mNameError\u001b[0m                                 Traceback (most recent call last)",
      "\u001b[1;32m<ipython-input-4-769594c7854f>\u001b[0m in \u001b[0;36m<module>\u001b[1;34m\u001b[0m\n\u001b[1;32m----> 1\u001b[1;33m \u001b[0mgetPushshiftData\u001b[0m\u001b[1;33m(\u001b[0m\u001b[1;34m\"gme\"\u001b[0m\u001b[1;33m,\u001b[0m \u001b[1;36m1630447200\u001b[0m\u001b[1;33m,\u001b[0m \u001b[1;36m1632261600\u001b[0m\u001b[1;33m,\u001b[0m \u001b[1;34m\"wallstreetbets\"\u001b[0m\u001b[1;33m)\u001b[0m\u001b[1;33m\u001b[0m\u001b[1;33m\u001b[0m\u001b[0m\n\u001b[0m",
      "\u001b[1;32m<ipython-input-2-0715b878a0dc>\u001b[0m in \u001b[0;36mgetPushshiftData\u001b[1;34m(query, after, before, sub)\u001b[0m\n\u001b[0;32m      2\u001b[0m     \u001b[0murl\u001b[0m \u001b[1;33m=\u001b[0m \u001b[1;34m'https://api.pushshift.io/reddit/search/submission/?title='\u001b[0m\u001b[1;33m+\u001b[0m\u001b[0mstr\u001b[0m\u001b[1;33m(\u001b[0m\u001b[0mquery\u001b[0m\u001b[1;33m)\u001b[0m\u001b[1;33m+\u001b[0m\u001b[1;34m'&size=1000&after='\u001b[0m\u001b[1;33m+\u001b[0m\u001b[0mstr\u001b[0m\u001b[1;33m(\u001b[0m\u001b[0mafter\u001b[0m\u001b[1;33m)\u001b[0m\u001b[1;33m+\u001b[0m\u001b[1;34m'&before='\u001b[0m\u001b[1;33m+\u001b[0m\u001b[0mstr\u001b[0m\u001b[1;33m(\u001b[0m\u001b[0mbefore\u001b[0m\u001b[1;33m)\u001b[0m\u001b[1;33m+\u001b[0m\u001b[1;34m'&subreddit='\u001b[0m\u001b[1;33m+\u001b[0m\u001b[0mstr\u001b[0m\u001b[1;33m(\u001b[0m\u001b[0msub\u001b[0m\u001b[1;33m)\u001b[0m\u001b[1;33m\u001b[0m\u001b[1;33m\u001b[0m\u001b[0m\n\u001b[0;32m      3\u001b[0m     \u001b[0mprint\u001b[0m\u001b[1;33m(\u001b[0m\u001b[0murl\u001b[0m\u001b[1;33m)\u001b[0m\u001b[1;33m\u001b[0m\u001b[1;33m\u001b[0m\u001b[0m\n\u001b[1;32m----> 4\u001b[1;33m     \u001b[0mr\u001b[0m \u001b[1;33m=\u001b[0m \u001b[0mrequests\u001b[0m\u001b[1;33m.\u001b[0m\u001b[0mget\u001b[0m\u001b[1;33m(\u001b[0m\u001b[0murl\u001b[0m\u001b[1;33m)\u001b[0m\u001b[1;33m\u001b[0m\u001b[1;33m\u001b[0m\u001b[0m\n\u001b[0m\u001b[0;32m      5\u001b[0m     \u001b[0mdata\u001b[0m \u001b[1;33m=\u001b[0m \u001b[0mjson\u001b[0m\u001b[1;33m.\u001b[0m\u001b[0mloads\u001b[0m\u001b[1;33m(\u001b[0m\u001b[0mr\u001b[0m\u001b[1;33m.\u001b[0m\u001b[0mtext\u001b[0m\u001b[1;33m)\u001b[0m\u001b[1;33m\u001b[0m\u001b[1;33m\u001b[0m\u001b[0m\n\u001b[0;32m      6\u001b[0m     \u001b[1;32mreturn\u001b[0m \u001b[0mdata\u001b[0m\u001b[1;33m[\u001b[0m\u001b[1;34m'data'\u001b[0m\u001b[1;33m]\u001b[0m\u001b[1;33m\u001b[0m\u001b[1;33m\u001b[0m\u001b[0m\n",
      "\u001b[1;31mNameError\u001b[0m: name 'requests' is not defined"
     ]
    }
   ],
   "metadata": {}
  },
  {
   "cell_type": "code",
   "execution_count": 24,
   "source": [
    "data = getPushshiftData(query, after, before, sub)\n",
    "# Will run until all posts have been gathered \n",
    "# from the 'after' date up until before date\n",
    "while len(data) > 0:\n",
    "    for submission in data:\n",
    "        collectSubData(submission)\n",
    "        subCount+=1\n",
    "    # Calls getPushshiftData() with the created date of the last submission\n",
    "    print(len(data))\n",
    "    print(str(datetime.datetime.fromtimestamp(data[-1]['created_utc'])))\n",
    "    after = data[-1]['created_utc']\n",
    "    data = getPushshiftData(query, after, before, sub)\n",
    "    \n",
    "print(len(data))"
   ],
   "outputs": [
    {
     "output_type": "stream",
     "name": "stdout",
     "text": [
      "https://api.pushshift.io/reddit/search/submission/?title=gme&size=1000&after=1630447200&before=1631138400&subreddit=wallstreetbets\n",
      "100\n",
      "2021-09-04 20:36:34\n",
      "https://api.pushshift.io/reddit/search/submission/?title=gme&size=1000&after=1630780594&before=1631138400&subreddit=wallstreetbets\n",
      "55\n",
      "2021-09-08 07:17:25\n",
      "https://api.pushshift.io/reddit/search/submission/?title=gme&size=1000&after=1631078245&before=1631138400&subreddit=wallstreetbets\n",
      "0\n"
     ]
    }
   ],
   "metadata": {}
  },
  {
   "cell_type": "code",
   "execution_count": 28,
   "source": [
    "print(str(len(subStats)) + \" submissions have added to list\")\n",
    "print(\"1st entry is:\")\n",
    "print(list(subStats.values())[0][0][1] + \" created: \" + str(list(subStats.values())[0][0][5]))\n",
    "print(\"Last entry is:\")\n",
    "print(list(subStats.values())[-1][0][1] + \" created: \" + str(list(subStats.values())[-1][0][5]))"
   ],
   "outputs": [
    {
     "output_type": "stream",
     "name": "stdout",
     "text": [
      "155 submissions have added to list\n",
      "1st entry is:\n",
      "I'm setting my sell limit high for GME so Robinhood can't give it to short sellers at current pricing....as I was told this was the way? Anyway, what dafuq is going on here? I don't want to hear about how bad RH is. I know. But I'm not cashing out and losing money. Well screw that. Any thoughts? created: 2021-09-01 00:15:06\n",
      "Last entry is:\n",
      "Since some of you think you’ll pull some magic out your ass and revive gme created: 2021-09-08 07:17:25\n"
     ]
    }
   ],
   "metadata": {}
  },
  {
   "cell_type": "code",
   "execution_count": 45,
   "source": [
    "def updateSubs_file():\n",
    "    upload_count = 0\n",
    "    location = \"data/\"\n",
    "    print(\"input filename of submission file, please add .csv\")\n",
    "    filename = input()\n",
    "    file = location + filename\n",
    "    with open(file, 'w', newline='', encoding='utf-8') as file: \n",
    "        a = csv.writer(file, delimiter=',')\n",
    "        headers = [\"Post ID\",\"Title\",\"Url\",\"Author\",\"Score\",\"Publish Date\",\"Total No. of Comments\",\"Permalink\",\"Flair\"]\n",
    "        a.writerow(headers)\n",
    "        for sub in subStats:\n",
    "            a.writerow(subStats[sub][0])\n",
    "            upload_count+=1\n",
    "            \n",
    "        print(str(upload_count) + \" submissions have been uploaded\")\n",
    "updateSubs_file()"
   ],
   "outputs": [
    {
     "output_type": "stream",
     "name": "stdout",
     "text": [
      "input filename of submission file, please add .csv\n",
      "155 submissions have been uploaded\n"
     ]
    }
   ],
   "metadata": {}
  },
  {
   "cell_type": "code",
   "execution_count": 14,
   "source": [
    "## Using the pmaw pushshift api wrapper\n",
    "# https://medium.com/swlh/how-to-scrape-large-amounts-of-reddit-data-using-pushshift-1d33bde9286"
   ],
   "outputs": [],
   "metadata": {}
  },
  {
   "cell_type": "code",
   "execution_count": 24,
   "source": [
    "import pandas as pd\n",
    "from pmaw import PushshiftAPI\n",
    "import datetime as dt\n",
    "\n",
    "api = PushshiftAPI()"
   ],
   "outputs": [],
   "metadata": {}
  },
  {
   "cell_type": "code",
   "execution_count": 9,
   "source": [
    "START = \"01/09/2021\"\n",
    "END = datetime.datetime.now().strftime(\"%d/%m/%Y\") #today\n",
    "\n",
    "#Subreddit to query\n",
    "subreddit = 'wallstreetbets'\n",
    "#before and after dates\n",
    "after, before = convert_time_to_unix(START, END)\n",
    "print(after, before)\n",
    "query = \"gme\"\n",
    "subCount = 0\n",
    "subStats = {}"
   ],
   "outputs": [
    {
     "output_type": "stream",
     "name": "stdout",
     "text": [
      "1630447200 1631224800\n"
     ]
    }
   ],
   "metadata": {}
  },
  {
   "cell_type": "code",
   "execution_count": 96,
   "source": [
    "# Submissions\n",
    "subreddit=\"wallstreetbets\"\n",
    "limit=1000\n",
    "submissions = api.search_submissions(subreddit=subreddit, q = \"gme\", before=before, after=after, mem_safe=True, safe_exit=True)\n",
    "print(f'Retrieved {len(submissions)} comments from Pushshift')"
   ],
   "outputs": [
    {
     "output_type": "stream",
     "name": "stdout",
     "text": [
      "Response cache key: d4780f3a8295132fb947e64afac8469f\n",
      "337 result(s) available in Pushshift\n",
      "Total:: Success Rate: 100.00% - Requests: 10 - Batches: 1 - Items Remaining: 0\n",
      "Retrieved 337 comments from Pushshift\n"
     ]
    }
   ],
   "metadata": {}
  },
  {
   "cell_type": "code",
   "execution_count": 97,
   "source": [
    "submissions_df = pd.DataFrame(submissions)"
   ],
   "outputs": [],
   "metadata": {}
  },
  {
   "cell_type": "code",
   "execution_count": 98,
   "source": [
    "print(submissions_df.columns)"
   ],
   "outputs": [
    {
     "output_type": "stream",
     "name": "stdout",
     "text": [
      "Index(['all_awardings', 'allow_live_comments', 'author',\n",
      "       'author_flair_css_class', 'author_flair_richtext', 'author_flair_text',\n",
      "       'author_flair_type', 'author_fullname', 'author_is_blocked',\n",
      "       'author_patreon_flair', 'author_premium', 'awarders', 'can_mod_post',\n",
      "       'contest_mode', 'created_utc', 'domain', 'full_link', 'gildings', 'id',\n",
      "       'is_created_from_ads_ui', 'is_crosspostable', 'is_meta',\n",
      "       'is_original_content', 'is_reddit_media_domain', 'is_robot_indexable',\n",
      "       'is_self', 'is_video', 'link_flair_background_color',\n",
      "       'link_flair_css_class', 'link_flair_richtext', 'link_flair_template_id',\n",
      "       'link_flair_text', 'link_flair_text_color', 'link_flair_type', 'locked',\n",
      "       'media_only', 'no_follow', 'num_comments', 'num_crossposts', 'over_18',\n",
      "       'parent_whitelist_status', 'permalink', 'pinned', 'pwls',\n",
      "       'retrieved_on', 'score', 'selftext', 'send_replies', 'spoiler',\n",
      "       'stickied', 'subreddit', 'subreddit_id', 'subreddit_subscribers',\n",
      "       'subreddit_type', 'suggested_sort', 'thumbnail', 'title',\n",
      "       'total_awards_received', 'treatment_tags', 'upvote_ratio', 'url',\n",
      "       'whitelist_status', 'wls', 'post_hint', 'preview', 'thumbnail_height',\n",
      "       'thumbnail_width', 'url_overridden_by_dest', 'removed_by_category',\n",
      "       'author_flair_background_color', 'author_flair_text_color',\n",
      "       'media_metadata', 'author_flair_template_id', 'gallery_data',\n",
      "       'is_gallery', 'media', 'media_embed', 'secure_media',\n",
      "       'secure_media_embed'],\n",
      "      dtype='object')\n"
     ]
    }
   ],
   "metadata": {}
  },
  {
   "cell_type": "code",
   "execution_count": 83,
   "source": [
    "# Retrieve comments by submission id\n",
    "\n",
    "submission_ids = list(submissions_df[\"id\"])\n",
    "\n",
    "c = api.search_submission_comment_ids(ids = submission_ids[:10])\n",
    "\n",
    "c_df = pd.DataFrame(c)"
   ],
   "outputs": [
    {
     "output_type": "stream",
     "name": "stdout",
     "text": [
      "Total:: Success Rate: 100.00% - Requests: 10 - Batches: 1 - Items Remaining: 0\n"
     ]
    }
   ],
   "metadata": {}
  },
  {
   "cell_type": "code",
   "execution_count": 87,
   "source": [
    "submissions_df[\"score\"]"
   ],
   "outputs": [
    {
     "output_type": "execute_result",
     "data": {
      "text/plain": [
       "0      1\n",
       "1      1\n",
       "2      1\n",
       "3      1\n",
       "4      1\n",
       "      ..\n",
       "332    1\n",
       "333    1\n",
       "334    1\n",
       "335    1\n",
       "336    1\n",
       "Name: score, Length: 337, dtype: int64"
      ]
     },
     "metadata": {},
     "execution_count": 87
    }
   ],
   "metadata": {}
  },
  {
   "cell_type": "code",
   "execution_count": 85,
   "source": [
    "print(submission_ids[:10])\n",
    "print(c_df)"
   ],
   "outputs": [
    {
     "output_type": "stream",
     "name": "stdout",
     "text": [
      "['pg0759', 'pg0249', 'pfzgt2', 'pfxslq', 'pfxdnj', 'pfx9de', 'pfx74v', 'pfwgby', 'pfwff1', 'pfwdi4']\n",
      "          0\n",
      "0   hb7g632\n",
      "1   hb7x8cy\n",
      "2   hb7s0n3\n",
      "3   hb7w7ie\n",
      "4   hb7d844\n",
      "5   hb7dfbi\n",
      "6   hb7cgto\n",
      "7   hb7bvs7\n",
      "8   hb7c2xb\n",
      "9   hb76e2g\n",
      "10  hb76guy\n",
      "11  hb76wp1\n",
      "12  hb77l86\n",
      "13  hb780th\n",
      "14  hb784hr\n",
      "15  hb787o0\n",
      "16  hb7889o\n",
      "17  hb78pam\n",
      "18  hb79284\n",
      "19  hb7a0az\n",
      "20  hb7f9zs\n",
      "21  hb7t763\n",
      "22  hb767e9\n",
      "23  hb75vhf\n"
     ]
    }
   ],
   "metadata": {}
  },
  {
   "cell_type": "code",
   "execution_count": 75,
   "source": [
    "print(\"First ten submission ids: \\n\", submission_ids[:10])\n",
    "c_df = pd.DataFrame(c)\n",
    "print(c_df)"
   ],
   "outputs": [
    {
     "output_type": "stream",
     "name": "stdout",
     "text": [
      "First ten submission ids: \n",
      " ['pg0759', 'pg0249', 'pfzgt2', 'pfxslq', 'pfxdnj', 'pfx9de', 'pfx74v', 'pfwgby', 'pfwff1', 'pfwdi4']\n",
      "          0\n",
      "0   hb7s0n3\n",
      "1   hb7w7ie\n",
      "2   hb7x8cy\n",
      "3   hb7g632\n",
      "4   hb7d844\n",
      "5   hb7dfbi\n",
      "6   hb7cgto\n",
      "7   hb7bvs7\n",
      "8   hb7c2xb\n",
      "9   hb76e2g\n",
      "10  hb76guy\n",
      "11  hb76wp1\n",
      "12  hb77l86\n",
      "13  hb780th\n",
      "14  hb784hr\n",
      "15  hb787o0\n",
      "16  hb7889o\n",
      "17  hb78pam\n",
      "18  hb79284\n",
      "19  hb7a0az\n",
      "20  hb7f9zs\n",
      "21  hb7t763\n",
      "22  hb767e9\n",
      "23  hb75vhf\n"
     ]
    }
   ],
   "metadata": {}
  },
  {
   "cell_type": "code",
   "execution_count": 53,
   "source": [
    "# Search for all Comments\n",
    "subreddit=\"wallstreetbets\"\n",
    "limit=1000\n",
    "comments = api.search_comments(subreddit=subreddit, q = \"gme\", limit=limit, before=before, after=after)\n",
    "print(f'Retrieved {len(comments)} comments from Pushshift')"
   ],
   "outputs": [
    {
     "output_type": "stream",
     "name": "stdout",
     "text": [
      "Total:: Success Rate: 100.00% - Requests: 10 - Batches: 1 - Items Remaining: 0\n",
      "Retrieved 1000 comments from Pushshift\n"
     ]
    }
   ],
   "metadata": {}
  },
  {
   "cell_type": "code",
   "execution_count": 54,
   "source": [
    "comments_df = pd.DataFrame(comments)"
   ],
   "outputs": [],
   "metadata": {}
  },
  {
   "cell_type": "code",
   "execution_count": 55,
   "source": [
    "print(comments_df.columns)"
   ],
   "outputs": [
    {
     "output_type": "stream",
     "name": "stdout",
     "text": [
      "Index(['all_awardings', 'associated_award', 'author',\n",
      "       'author_flair_background_color', 'author_flair_css_class',\n",
      "       'author_flair_richtext', 'author_flair_template_id',\n",
      "       'author_flair_text', 'author_flair_text_color', 'author_flair_type',\n",
      "       'author_fullname', 'author_patreon_flair', 'author_premium', 'awarders',\n",
      "       'body', 'collapsed_because_crowd_control', 'collapsed_reason_code',\n",
      "       'comment_type', 'created_utc', 'gildings', 'id', 'is_submitter',\n",
      "       'link_id', 'locked', 'no_follow', 'parent_id', 'permalink',\n",
      "       'retrieved_on', 'score', 'send_replies', 'stickied', 'subreddit',\n",
      "       'subreddit_id', 'top_awarded_type', 'total_awards_received',\n",
      "       'treatment_tags', 'archived', 'body_sha1', 'can_gild', 'collapsed',\n",
      "       'collapsed_reason', 'controversiality', 'distinguished', 'gilded',\n",
      "       'retrieved_utc', 'score_hidden', 'subreddit_name_prefixed',\n",
      "       'subreddit_type', 'media_metadata', 'author_cakeday'],\n",
      "      dtype='object')\n"
     ]
    }
   ],
   "metadata": {}
  },
  {
   "cell_type": "code",
   "execution_count": 1,
   "source": [
    "# Create venv: python3 -m venv .name\n",
    "# Activate: source .name/bin/activate\n",
    "# Install requirements: pip3 install -r ./patch/requirements.txt\n",
    "# Show: pip3 list\n",
    "# Update requirements.txt: pip3 freeze > requirements.txt"
   ],
   "outputs": [],
   "metadata": {}
  },
  {
   "cell_type": "markdown",
   "source": [
    "# Load Data from yahoo finance"
   ],
   "metadata": {}
  },
  {
   "cell_type": "code",
   "execution_count": 3,
   "source": [
    "import yfinance as yf"
   ],
   "outputs": [],
   "metadata": {}
  },
  {
   "cell_type": "code",
   "execution_count": 7,
   "source": [
    "gme = yf.download(\"GME\", start = \"2020-01-01\", end = \"2021-09-29\")"
   ],
   "outputs": [
    {
     "output_type": "stream",
     "name": "stdout",
     "text": [
      "[*********************100%***********************]  1 of 1 completed\n"
     ]
    }
   ],
   "metadata": {}
  },
  {
   "cell_type": "code",
   "execution_count": 8,
   "source": [
    "gme"
   ],
   "outputs": [
    {
     "output_type": "execute_result",
     "data": {
      "text/html": [
       "<div>\n",
       "<style scoped>\n",
       "    .dataframe tbody tr th:only-of-type {\n",
       "        vertical-align: middle;\n",
       "    }\n",
       "\n",
       "    .dataframe tbody tr th {\n",
       "        vertical-align: top;\n",
       "    }\n",
       "\n",
       "    .dataframe thead th {\n",
       "        text-align: right;\n",
       "    }\n",
       "</style>\n",
       "<table border=\"1\" class=\"dataframe\">\n",
       "  <thead>\n",
       "    <tr style=\"text-align: right;\">\n",
       "      <th></th>\n",
       "      <th>Open</th>\n",
       "      <th>High</th>\n",
       "      <th>Low</th>\n",
       "      <th>Close</th>\n",
       "      <th>Adj Close</th>\n",
       "      <th>Volume</th>\n",
       "    </tr>\n",
       "    <tr>\n",
       "      <th>Date</th>\n",
       "      <th></th>\n",
       "      <th></th>\n",
       "      <th></th>\n",
       "      <th></th>\n",
       "      <th></th>\n",
       "      <th></th>\n",
       "    </tr>\n",
       "  </thead>\n",
       "  <tbody>\n",
       "    <tr>\n",
       "      <th>2019-12-31</th>\n",
       "      <td>6.080000</td>\n",
       "      <td>6.390000</td>\n",
       "      <td>5.990000</td>\n",
       "      <td>6.080000</td>\n",
       "      <td>6.080000</td>\n",
       "      <td>4322600</td>\n",
       "    </tr>\n",
       "    <tr>\n",
       "      <th>2020-01-02</th>\n",
       "      <td>6.140000</td>\n",
       "      <td>6.470000</td>\n",
       "      <td>6.070000</td>\n",
       "      <td>6.310000</td>\n",
       "      <td>6.310000</td>\n",
       "      <td>4453600</td>\n",
       "    </tr>\n",
       "    <tr>\n",
       "      <th>2020-01-03</th>\n",
       "      <td>6.210000</td>\n",
       "      <td>6.250000</td>\n",
       "      <td>5.840000</td>\n",
       "      <td>5.880000</td>\n",
       "      <td>5.880000</td>\n",
       "      <td>3543900</td>\n",
       "    </tr>\n",
       "    <tr>\n",
       "      <th>2020-01-06</th>\n",
       "      <td>5.800000</td>\n",
       "      <td>5.910000</td>\n",
       "      <td>5.600000</td>\n",
       "      <td>5.850000</td>\n",
       "      <td>5.850000</td>\n",
       "      <td>3394800</td>\n",
       "    </tr>\n",
       "    <tr>\n",
       "      <th>2020-01-07</th>\n",
       "      <td>5.770000</td>\n",
       "      <td>5.830000</td>\n",
       "      <td>5.440000</td>\n",
       "      <td>5.520000</td>\n",
       "      <td>5.520000</td>\n",
       "      <td>5228000</td>\n",
       "    </tr>\n",
       "    <tr>\n",
       "      <th>...</th>\n",
       "      <td>...</td>\n",
       "      <td>...</td>\n",
       "      <td>...</td>\n",
       "      <td>...</td>\n",
       "      <td>...</td>\n",
       "      <td>...</td>\n",
       "    </tr>\n",
       "    <tr>\n",
       "      <th>2021-09-22</th>\n",
       "      <td>189.639999</td>\n",
       "      <td>193.500000</td>\n",
       "      <td>186.289993</td>\n",
       "      <td>190.139999</td>\n",
       "      <td>190.139999</td>\n",
       "      <td>2256600</td>\n",
       "    </tr>\n",
       "    <tr>\n",
       "      <th>2021-09-23</th>\n",
       "      <td>192.330002</td>\n",
       "      <td>195.750000</td>\n",
       "      <td>190.600006</td>\n",
       "      <td>191.240005</td>\n",
       "      <td>191.240005</td>\n",
       "      <td>1682300</td>\n",
       "    </tr>\n",
       "    <tr>\n",
       "      <th>2021-09-24</th>\n",
       "      <td>191.000000</td>\n",
       "      <td>191.720001</td>\n",
       "      <td>184.110001</td>\n",
       "      <td>185.160004</td>\n",
       "      <td>185.160004</td>\n",
       "      <td>1679900</td>\n",
       "    </tr>\n",
       "    <tr>\n",
       "      <th>2021-09-27</th>\n",
       "      <td>185.919998</td>\n",
       "      <td>192.050003</td>\n",
       "      <td>185.869995</td>\n",
       "      <td>189.479996</td>\n",
       "      <td>189.479996</td>\n",
       "      <td>1470100</td>\n",
       "    </tr>\n",
       "    <tr>\n",
       "      <th>2021-09-28</th>\n",
       "      <td>188.000000</td>\n",
       "      <td>190.809998</td>\n",
       "      <td>178.000000</td>\n",
       "      <td>178.600006</td>\n",
       "      <td>178.600006</td>\n",
       "      <td>1770500</td>\n",
       "    </tr>\n",
       "  </tbody>\n",
       "</table>\n",
       "<p>440 rows × 6 columns</p>\n",
       "</div>"
      ],
      "text/plain": [
       "                  Open        High         Low       Close   Adj Close  \\\n",
       "Date                                                                     \n",
       "2019-12-31    6.080000    6.390000    5.990000    6.080000    6.080000   \n",
       "2020-01-02    6.140000    6.470000    6.070000    6.310000    6.310000   \n",
       "2020-01-03    6.210000    6.250000    5.840000    5.880000    5.880000   \n",
       "2020-01-06    5.800000    5.910000    5.600000    5.850000    5.850000   \n",
       "2020-01-07    5.770000    5.830000    5.440000    5.520000    5.520000   \n",
       "...                ...         ...         ...         ...         ...   \n",
       "2021-09-22  189.639999  193.500000  186.289993  190.139999  190.139999   \n",
       "2021-09-23  192.330002  195.750000  190.600006  191.240005  191.240005   \n",
       "2021-09-24  191.000000  191.720001  184.110001  185.160004  185.160004   \n",
       "2021-09-27  185.919998  192.050003  185.869995  189.479996  189.479996   \n",
       "2021-09-28  188.000000  190.809998  178.000000  178.600006  178.600006   \n",
       "\n",
       "             Volume  \n",
       "Date                 \n",
       "2019-12-31  4322600  \n",
       "2020-01-02  4453600  \n",
       "2020-01-03  3543900  \n",
       "2020-01-06  3394800  \n",
       "2020-01-07  5228000  \n",
       "...             ...  \n",
       "2021-09-22  2256600  \n",
       "2021-09-23  1682300  \n",
       "2021-09-24  1679900  \n",
       "2021-09-27  1470100  \n",
       "2021-09-28  1770500  \n",
       "\n",
       "[440 rows x 6 columns]"
      ]
     },
     "metadata": {},
     "execution_count": 8
    }
   ],
   "metadata": {}
  },
  {
   "cell_type": "code",
   "execution_count": 9,
   "source": [
    "import matplotlib.pyplot as plt\n"
   ],
   "outputs": [
    {
     "output_type": "stream",
     "name": "stderr",
     "text": [
      "Matplotlib is building the font cache; this may take a moment.\n",
      "Fontconfig warning: ignoring UTF-8: not a valid region tag\n"
     ]
    }
   ],
   "metadata": {}
  },
  {
   "cell_type": "code",
   "execution_count": 17,
   "source": [
    "fig, ax1 = plt.subplots()\n",
    "\n",
    "ax1.plot(gme[\"Adj Close\"], color = \"blue\")\n",
    "ax2 = ax1.twinx()\n",
    "ax2.plot(gme[\"Volume\"], color = \"orange\")\n",
    "\n",
    "fig.tight_layout()\n",
    "plt.show()"
   ],
   "outputs": [
    {
     "output_type": "display_data",
     "data": {
      "image/png": "[encoded data removed]",
      "text/plain": [
       "<Figure size 432x288 with 2 Axes>"
      ]
     },
     "metadata": {
      "needs_background": "light"
     }
    }
   ],
   "metadata": {}
  },
  {
   "cell_type": "code",
   "execution_count": null,
   "source": [],
   "outputs": [],
   "metadata": {}
  }
 ],
 "metadata": {
  "orig_nbformat": 4,
  "language_info": {
   "name": "python",
   "version": "3.7.3",
   "mimetype": "text/x-python",
   "codemirror_mode": {
    "name": "ipython",
    "version": 3
   },
   "pygments_lexer": "ipython3",
   "nbconvert_exporter": "python",
   "file_extension": ".py"
  },
  "kernelspec": {
   "name": "python3",
   "display_name": "Python 3.7.3 64-bit ('.thesis': venv)"
  },
  "interpreter": {
   "hash": "84c8341a32fd085e17eee5a139e3d0e1604fc72a532b1e68458413f130f85bfb"
  }
 },
 "nbformat": 4,
 "nbformat_minor": 2
}