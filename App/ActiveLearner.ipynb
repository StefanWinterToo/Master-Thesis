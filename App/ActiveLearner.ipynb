{
 "cells": [
  {
   "cell_type": "markdown",
   "metadata": {},
   "source": [
    "# Active Learner\n",
    "Using Parameters from Park, Lee & Moon  \n",
    "Pool based, SVM, inductive -> those parameters are standard  \n",
    "Initial set: Normally, k-means is used. PLM recommend their own algorithm, LCA.  \n",
    "After all documents are labeled, the corpus becomes input to the Sentiment Lexicon Extraction Model (SLE-BE), which creates the domain-specific lexicon."
   ]
  },
  {
   "cell_type": "code",
   "execution_count": 1,
   "metadata": {},
   "outputs": [],
   "source": [
    "import pandas as pd\n",
    "import numpy as np"
   ]
  },
  {
   "cell_type": "code",
   "execution_count": 2,
   "metadata": {},
   "outputs": [],
   "source": [
    "data = pd.read_pickle(\"./data/cleaned_submissions.pkl\")"
   ]
  },
  {
   "cell_type": "code",
   "execution_count": 3,
   "metadata": {},
   "outputs": [],
   "source": [
    "text = data[\"text\"]\n",
    "labels = data[\"sentiment\"]\n",
    "\n",
    "# Get labeled instances\n",
    "indices = []\n",
    "for i in range(0, len(labels), 10):\n",
    "    indices.append(i)\n",
    "    \n",
    "# Set seed\n",
    "X_seed = text[indices]\n",
    "y_seed = labels[indices]"
   ]
  },
  {
   "cell_type": "code",
   "execution_count": 4,
   "metadata": {},
   "outputs": [],
   "source": [
    "# Get unlabeled instances\n",
    "new_indices = []\n",
    "for i in range(0, len(data[\"text\"].index)):\n",
    "    if i not in indices:\n",
    "        new_indices.append(i)"
   ]
  },
  {
   "cell_type": "code",
   "execution_count": 5,
   "metadata": {},
   "outputs": [],
   "source": [
    "# Encode labels\n",
    "from sklearn.preprocessing import LabelEncoder\n",
    "lenc = LabelEncoder()\n",
    "y_train = lenc.fit_transform(y_seed)\n",
    "\n",
    "# Vectorize text using tfidf\n",
    "from sklearn.feature_extraction.text import TfidfVectorizer\n",
    "tfidf = TfidfVectorizer(preprocessor=' '.join, lowercase=False, min_df=5) # min_df = Minimum occurance of words\n",
    "X_train = tfidf.fit_transform(data[\"text\"])"
   ]
  },
  {
   "cell_type": "code",
   "execution_count": 7,
   "metadata": {},
   "outputs": [],
   "source": [
    "y_train_seed = y_train # To feed the Active Leaner\n",
    "X_train_seed = X_train[indices] # To feed the Active Learner\n",
    "X_train_pool = X_train[new_indices] # Instances that need to be labeled"
   ]
  },
  {
   "cell_type": "code",
   "execution_count": 8,
   "metadata": {},
   "outputs": [],
   "source": [
    "from modAL.models import ActiveLearner\n",
    "from modAL.uncertainty import uncertainty_sampling\n",
    "from sklearn.svm import SVC\n",
    "\n",
    "learner = ActiveLearner(\n",
    "    estimator = SVC(probability=True),\n",
    "    query_strategy = uncertainty_sampling,\n",
    "    X_training = X_train_seed,\n",
    "    y_training = y_train_seed\n",
    ")"
   ]
  },
  {
   "cell_type": "code",
   "execution_count": null,
   "metadata": {},
   "outputs": [],
   "source": [
    "# the active learning loop\n",
    "n_queries = 10\n",
    "for idx in range(n_queries):\n",
    "    print('Query no. %d' % (idx + 1))\n",
    "    query_idx, query_instance = learner.query(X_pool, n_instances=100, verbose=0)\n",
    "    learner.teach(\n",
    "        X=X_pool[query_idx], y=y_pool[query_idx], only_new=True,\n",
    "        verbose=1\n",
    "    )\n",
    "    # remove queried instance from pool\n",
    "    X_pool = np.delete(X_pool, query_idx, axis=0)\n",
    "    y_pool = np.delete(y_pool, query_idx, axis=0)"
   ]
  },
  {
   "cell_type": "code",
   "execution_count": 46,
   "metadata": {},
   "outputs": [
    {
     "data": {
      "text/plain": [
       "0.8918407128933444"
      ]
     },
     "execution_count": 46,
     "metadata": {},
     "output_type": "execute_result"
    }
   ],
   "source": [
    "unqueried_score = learner.score(X_train_seed, y_train_seed)\n",
    "unqueried_score"
   ]
  },
  {
   "cell_type": "code",
   "execution_count": 49,
   "metadata": {},
   "outputs": [
    {
     "data": {
      "text/plain": [
       "array([28945])"
      ]
     },
     "execution_count": 49,
     "metadata": {},
     "output_type": "execute_result"
    }
   ],
   "source": [
    "query_idx"
   ]
  },
  {
   "cell_type": "code",
   "execution_count": 48,
   "metadata": {},
   "outputs": [],
   "source": [
    "query_idx, query_sample = learner.query(X_train_pool, only_new=True)"
   ]
  },
  {
   "cell_type": "code",
   "execution_count": 27,
   "metadata": {},
   "outputs": [],
   "source": [
    "new_label = vader_sentiment_labels(query_sample)"
   ]
  },
  {
   "cell_type": "code",
   "execution_count": 23,
   "metadata": {},
   "outputs": [
    {
     "name": "stdout",
     "output_type": "stream",
     "text": [
      "  (0, 1450)\t0.2760851148651717\n",
      "  (0, 2508)\t0.11781707787630487\n",
      "  (0, 2943)\t0.13012836367068326\n",
      "  (0, 4092)\t0.15106530196008486\n",
      "  (0, 4835)\t0.11381628723016271\n",
      "  (0, 5099)\t0.19049104914493728\n",
      "  (0, 5221)\t0.20750364190813167\n",
      "  (0, 5614)\t0.2327199010205387\n",
      "  (0, 6199)\t0.1705981500796615\n",
      "  (0, 6921)\t0.18531172541037932\n",
      "  (0, 6967)\t0.21866826181498003\n",
      "  (0, 8103)\t0.2589352264653529\n",
      "  (0, 8421)\t0.08098722664694373\n",
      "  (0, 9039)\t0.1194560246846339\n",
      "  (0, 9739)\t0.17778839240595484\n",
      "  (0, 9834)\t0.12541645689717978\n",
      "  (0, 10511)\t0.24258880843888206\n",
      "  (0, 10599)\t0.23586917726303752\n",
      "  (0, 10845)\t0.12521434608491913\n",
      "  (0, 11787)\t0.18808528665218463\n",
      "  (0, 12066)\t0.10731926861924031\n",
      "  (0, 12321)\t0.13985796674534032\n",
      "  (0, 14158)\t0.1372361240262782\n",
      "  (0, 15377)\t0.2020564417678004\n",
      "  (0, 15421)\t0.08484291482826199\n",
      "  :\t:\n",
      "  (17952, 16129)\t0.2086306888620502\n",
      "  (17952, 16420)\t0.07852986527476642\n",
      "  (17952, 16506)\t0.1494421971462161\n",
      "  (17952, 16601)\t0.13465720386427987\n",
      "  (17952, 17205)\t0.11548399676902829\n",
      "  (17953, 2183)\t0.2281446403516498\n",
      "  (17953, 2504)\t0.23755692314391497\n",
      "  (17953, 4110)\t0.11660615997325927\n",
      "  (17953, 5663)\t0.1957503092517936\n",
      "  (17953, 7457)\t0.27445515620187416\n",
      "  (17953, 8300)\t0.04942251569561274\n",
      "  (17953, 10358)\t0.1826305288163315\n",
      "  (17953, 11101)\t0.18555180035041785\n",
      "  (17953, 11636)\t0.1864921803588156\n",
      "  (17953, 12583)\t0.22105014627549158\n",
      "  (17953, 13563)\t0.4848094197722133\n",
      "  (17953, 14019)\t0.29422766336133016\n",
      "  (17953, 14706)\t0.26738694679306174\n",
      "  (17953, 14724)\t0.2411326674545281\n",
      "  (17953, 15517)\t0.22566556247444788\n",
      "  (17953, 16868)\t0.18666730161452832\n",
      "  (17953, 18687)\t0.27090033340416575\n",
      "  (17954, 1218)\t0.8055860877731472\n",
      "  (17954, 8300)\t0.1189474677093986\n",
      "  (17954, 10457)\t0.5804158467098197\n"
     ]
    }
   ],
   "source": [
    "print(X_train_seed)"
   ]
  },
  {
   "cell_type": "code",
   "execution_count": 22,
   "metadata": {},
   "outputs": [
    {
     "name": "stdout",
     "output_type": "stream",
     "text": [
      "  (0, 8085)\t0.5320041686767372\n",
      "  (0, 8300)\t0.0772008763417568\n",
      "  (0, 8686)\t0.43779329884422785\n",
      "  (0, 15144)\t0.5296971883218979\n",
      "  (0, 17000)\t0.35877644618411414\n",
      "  (0, 17580)\t0.3317362914079504\n"
     ]
    }
   ],
   "source": [
    "print(X_train_pool[query_idx])"
   ]
  },
  {
   "cell_type": "code",
   "execution_count": 44,
   "metadata": {},
   "outputs": [
    {
     "data": {
      "text/plain": [
       "array([1])"
      ]
     },
     "execution_count": 44,
     "metadata": {},
     "output_type": "execute_result"
    }
   ],
   "source": [
    "np.array([new_label])"
   ]
  },
  {
   "cell_type": "code",
   "execution_count": 45,
   "metadata": {},
   "outputs": [],
   "source": [
    "learner.teach(X = X_train_pool[query_idx], y = np.array([new_label]))"
   ]
  },
  {
   "cell_type": "code",
   "execution_count": 11,
   "metadata": {},
   "outputs": [],
   "source": [
    "# Using Vader\n",
    "from vaderSentiment.vaderSentiment import SentimentIntensityAnalyzer\n",
    "analyzer = SentimentIntensityAnalyzer()\n",
    "\n",
    "# for sentence in data[\"text\"][indices][:30]:\n",
    "#     vs = analyzer.polarity_scores(\" \".join(sentence))\n",
    "#     print(\"{:} {}\".format(\" \".join(sentence), str(vs)))\n",
    "#     print(\"-\"*40)\n",
    "\n",
    "\n",
    "def vader_sentiment_labels(query_text):\n",
    "    sentence = tfidf.inverse_transform(query_text)\n",
    "    vs = analyzer.polarity_scores(\" \".join(sentence[0]))\n",
    "    if vs[\"compound\"] > 0.05:\n",
    "        return np.int(2) # Positive Sentiment\n",
    "    elif vs[\"compound\"] < -0.05:\n",
    "        return np.int(0) # Negative Sentiment\n",
    "    else:\n",
    "        return np.int(1) # Neutral Sentiment"
   ]
  },
  {
   "cell_type": "markdown",
   "metadata": {},
   "source": [
    "# Flair"
   ]
  },
  {
   "cell_type": "code",
   "execution_count": 35,
   "metadata": {},
   "outputs": [],
   "source": [
    "# Flair\n",
    "# https://www.analyticsvidhya.com/blog/2019/02/flair-nlp-library-python/ #\n",
    "import flair\n",
    "import torch"
   ]
  },
  {
   "cell_type": "code",
   "execution_count": 38,
   "metadata": {},
   "outputs": [],
   "source": [
    "## Importing the Embeddings ##\n",
    "from flair.embeddings import WordEmbeddings\n",
    "from flair.embeddings import CharacterEmbeddings\n",
    "from flair.embeddings import StackedEmbeddings\n",
    "from flair.embeddings import FlairEmbeddings\n",
    "from flair.embeddings import BertEmbeddings\n",
    "from flair.embeddings import ELMoEmbeddings\n",
    "from flair.embeddings import FlairEmbeddings\n",
    "\n",
    "### Initialising embeddings (un-comment to use others) ###\n",
    "#glove_embedding = WordEmbeddings('glove')\n",
    "#character_embeddings = CharacterEmbeddings()\n",
    "#flair_forward  = FlairEmbeddings('news-forward-fast')\n",
    "flair_backward = FlairEmbeddings('news-backward-fast')\n",
    "#bert_embedding = BertEmbedding()\n",
    "#elmo_embedding = ElmoEmbedding()\n",
    "\n",
    "stacked_embeddings = StackedEmbeddings( embeddings = [ flair_backward ])"
   ]
  },
  {
   "cell_type": "code",
   "execution_count": null,
   "metadata": {},
   "outputs": [],
   "source": [
    "from tqdm import tqdm ## tracks progress of loop ##\n",
    "\n",
    "# creating a tensor for storing sentence embeddings #\n",
    "s = torch.zeros(0,z)\n",
    "\n",
    "# iterating Sentence (tqdm tracks progress) #\n",
    "for tweet in tqdm(txt):   \n",
    "  # empty tensor for words #\n",
    "  w = torch.zeros(0,z)   \n",
    "  sentence = Sentence(tweet)\n",
    "  stacked_embeddings.embed(sentence)\n",
    "  # for every word #\n",
    "  for token in sentence:\n",
    "    # storing word Embeddings of each word in a sentence #\n",
    "    w = torch.cat((w,token.embedding.view(-1,z)),0)\n",
    "  # storing sentence Embeddings (mean of embeddings of all words)   #\n",
    "  s = torch.cat((s, w.mean(dim = 0).view(-1, z)),0)"
   ]
  }
 ],
 "metadata": {
  "interpreter": {
   "hash": "a199850fbe9b2f1658a16eea735881451fc009eba53b7dda86327ce82228d5dd"
  },
  "kernelspec": {
   "display_name": "Python 3.9.7 64-bit ('.thesis': venv)",
   "language": "python",
   "name": "python3"
  },
  "language_info": {
   "codemirror_mode": {
    "name": "ipython",
    "version": 3
   },
   "file_extension": ".py",
   "mimetype": "text/x-python",
   "name": "python",
   "nbconvert_exporter": "python",
   "pygments_lexer": "ipython3",
   "version": "3.9.7"
  },
  "orig_nbformat": 4
 },
 "nbformat": 4,
 "nbformat_minor": 2
}
