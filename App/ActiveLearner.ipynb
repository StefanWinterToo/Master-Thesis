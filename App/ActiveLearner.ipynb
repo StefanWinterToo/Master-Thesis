{
 "cells": [
  {
   "cell_type": "markdown",
   "metadata": {},
   "source": [
    "# Active Learner\n",
    "Using Parameters from Park, Lee & Moon  \n",
    "Pool based, SVM, inductive -> those parameters are standard  \n",
    "Initial set: Normally, k-means is used. PLM recommend their own algorithm, LCA.  \n",
    "After all documents are labeled, the corpus becomes input to the Sentiment Lexicon Extraction Model (SLE-BE), which creates the domain-specific lexicon."
   ]
  },
  {
   "cell_type": "code",
   "execution_count": 1,
   "metadata": {},
   "outputs": [],
   "source": [
    "import pandas as pd\n",
    "import numpy as np"
   ]
  },
  {
   "cell_type": "code",
   "execution_count": 2,
   "metadata": {},
   "outputs": [],
   "source": [
    "data = pd.read_pickle(\"./data/cleaned_submissions.pkl\")"
   ]
  },
  {
   "cell_type": "code",
   "execution_count": 3,
   "metadata": {},
   "outputs": [],
   "source": [
    "text = data[\"text\"]\n",
    "labels = data[\"sentiment\"]\n",
    "\n",
    "# Get labeled instances\n",
    "indices = []\n",
    "for i in range(0, len(labels), 10):\n",
    "    indices.append(i)\n",
    "    \n",
    "# Set seed\n",
    "X_seed = text[indices]\n",
    "y_seed = labels[indices]"
   ]
  },
  {
   "cell_type": "code",
   "execution_count": 4,
   "metadata": {},
   "outputs": [],
   "source": [
    "# Get unlabeled instances\n",
    "new_indices = []\n",
    "for i in range(0, len(data[\"text\"].index)):\n",
    "    if i not in indices:\n",
    "        new_indices.append(i)"
   ]
  },
  {
   "cell_type": "code",
   "execution_count": 5,
   "metadata": {},
   "outputs": [],
   "source": [
    "# Encode labels\n",
    "from sklearn.preprocessing import LabelEncoder\n",
    "lenc = LabelEncoder()\n",
    "y_train = lenc.fit_transform(y_seed)\n",
    "\n",
    "# Vectorize text using tfidf\n",
    "from sklearn.feature_extraction.text import TfidfVectorizer\n",
    "tfidf = TfidfVectorizer(preprocessor=' '.join, lowercase=False, min_df=5) # min_df = Minimum occurance of words\n",
    "X_train = tfidf.fit_transform(data[\"text\"])"
   ]
  },
  {
   "cell_type": "code",
   "execution_count": 6,
   "metadata": {},
   "outputs": [],
   "source": [
    "y_train_seed = y_train # To feed the Active Leaner\n",
    "X_train_seed = X_train[indices] # To feed the Active Learner\n",
    "X_train_pool = X_train[new_indices] # Instances that need to be labeled"
   ]
  },
  {
   "cell_type": "code",
   "execution_count": 7,
   "metadata": {},
   "outputs": [],
   "source": [
    "from modAL.models import ActiveLearner\n",
    "from modAL.uncertainty import uncertainty_sampling\n",
    "from sklearn.svm import SVC\n",
    "\n",
    "learner = ActiveLearner(\n",
    "    estimator = SVC(probability=True),\n",
    "    query_strategy = uncertainty_sampling,\n",
    "    X_training = X_train_seed,\n",
    "    y_training = y_train_seed\n",
    ")"
   ]
  },
  {
   "cell_type": "code",
   "execution_count": 8,
   "metadata": {},
   "outputs": [],
   "source": [
    "# Using Vader\n",
    "from vaderSentiment.vaderSentiment import SentimentIntensityAnalyzer\n",
    "analyzer = SentimentIntensityAnalyzer()\n",
    "\n",
    "# for sentence in data[\"text\"][indices][:30]:\n",
    "#     vs = analyzer.polarity_scores(\" \".join(sentence))\n",
    "#     print(\"{:} {}\".format(\" \".join(sentence), str(vs)))\n",
    "#     print(\"-\"*40)\n",
    "\n",
    "\n",
    "def vader_sentiment_labels(query_text):\n",
    "    sentiment_list = []\n",
    "    for item in query_text:\n",
    "        sentence = tfidf.inverse_transform(item)\n",
    "        vs = analyzer.polarity_scores(\" \".join(sentence[0]))\n",
    "        if vs[\"compound\"] > 0.05:\n",
    "            sentiment_list.append(np.int(2)) # Positive Sentiment\n",
    "        elif vs[\"compound\"] < -0.05:\n",
    "            sentiment_list.append(np.int(0)) # Negative Sentiment\n",
    "        else:\n",
    "            sentiment_list.append(np.int(1)) # Neutral Sentiment\n",
    "    return sentiment_list"
   ]
  },
  {
   "cell_type": "code",
   "execution_count": 9,
   "metadata": {},
   "outputs": [],
   "source": [
    "'''\n",
    "Try to fix the following error by introducing some noise:\n",
    "ValueError: The number of classes has to be greater than one; got 1 class\n",
    "'''\n",
    "def catch_value_error_for_svm(l):\n",
    "    zeros, ones, twos = 0, 0, 0\n",
    "    \n",
    "    for item in l:\n",
    "        if item == 0:\n",
    "            zeros = zeros + 1\n",
    "        elif item == 1:\n",
    "            ones = ones + 1\n",
    "        else:\n",
    "            twos = twos + 1\n",
    "\n",
    "    if zeros == len(l):\n",
    "        l[0] = 1\n",
    "    elif ones == len(l):\n",
    "        l[0] = 2\n",
    "    else:\n",
    "        l[0] = 1\n",
    "\n",
    "    return l"
   ]
  },
  {
   "cell_type": "code",
   "execution_count": 10,
   "metadata": {},
   "outputs": [],
   "source": [
    "def delete_rows_csr(mat, indices):\n",
    "    \"\"\"\n",
    "    Remove the rows denoted by ``indices`` form the CSR sparse matrix ``mat``.\n",
    "    \"\"\"\n",
    "    indices = list(indices)\n",
    "    mask = np.ones(mat.shape[0], dtype=bool)\n",
    "    mask[indices] = False\n",
    "    return mat[mask]"
   ]
  },
  {
   "cell_type": "code",
   "execution_count": null,
   "metadata": {},
   "outputs": [],
   "source": [
    "'''Confirm that the delete_rows_csr deletes the correct documents.'''\n",
    "# DEV only\n",
    "new_matrix = delete_rows_csr(X_train_pool[:6, :1000], [0, 2]) # Small subsample of the pool and delete the 0 and 2 indices\n",
    "print(X_train_pool[:6, :1000])\n",
    "print(new_matrix)"
   ]
  },
  {
   "cell_type": "code",
   "execution_count": 11,
   "metadata": {},
   "outputs": [
    {
     "name": "stdout",
     "output_type": "stream",
     "text": [
      "Query no. 1\n",
      "Query no. 2\n",
      "Query no. 3\n",
      "Query no. 4\n",
      "Query no. 5\n",
      "Query no. 6\n",
      "Query no. 7\n",
      "Query no. 8\n",
      "Query no. 9\n",
      "Query no. 10\n",
      "Query no. 11\n",
      "Query no. 12\n",
      "Query no. 13\n",
      "Query no. 14\n",
      "Query no. 15\n",
      "Query no. 16\n",
      "Query no. 17\n",
      "Query no. 18\n",
      "Query no. 19\n",
      "Query no. 20\n"
     ]
    }
   ],
   "source": [
    "accuracy_scores = [learner.score(X_train_seed, y_train_seed)]\n",
    "\n",
    "# the active learning loop\n",
    "n_queries = 20\n",
    "for i in range(n_queries):\n",
    "    print('Query no. %d' % (i + 1))\n",
    "    query_idx, query_sample = learner.query(X_train_pool, n_instances=100)\n",
    "    learner.teach(\n",
    "        X=X_train_pool[query_idx], y=np.array(catch_value_error_for_svm(vader_sentiment_labels(query_sample))), only_new = False #True\n",
    "    )\n",
    "    # remove queried instance from pool\n",
    "    X_train_pool = delete_rows_csr(X_train_pool, query_idx) # np.delete(X_train_pool, query_idx, axis = 0) -> For normal numpy arrays\n",
    "    accuracy_scores.append(learner.score(X_train_seed, y_train_seed))"
   ]
  },
  {
   "cell_type": "code",
   "execution_count": 12,
   "metadata": {},
   "outputs": [],
   "source": [
    "from IPython import display\n",
    "from matplotlib import pyplot as plt\n",
    "%matplotlib inline"
   ]
  },
  {
   "cell_type": "code",
   "execution_count": 13,
   "metadata": {},
   "outputs": [
    {
     "data": {
      "image/png": "[encoded data removed]",
      "text/plain": [
       "<Figure size 720x360 with 1 Axes>"
      ]
     },
     "metadata": {},
     "output_type": "display_data"
    }
   ],
   "source": [
    "with plt.style.context('seaborn-white'):\n",
    "    plt.figure(figsize=(10, 5))\n",
    "    plt.title('Accuracy of the classifier during the active learning')\n",
    "    plt.plot(range(n_queries+1), accuracy_scores)\n",
    "    plt.scatter(range(n_queries+1), accuracy_scores)\n",
    "    plt.xlabel('number of queries')\n",
    "    plt.ylabel('accuracy')\n",
    "    plt.show()"
   ]
  },
  {
   "cell_type": "code",
   "execution_count": 50,
   "metadata": {},
   "outputs": [],
   "source": [
    "query_idx, query_sample = learner.query(X_train_pool, n_instances = 5) # Need to update vader sentiment to work with list."
   ]
  },
  {
   "cell_type": "code",
   "execution_count": 57,
   "metadata": {},
   "outputs": [],
   "source": [
    "new_label = vader_sentiment_labels(query_sample)"
   ]
  },
  {
   "cell_type": "code",
   "execution_count": 60,
   "metadata": {},
   "outputs": [],
   "source": [
    "learner.teach(X = X_train_pool[query_idx], y = np.array(vader_sentiment_labels(query_sample)))"
   ]
  },
  {
   "cell_type": "code",
   "execution_count": 43,
   "metadata": {},
   "outputs": [],
   "source": [
    "# Get labels for unlabeled instances\n",
    "\n",
    "predictions = learner.predict(X_train)"
   ]
  },
  {
   "cell_type": "code",
   "execution_count": 52,
   "metadata": {},
   "outputs": [
    {
     "ename": "AttributeError",
     "evalue": "'numpy.ndarray' object has no attribute 'format'",
     "output_type": "error",
     "traceback": [
      "\u001b[1;31m---------------------------------------------------------------------------\u001b[0m",
      "\u001b[1;31mAttributeError\u001b[0m                            Traceback (most recent call last)",
      "\u001b[1;32m~\\AppData\\Local\\Temp/ipykernel_60484/1971723049.py\u001b[0m in \u001b[0;36m<module>\u001b[1;34m\u001b[0m\n\u001b[0;32m      1\u001b[0m \u001b[1;32mimport\u001b[0m \u001b[0mscipy\u001b[0m\u001b[1;33m.\u001b[0m\u001b[0msparse\u001b[0m\u001b[1;33m\u001b[0m\u001b[1;33m\u001b[0m\u001b[0m\n\u001b[0;32m      2\u001b[0m \u001b[0mscipy\u001b[0m\u001b[1;33m.\u001b[0m\u001b[0msparse\u001b[0m\u001b[1;33m.\u001b[0m\u001b[0msave_npz\u001b[0m\u001b[1;33m(\u001b[0m\u001b[1;34m'./data/X_sparse.npz'\u001b[0m\u001b[1;33m,\u001b[0m \u001b[0mX_train\u001b[0m\u001b[1;33m)\u001b[0m\u001b[1;33m\u001b[0m\u001b[1;33m\u001b[0m\u001b[0m\n\u001b[1;32m----> 3\u001b[1;33m \u001b[0mscipy\u001b[0m\u001b[1;33m.\u001b[0m\u001b[0msparse\u001b[0m\u001b[1;33m.\u001b[0m\u001b[0msave_npz\u001b[0m\u001b[1;33m(\u001b[0m\u001b[1;34m'./data/y_sparse.npz'\u001b[0m\u001b[1;33m,\u001b[0m \u001b[0mpredictions\u001b[0m\u001b[1;33m)\u001b[0m\u001b[1;33m\u001b[0m\u001b[1;33m\u001b[0m\u001b[0m\n\u001b[0m",
      "\u001b[1;32mc:\\DEV\\Master Thesis\\App\\.thesis\\lib\\site-packages\\scipy\\sparse\\_matrix_io.py\u001b[0m in \u001b[0;36msave_npz\u001b[1;34m(file, matrix, compressed)\u001b[0m\n\u001b[0;32m     54\u001b[0m     \"\"\"\n\u001b[0;32m     55\u001b[0m     \u001b[0marrays_dict\u001b[0m \u001b[1;33m=\u001b[0m \u001b[1;33m{\u001b[0m\u001b[1;33m}\u001b[0m\u001b[1;33m\u001b[0m\u001b[1;33m\u001b[0m\u001b[0m\n\u001b[1;32m---> 56\u001b[1;33m     \u001b[1;32mif\u001b[0m \u001b[0mmatrix\u001b[0m\u001b[1;33m.\u001b[0m\u001b[0mformat\u001b[0m \u001b[1;32min\u001b[0m \u001b[1;33m(\u001b[0m\u001b[1;34m'csc'\u001b[0m\u001b[1;33m,\u001b[0m \u001b[1;34m'csr'\u001b[0m\u001b[1;33m,\u001b[0m \u001b[1;34m'bsr'\u001b[0m\u001b[1;33m)\u001b[0m\u001b[1;33m:\u001b[0m\u001b[1;33m\u001b[0m\u001b[1;33m\u001b[0m\u001b[0m\n\u001b[0m\u001b[0;32m     57\u001b[0m         \u001b[0marrays_dict\u001b[0m\u001b[1;33m.\u001b[0m\u001b[0mupdate\u001b[0m\u001b[1;33m(\u001b[0m\u001b[0mindices\u001b[0m\u001b[1;33m=\u001b[0m\u001b[0mmatrix\u001b[0m\u001b[1;33m.\u001b[0m\u001b[0mindices\u001b[0m\u001b[1;33m,\u001b[0m \u001b[0mindptr\u001b[0m\u001b[1;33m=\u001b[0m\u001b[0mmatrix\u001b[0m\u001b[1;33m.\u001b[0m\u001b[0mindptr\u001b[0m\u001b[1;33m)\u001b[0m\u001b[1;33m\u001b[0m\u001b[1;33m\u001b[0m\u001b[0m\n\u001b[0;32m     58\u001b[0m     \u001b[1;32melif\u001b[0m \u001b[0mmatrix\u001b[0m\u001b[1;33m.\u001b[0m\u001b[0mformat\u001b[0m \u001b[1;33m==\u001b[0m \u001b[1;34m'dia'\u001b[0m\u001b[1;33m:\u001b[0m\u001b[1;33m\u001b[0m\u001b[1;33m\u001b[0m\u001b[0m\n",
      "\u001b[1;31mAttributeError\u001b[0m: 'numpy.ndarray' object has no attribute 'format'"
     ]
    }
   ],
   "source": [
    "import scipy.sparse\n",
    "scipy.sparse.save_npz('./data/X_sparse.npz', X_train)\n",
    "np.save('./data/y_sparse.npy', predictions)"
   ]
  },
  {
   "cell_type": "markdown",
   "metadata": {},
   "source": [
    "# Flair"
   ]
  },
  {
   "cell_type": "code",
   "execution_count": 35,
   "metadata": {},
   "outputs": [],
   "source": [
    "# Flair\n",
    "# https://www.analyticsvidhya.com/blog/2019/02/flair-nlp-library-python/ #\n",
    "import flair\n",
    "import torch"
   ]
  },
  {
   "cell_type": "code",
   "execution_count": 38,
   "metadata": {},
   "outputs": [],
   "source": [
    "## Importing the Embeddings ##\n",
    "from flair.embeddings import WordEmbeddings\n",
    "from flair.embeddings import CharacterEmbeddings\n",
    "from flair.embeddings import StackedEmbeddings\n",
    "from flair.embeddings import FlairEmbeddings\n",
    "from flair.embeddings import BertEmbeddings\n",
    "from flair.embeddings import ELMoEmbeddings\n",
    "from flair.embeddings import FlairEmbeddings\n",
    "\n",
    "### Initialising embeddings (un-comment to use others) ###\n",
    "#glove_embedding = WordEmbeddings('glove')\n",
    "#character_embeddings = CharacterEmbeddings()\n",
    "#flair_forward  = FlairEmbeddings('news-forward-fast')\n",
    "flair_backward = FlairEmbeddings('news-backward-fast')\n",
    "#bert_embedding = BertEmbedding()\n",
    "#elmo_embedding = ElmoEmbedding()\n",
    "\n",
    "stacked_embeddings = StackedEmbeddings( embeddings = [ flair_backward ])"
   ]
  },
  {
   "cell_type": "code",
   "execution_count": null,
   "metadata": {},
   "outputs": [],
   "source": [
    "from tqdm import tqdm ## tracks progress of loop ##\n",
    "\n",
    "# creating a tensor for storing sentence embeddings #\n",
    "s = torch.zeros(0,z)\n",
    "\n",
    "# iterating Sentence (tqdm tracks progress) #\n",
    "for tweet in tqdm(txt):   \n",
    "  # empty tensor for words #\n",
    "  w = torch.zeros(0,z)   \n",
    "  sentence = Sentence(tweet)\n",
    "  stacked_embeddings.embed(sentence)\n",
    "  # for every word #\n",
    "  for token in sentence:\n",
    "    # storing word Embeddings of each word in a sentence #\n",
    "    w = torch.cat((w,token.embedding.view(-1,z)),0)\n",
    "  # storing sentence Embeddings (mean of embeddings of all words)   #\n",
    "  s = torch.cat((s, w.mean(dim = 0).view(-1, z)),0)"
   ]
  }
 ],
 "metadata": {
  "interpreter": {
   "hash": "a199850fbe9b2f1658a16eea735881451fc009eba53b7dda86327ce82228d5dd"
  },
  "kernelspec": {
   "display_name": "Python 3.9.7 64-bit ('.thesis': venv)",
   "language": "python",
   "name": "python3"
  },
  "language_info": {
   "codemirror_mode": {
    "name": "ipython",
    "version": 3
   },
   "file_extension": ".py",
   "mimetype": "text/x-python",
   "name": "python",
   "nbconvert_exporter": "python",
   "pygments_lexer": "ipython3",
   "version": "3.9.5"
  },
  "orig_nbformat": 4
 },
 "nbformat": 4,
 "nbformat_minor": 2
}
