{
 "cells": [
  {
   "cell_type": "markdown",
   "metadata": {},
   "source": [
    "# Active Learner\n",
    "Using Parameters from Park, Lee & Moon  \n",
    "Pool based, SVM, inductive -> those parameters are standard  \n",
    "Initial set: Normally, k-means is used. PLM recommend their own algorithm, LCA.  \n",
    "After all documents are labeled, the corpus becomes input to the Sentiment Lexicon Extraction Model (SLE-BE), which creates the domain-specific lexicon."
   ]
  },
  {
   "cell_type": "code",
   "execution_count": 1,
   "metadata": {},
   "outputs": [],
   "source": [
    "import pandas as pd\n",
    "import numpy as np"
   ]
  },
  {
   "cell_type": "code",
   "execution_count": 2,
   "metadata": {},
   "outputs": [],
   "source": [
    "data = pd.read_pickle(\"./data/cleaned_submissions.pkl\")"
   ]
  },
  {
   "cell_type": "code",
   "execution_count": 3,
   "metadata": {},
   "outputs": [],
   "source": [
    "text = data[\"text\"]\n",
    "labels = data[\"sentiment\"]\n",
    "\n",
    "# Get labeled instances\n",
    "indices = []\n",
    "for i in range(0, len(labels), 10):\n",
    "    indices.append(i)\n",
    "    \n",
    "# Set seed\n",
    "X_seed = text[indices]\n",
    "y_seed = labels[indices]"
   ]
  },
  {
   "cell_type": "code",
   "execution_count": 4,
   "metadata": {},
   "outputs": [],
   "source": [
    "# Get unlabeled instances\n",
    "new_indices = []\n",
    "for i in range(0, len(data[\"text\"].index)):\n",
    "    if i not in indices:\n",
    "        new_indices.append(i)"
   ]
  },
  {
   "cell_type": "code",
   "execution_count": 5,
   "metadata": {},
   "outputs": [],
   "source": [
    "# Encode labels\n",
    "from sklearn.preprocessing import LabelEncoder\n",
    "lenc = LabelEncoder()\n",
    "y_train = lenc.fit_transform(y_seed)\n",
    "\n",
    "# Vectorize text using tfidf\n",
    "from sklearn.feature_extraction.text import TfidfVectorizer\n",
    "tfidf = TfidfVectorizer(preprocessor=' '.join, lowercase=False, min_df=5) # min_df = Minimum occurance of words\n",
    "X_train = tfidf.fit_transform(data[\"text\"])"
   ]
  },
  {
   "cell_type": "code",
   "execution_count": 7,
   "metadata": {},
   "outputs": [],
   "source": [
    "y_train_seed = y_train # To feed the Active Leaner\n",
    "X_train_seed = X_train[indices] # To feed the Active Learner\n",
    "X_train_pool = X_train[new_indices] # Instances that need to be labeled"
   ]
  },
  {
   "cell_type": "code",
   "execution_count": 8,
   "metadata": {},
   "outputs": [],
   "source": [
    "from modAL.models import ActiveLearner\n",
    "from modAL.uncertainty import uncertainty_sampling\n",
    "from sklearn.svm import SVC\n",
    "\n",
    "learner = ActiveLearner(\n",
    "    estimator = SVC(probability=True),\n",
    "    query_strategy = uncertainty_sampling,\n",
    "    X_training = X_train_seed,\n",
    "    y_training = y_train_seed\n",
    ")"
   ]
  },
  {
   "cell_type": "code",
   "execution_count": 62,
   "metadata": {},
   "outputs": [],
   "source": [
    "# Using Vader\n",
    "from vaderSentiment.vaderSentiment import SentimentIntensityAnalyzer\n",
    "analyzer = SentimentIntensityAnalyzer()\n",
    "\n",
    "# for sentence in data[\"text\"][indices][:30]:\n",
    "#     vs = analyzer.polarity_scores(\" \".join(sentence))\n",
    "#     print(\"{:} {}\".format(\" \".join(sentence), str(vs)))\n",
    "#     print(\"-\"*40)\n",
    "\n",
    "\n",
    "def vader_sentiment_labels(query_text):\n",
    "    sentiment_list = []\n",
    "    for item in query_text:\n",
    "        sentence = tfidf.inverse_transform(item)\n",
    "        vs = analyzer.polarity_scores(\" \".join(sentence[0]))\n",
    "        if vs[\"compound\"] > 0.05:\n",
    "            sentiment_list.append(np.int(2)) # Positive Sentiment\n",
    "        elif vs[\"compound\"] < -0.05:\n",
    "            sentiment_list.append(np.int(0)) # Negative Sentiment\n",
    "        else:\n",
    "            sentiment_list.append(np.int(1)) # Neutral Sentiment\n",
    "    return sentiment_list"
   ]
  },
  {
   "cell_type": "code",
   "execution_count": 65,
   "metadata": {},
   "outputs": [
    {
     "name": "stdout",
     "output_type": "stream",
     "text": [
      "Query no. 1\n"
     ]
    }
   ],
   "source": [
    "accuracy_scores = [learner.score(X_train_seed, y_train_seed)]\n",
    "\n",
    "# the active learning loop\n",
    "n_queries = 10\n",
    "for i in range(n_queries):\n",
    "    print('Query no. %d' % (i + 1))\n",
    "    query_idx, query_sample = learner.query(X_train_pool, n_instances=100)\n",
    "    learner.teach(\n",
    "        X=X_train_pool[query_idx], y=np.array(vader_sentiment_labels(query_sample)), only_new=True,\n",
    "        verbose=1\n",
    "    )\n",
    "    # remove queried instance from pool\n",
    "    X_train_pool = np.delete(X_train_pool, query_idx, axis=0)\n",
    "    accuracy_scores.append(learner.score(X_train_seed, y_train_seed))"
   ]
  },
  {
   "cell_type": "code",
   "execution_count": 2,
   "metadata": {},
   "outputs": [],
   "source": [
    "from IPython import display\n",
    "from matplotlib import pyplot as plt\n",
    "%matplotlib inline"
   ]
  },
  {
   "cell_type": "code",
   "execution_count": null,
   "metadata": {},
   "outputs": [],
   "source": [
    "with plt.style.context('seaborn-white'):\n",
    "    plt.figure(figsize=(10, 5))\n",
    "    plt.title('Accuracy of the classifier during the active learning')\n",
    "    plt.plot(range(n_queries+1), accuracy_scores)\n",
    "    plt.scatter(range(n_queries+1), accuracy_scores)\n",
    "    plt.xlabel('number of queries')\n",
    "    plt.ylabel('accuracy')\n",
    "    plt.show()"
   ]
  },
  {
   "cell_type": "code",
   "execution_count": 50,
   "metadata": {},
   "outputs": [],
   "source": [
    "query_idx, query_sample = learner.query(X_train_pool, n_instances = 5) # Need to update vader sentiment to work with list."
   ]
  },
  {
   "cell_type": "code",
   "execution_count": 57,
   "metadata": {},
   "outputs": [],
   "source": [
    "new_label = vader_sentiment_labels(query_sample)"
   ]
  },
  {
   "cell_type": "code",
   "execution_count": 60,
   "metadata": {},
   "outputs": [],
   "source": [
    "learner.teach(X = X_train_pool[query_idx], y = np.array(vader_sentiment_labels(query_sample)))"
   ]
  },
  {
   "cell_type": "code",
   "execution_count": 56,
   "metadata": {},
   "outputs": [],
   "source": []
  },
  {
   "cell_type": "markdown",
   "metadata": {},
   "source": [
    "# Flair"
   ]
  },
  {
   "cell_type": "code",
   "execution_count": 35,
   "metadata": {},
   "outputs": [],
   "source": [
    "# Flair\n",
    "# https://www.analyticsvidhya.com/blog/2019/02/flair-nlp-library-python/ #\n",
    "import flair\n",
    "import torch"
   ]
  },
  {
   "cell_type": "code",
   "execution_count": 38,
   "metadata": {},
   "outputs": [],
   "source": [
    "## Importing the Embeddings ##\n",
    "from flair.embeddings import WordEmbeddings\n",
    "from flair.embeddings import CharacterEmbeddings\n",
    "from flair.embeddings import StackedEmbeddings\n",
    "from flair.embeddings import FlairEmbeddings\n",
    "from flair.embeddings import BertEmbeddings\n",
    "from flair.embeddings import ELMoEmbeddings\n",
    "from flair.embeddings import FlairEmbeddings\n",
    "\n",
    "### Initialising embeddings (un-comment to use others) ###\n",
    "#glove_embedding = WordEmbeddings('glove')\n",
    "#character_embeddings = CharacterEmbeddings()\n",
    "#flair_forward  = FlairEmbeddings('news-forward-fast')\n",
    "flair_backward = FlairEmbeddings('news-backward-fast')\n",
    "#bert_embedding = BertEmbedding()\n",
    "#elmo_embedding = ElmoEmbedding()\n",
    "\n",
    "stacked_embeddings = StackedEmbeddings( embeddings = [ flair_backward ])"
   ]
  },
  {
   "cell_type": "code",
   "execution_count": null,
   "metadata": {},
   "outputs": [],
   "source": [
    "from tqdm import tqdm ## tracks progress of loop ##\n",
    "\n",
    "# creating a tensor for storing sentence embeddings #\n",
    "s = torch.zeros(0,z)\n",
    "\n",
    "# iterating Sentence (tqdm tracks progress) #\n",
    "for tweet in tqdm(txt):   \n",
    "  # empty tensor for words #\n",
    "  w = torch.zeros(0,z)   \n",
    "  sentence = Sentence(tweet)\n",
    "  stacked_embeddings.embed(sentence)\n",
    "  # for every word #\n",
    "  for token in sentence:\n",
    "    # storing word Embeddings of each word in a sentence #\n",
    "    w = torch.cat((w,token.embedding.view(-1,z)),0)\n",
    "  # storing sentence Embeddings (mean of embeddings of all words)   #\n",
    "  s = torch.cat((s, w.mean(dim = 0).view(-1, z)),0)"
   ]
  }
 ],
 "metadata": {
  "interpreter": {
   "hash": "a199850fbe9b2f1658a16eea735881451fc009eba53b7dda86327ce82228d5dd"
  },
  "kernelspec": {
   "display_name": "Python 3.9.7 64-bit ('.thesis': venv)",
   "language": "python",
   "name": "python3"
  },
  "language_info": {
   "codemirror_mode": {
    "name": "ipython",
    "version": 3
   },
   "file_extension": ".py",
   "mimetype": "text/x-python",
   "name": "python",
   "nbconvert_exporter": "python",
   "pygments_lexer": "ipython3",
   "version": "3.9.7"
  },
  "orig_nbformat": 4
 },
 "nbformat": 4,
 "nbformat_minor": 2
}
