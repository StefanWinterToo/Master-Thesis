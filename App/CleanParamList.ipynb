{
 "cells": [
  {
   "cell_type": "code",
   "execution_count": null,
   "metadata": {},
   "outputs": [],
   "source": [
    "import numpy as np\n",
    "import pandas as pd\n"
   ]
  },
  {
   "cell_type": "code",
   "execution_count": 97,
   "metadata": {},
   "outputs": [],
   "source": [
    "with open(\"./eval_model/lstm_final.txt\") as f:\n",
    "    contents = f.read()\n",
    "contents = contents.split(\"\\n\")\n",
    "contents = contents[0:len(contents)-1]"
   ]
  },
  {
   "cell_type": "code",
   "execution_count": 114,
   "metadata": {},
   "outputs": [],
   "source": [
    "# Get Train Accuracy\n",
    "train_acc = []\n",
    "for i in range(len(contents)):\n",
    "    train_acc.append(contents[i].split(\" ;\")[1][12:-1].split(\", \"))"
   ]
  },
  {
   "cell_type": "code",
   "execution_count": 128,
   "metadata": {},
   "outputs": [],
   "source": [
    "# Get Train Loss\n",
    "train_loss = []\n",
    "for i in range(len(contents)):\n",
    "    train_loss.append(contents[i].split(\" ;\")[2][13:-1].split(\", \"))"
   ]
  },
  {
   "cell_type": "code",
   "execution_count": 139,
   "metadata": {},
   "outputs": [],
   "source": [
    "# Get Val Acc\n",
    "val_acc = []\n",
    "for i in range(len(contents)):\n",
    "    val_acc.append(contents[i].split(\" ;\")[3][9:-1].split(\", \"))"
   ]
  },
  {
   "cell_type": "code",
   "execution_count": 144,
   "metadata": {},
   "outputs": [],
   "source": [
    "# Get Val Loss\n",
    "val_loss = []\n",
    "for i in range(len(contents)):\n",
    "    val_loss.append(contents[i].split(\" ;\")[4][10:-1].split(\", \"))"
   ]
  },
  {
   "cell_type": "code",
   "execution_count": 201,
   "metadata": {},
   "outputs": [],
   "source": [
    "# Get Params\n",
    "params = []\n",
    "for i in range(len(contents)):\n",
    "    new_l = []\n",
    "    for j in range(1, len(train_acc[0]) + 1):\n",
    "        new_l.append(contents[i].split(\" ;\")[0])\n",
    "    params.append(new_l)"
   ]
  },
  {
   "cell_type": "code",
   "execution_count": 183,
   "metadata": {},
   "outputs": [],
   "source": [
    "# Get epochs\n",
    "epo = [list( np.arange(1, len(train_acc[0]) + 1) )] * len(train_acc)"
   ]
  },
  {
   "cell_type": "code",
   "execution_count": 218,
   "metadata": {},
   "outputs": [],
   "source": [
    "foo = np.zeros((len(contents*len(contents[0].split(\" ;\")[5].split(\": \")[1][1:-1].split(\", \")))))\n",
    "df = pd.DataFrame({\n",
    "    \"Params\": [item for sublist in params for item in sublist],\n",
    "    \"Train_Acc\": [item for sublist in train_acc for item in sublist],\n",
    "    \"Train_Loss\": [item for sublist in train_loss for item in sublist],\n",
    "    \"Val_Acc\": [item for sublist in val_acc for item in sublist],\n",
    "    \"Val_Loss\": [item for sublist in val_loss for item in sublist],\n",
    "    \"Epoch\": [item for sublist in epo for item in sublist]}\n",
    ")"
   ]
  },
  {
   "cell_type": "code",
   "execution_count": 221,
   "metadata": {},
   "outputs": [],
   "source": [
    "df.to_csv(\"./eval_model/lstm_final.csv\", sep='\\t')"
   ]
  },
  {
   "cell_type": "code",
   "execution_count": null,
   "metadata": {},
   "outputs": [],
   "source": []
  }
 ],
 "metadata": {
  "interpreter": {
   "hash": "9cbf719e3a6bae849a7ceaf0338c4b24a4d1a8685d6b4521732eb78799be0b2d"
  },
  "kernelspec": {
   "display_name": "Python 3.9.5 64-bit ('.thesis': venv)",
   "language": "python",
   "name": "python3"
  },
  "language_info": {
   "codemirror_mode": {
    "name": "ipython",
    "version": 3
   },
   "file_extension": ".py",
   "mimetype": "text/x-python",
   "name": "python",
   "nbconvert_exporter": "python",
   "pygments_lexer": "ipython3",
   "version": "3.9.5"
  },
  "orig_nbformat": 4
 },
 "nbformat": 4,
 "nbformat_minor": 2
}
