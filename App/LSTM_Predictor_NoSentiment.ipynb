{
 "cells": [
  {
   "cell_type": "code",
   "execution_count": 57,
   "metadata": {},
   "outputs": [],
   "source": [
    "# https://machinelearningmastery.com/time-series-prediction-lstm-recurrent-neural-networks-python-keras/"
   ]
  },
  {
   "cell_type": "code",
   "execution_count": 1,
   "metadata": {},
   "outputs": [],
   "source": [
    "import pandas as pd\n",
    "import matplotlib.pyplot as plt\n",
    "import numpy as np\n",
    "from sklearn.preprocessing import MinMaxScaler\n",
    "from keras.models import Sequential\n",
    "from keras.layers import Dense\n",
    "from keras.layers import LSTM"
   ]
  },
  {
   "cell_type": "code",
   "execution_count": 2,
   "metadata": {},
   "outputs": [],
   "source": [
    "ts = pd.read_excel(\"data/stock_prices.xlsx\", usecols = [\"Date\", \"Adj Close\", \"Volume\"])\n",
    "ts[\"Close_Diff\"] = ts[\"Adj Close\"].diff()"
   ]
  },
  {
   "cell_type": "code",
   "execution_count": 3,
   "metadata": {},
   "outputs": [],
   "source": [
    "sc = MinMaxScaler(feature_range=(0,1))\n",
    "training_set_scaled = sc.fit_transform(ts.loc[:, [\"Adj Close\"]].dropna()) # For using stock prices\n",
    "#training_set_scaled = sc.fit_transform(ts.loc[:, [\"Close_Diff\"]].dropna()) # For using percentage differences"
   ]
  },
  {
   "cell_type": "code",
   "execution_count": 4,
   "metadata": {},
   "outputs": [],
   "source": [
    "# Train, test split\n",
    "series = training_set_scaled\n",
    "train_size = int(round(len(series) * 0.80, 0))\n",
    "\n",
    "train_set = series[:train_size]\n",
    "test_set = series[train_size:]"
   ]
  },
  {
   "cell_type": "code",
   "execution_count": 5,
   "metadata": {},
   "outputs": [],
   "source": [
    "assert (len(train_set) + len(test_set)) == len(series)"
   ]
  },
  {
   "cell_type": "code",
   "execution_count": 6,
   "metadata": {},
   "outputs": [],
   "source": [
    "def create_dataset(dataset, look_back = 1):\n",
    "    X, Y = [], []\n",
    "    for i in range(len(dataset) - look_back - 1):\n",
    "        a = dataset[i:(i + look_back), 0]\n",
    "        X.append(a)\n",
    "        Y.append(dataset[i + look_back, 0])\n",
    "    return np.array(X), np.array(Y)"
   ]
  },
  {
   "cell_type": "code",
   "execution_count": 7,
   "metadata": {},
   "outputs": [],
   "source": [
    "LOOK_BACK = 2\n",
    "X_train, y_train = create_dataset(train_set, LOOK_BACK)\n",
    "X_test, y_test = create_dataset(test_set, LOOK_BACK)"
   ]
  },
  {
   "cell_type": "code",
   "execution_count": 8,
   "metadata": {},
   "outputs": [
    {
     "data": {
      "text/plain": [
       "(364, 2)"
      ]
     },
     "execution_count": 8,
     "metadata": {},
     "output_type": "execute_result"
    }
   ],
   "source": [
    "X_train.shape"
   ]
  },
  {
   "cell_type": "code",
   "execution_count": 9,
   "metadata": {},
   "outputs": [],
   "source": [
    "# The LSTM network expects the input data (X) to be provided in the form of: [samples, time steps, features].\n",
    "# Currently, our data is in the form: [samples, features]\n",
    "def reshape_data(X_train, X_test):\n",
    "    X_train = np.reshape(X_train, (X_train.shape[0], 1, X_train.shape[1]))\n",
    "    X_test = np.reshape(X_test, (X_test.shape[0], 1, X_test.shape[1]))\n",
    "    return X_train, X_test\n",
    "\n",
    "X_train, X_test = reshape_data(X_train, X_test)"
   ]
  },
  {
   "cell_type": "code",
   "execution_count": 10,
   "metadata": {},
   "outputs": [
    {
     "data": {
      "text/plain": [
       "(364, 1, 2)"
      ]
     },
     "execution_count": 10,
     "metadata": {},
     "output_type": "execute_result"
    }
   ],
   "source": [
    "X_train.shape"
   ]
  },
  {
   "cell_type": "code",
   "execution_count": 11,
   "metadata": {},
   "outputs": [],
   "source": [
    "def build_model(opt, d, l):\n",
    "    model = Sequential()\n",
    "    model.add(LSTM(4, input_shape = (1, l), dropout = d)) # , return_sequences = True\n",
    "    # model.add(LSTM(4, input_shape = (1, l))) # If more layers are included, the comment from above also needs to be included.\n",
    "    model.add(Dense(1))\n",
    "    model.compile(optimizer = opt, loss = 'mean_squared_error', metrics = 'RootMeanSquaredError')\n",
    "    return model"
   ]
  },
  {
   "cell_type": "code",
   "execution_count": 12,
   "metadata": {},
   "outputs": [
    {
     "name": "stderr",
     "output_type": "stream",
     "text": [
      "2021-12-31 12:00:09.318460: I tensorflow/core/platform/cpu_feature_guard.cc:151] This TensorFlow binary is optimized with oneAPI Deep Neural Network Library (oneDNN) to use the following CPU instructions in performance-critical operations:  AVX2 FMA\n",
      "To enable them in other operations, rebuild TensorFlow with the appropriate compiler flags.\n"
     ]
    }
   ],
   "source": [
    "param_list = []\n",
    "\n",
    "opti = [\"rmsprop\", \"SGD\", \"Adam\"]\n",
    "drop = [0, 0.1, 0.2, 0.5]\n",
    "l_back = [1, 2, 3, 4, 5]\n",
    "\n",
    "for l in l_back:\n",
    "    X_train, y_train = create_dataset(train_set, l)\n",
    "    X_test, y_test = create_dataset(test_set, l)\n",
    "    X_train, X_test = reshape_data(X_train, X_test)\n",
    "    for opt in opti:\n",
    "        for d in drop:\n",
    "            model = build_model(opt, d, l)\n",
    "            history = model.fit(X_train, y_train, epochs = 100, batch_size = 1, validation_split = 0.2, verbose = 0)\n",
    "            param_list.append(\"D.Out.: \" + str(d) + \n",
    "                                    \" & Opt: \" + opt +\n",
    "                                    \" & Lookback: \" + str(l) +\n",
    "                                    \" ;Train RMSE: \" + str(history.history['root_mean_squared_error']) + \n",
    "                                    \" ;Train Loss: \"+ str(history.history['loss']) + \n",
    "                                    \" ;Val RMSE:\" + str(history.history['val_root_mean_squared_error']) +\n",
    "                                    \" ;Val Loss:\" + str(history.history['val_loss'])\n",
    "                                    )"
   ]
  },
  {
   "cell_type": "code",
   "execution_count": 13,
   "metadata": {},
   "outputs": [],
   "source": [
    "params = []\n",
    "train_rmse = []\n",
    "val_rmse = []\n",
    "train_loss = []\n",
    "val_loss = []\n",
    "\n",
    "for item in param_list:\n",
    "    params.append(item.split(\";\")[0])\n",
    "for item in param_list:\n",
    "    train_rmse.append(item.split(\";\")[1][13:-2].split(\", \"))\n",
    "for item in param_list:\n",
    "    train_loss.append(item.split(\";\")[2][13:-2].split(\", \"))\n",
    "for item in param_list:\n",
    "    val_rmse.append(item.split(\";\")[3][10:-2].split(\", \"))\n",
    "for item in param_list:\n",
    "    val_loss.append(item.split(\";\")[4][10:-1].split(\", \"))\n",
    "\n",
    "e = list(np.arange(1, len(val_rmse[0])+1, 1))"
   ]
  },
  {
   "cell_type": "code",
   "execution_count": 17,
   "metadata": {},
   "outputs": [
    {
     "data": {
      "text/plain": [
       "60"
      ]
     },
     "execution_count": 17,
     "metadata": {},
     "output_type": "execute_result"
    }
   ],
   "source": []
  },
  {
   "cell_type": "code",
   "execution_count": 18,
   "metadata": {},
   "outputs": [],
   "source": [
    "from itertools import chain\n",
    "\n",
    "df = pd.DataFrame({\n",
    "    \"Epoch\": [item for item in e*len(val_loss)],\n",
    "    \"Params\": [item for item in sorted(params * len(e))],\n",
    "    \"Train_RMSE\": [item for item in list(chain.from_iterable(train_rmse))],\n",
    "    \"Train_Loss\": [item for item in list(chain.from_iterable(train_loss))],\n",
    "    \"Val_RMSE\": [item for item in list(chain.from_iterable(val_rmse))],\n",
    "    \"Val_Loss\": [item for item in list(chain.from_iterable(val_loss))]\n",
    "    }\n",
    ")"
   ]
  },
  {
   "cell_type": "code",
   "execution_count": 19,
   "metadata": {},
   "outputs": [],
   "source": [
    "df.to_csv(\"./eval_model/lstm_no_sentiment.csv\", sep='\\t')"
   ]
  },
  {
   "cell_type": "code",
   "execution_count": 20,
   "metadata": {},
   "outputs": [
    {
     "data": {
      "image/png": "[encoded data removed]",
      "text/plain": [
       "<Figure size 432x288 with 1 Axes>"
      ]
     },
     "metadata": {
      "needs_background": "light"
     },
     "output_type": "display_data"
    },
    {
     "data": {
      "image/png": "[encoded data removed]",
      "text/plain": [
       "<Figure size 432x288 with 1 Axes>"
      ]
     },
     "metadata": {
      "needs_background": "light"
     },
     "output_type": "display_data"
    }
   ],
   "source": [
    "import matplotlib.pyplot as plt\n",
    "\n",
    "rmse_history = history.history[\"root_mean_squared_error\"]\n",
    "val_rmse_history = history.history[\"val_root_mean_squared_error\"]\n",
    "\n",
    "plt.plot(range(1, len(rmse_history) + 1), rmse_history)\n",
    "plt.plot(range(1, len(val_rmse_history) + 1), val_rmse_history)\n",
    "plt.xlabel(\"Epochs\")\n",
    "plt.ylabel(\"RMSE\")\n",
    "plt.legend([\"training\", \"validation\"])\n",
    "plt.show()\n",
    "\n",
    "loss_history = history.history[\"loss\"]\n",
    "val_loss_history = history.history[\"val_loss\"]\n",
    "\n",
    "plt.plot(range(1, len(loss_history) + 1), loss_history)\n",
    "plt.plot(range(1, len(val_loss_history) + 1), val_loss_history)\n",
    "plt.xlabel(\"Epochs\")\n",
    "plt.ylabel(\"Loss\")\n",
    "plt.legend([\"training\", \"validation\"])\n",
    "plt.show()"
   ]
  },
  {
   "cell_type": "code",
   "execution_count": 21,
   "metadata": {},
   "outputs": [],
   "source": [
    "import math\n",
    "from sklearn.metrics import mean_squared_error\n",
    "\n",
    "trainPredict = sc.inverse_transform(model.predict(X_train))\n",
    "testPredict  = sc.inverse_transform(model.predict(X_test))\n",
    "testScore = math.sqrt(mean_squared_error(y_test, testPredict))"
   ]
  },
  {
   "cell_type": "code",
   "execution_count": 22,
   "metadata": {},
   "outputs": [
    {
     "data": {
      "text/plain": [
       "116.39487971301844"
      ]
     },
     "execution_count": 22,
     "metadata": {},
     "output_type": "execute_result"
    }
   ],
   "source": [
    "testScore"
   ]
  },
  {
   "cell_type": "code",
   "execution_count": 26,
   "metadata": {},
   "outputs": [],
   "source": [
    "LOOK_BACK = l"
   ]
  },
  {
   "cell_type": "code",
   "execution_count": 23,
   "metadata": {},
   "outputs": [
    {
     "ename": "ValueError",
     "evalue": "could not broadcast input array from shape (86,1) into shape (92,1)",
     "output_type": "error",
     "traceback": [
      "\u001b[0;31m---------------------------------------------------------------------------\u001b[0m",
      "\u001b[0;31mValueError\u001b[0m                                Traceback (most recent call last)",
      "\u001b[0;32m/var/folders/64/7b1hkdr172d2q0xs5rpt2t680000gn/T/ipykernel_85384/2529882374.py\u001b[0m in \u001b[0;36m<module>\u001b[0;34m\u001b[0m\n\u001b[1;32m     13\u001b[0m \u001b[0mtestPredictPlot\u001b[0m \u001b[0;34m=\u001b[0m \u001b[0mnp\u001b[0m\u001b[0;34m.\u001b[0m\u001b[0mempty_like\u001b[0m\u001b[0;34m(\u001b[0m\u001b[0mtraining_set_scaled\u001b[0m\u001b[0;34m)\u001b[0m\u001b[0;34m\u001b[0m\u001b[0;34m\u001b[0m\u001b[0m\n\u001b[1;32m     14\u001b[0m \u001b[0mtestPredictPlot\u001b[0m\u001b[0;34m[\u001b[0m\u001b[0;34m:\u001b[0m\u001b[0;34m,\u001b[0m \u001b[0;34m:\u001b[0m\u001b[0;34m]\u001b[0m \u001b[0;34m=\u001b[0m \u001b[0mnp\u001b[0m\u001b[0;34m.\u001b[0m\u001b[0mnan\u001b[0m\u001b[0;34m\u001b[0m\u001b[0;34m\u001b[0m\u001b[0m\n\u001b[0;32m---> 15\u001b[0;31m \u001b[0mtestPredictPlot\u001b[0m\u001b[0;34m[\u001b[0m\u001b[0mlen\u001b[0m\u001b[0;34m(\u001b[0m\u001b[0mtrainPredict\u001b[0m\u001b[0;34m)\u001b[0m\u001b[0;34m+\u001b[0m\u001b[0;34m(\u001b[0m\u001b[0mLOOK_BACK\u001b[0m\u001b[0;34m*\u001b[0m\u001b[0;36m2\u001b[0m\u001b[0;34m)\u001b[0m\u001b[0;34m+\u001b[0m\u001b[0;36m1\u001b[0m\u001b[0;34m:\u001b[0m\u001b[0mlen\u001b[0m\u001b[0;34m(\u001b[0m\u001b[0mtraining_set_scaled\u001b[0m\u001b[0;34m)\u001b[0m\u001b[0;34m-\u001b[0m\u001b[0;36m1\u001b[0m\u001b[0;34m,\u001b[0m \u001b[0;34m:\u001b[0m\u001b[0;34m]\u001b[0m \u001b[0;34m=\u001b[0m \u001b[0mtestPredict\u001b[0m\u001b[0;34m\u001b[0m\u001b[0;34m\u001b[0m\u001b[0m\n\u001b[0m\u001b[1;32m     16\u001b[0m \u001b[0;31m# plot baseline and predictions\u001b[0m\u001b[0;34m\u001b[0m\u001b[0;34m\u001b[0m\u001b[0m\n\u001b[1;32m     17\u001b[0m \u001b[0;34m\u001b[0m\u001b[0m\n",
      "\u001b[0;31mValueError\u001b[0m: could not broadcast input array from shape (86,1) into shape (92,1)"
     ]
    },
    {
     "data": {
      "text/plain": [
       "<Figure size 3600x1440 with 0 Axes>"
      ]
     },
     "metadata": {},
     "output_type": "display_data"
    }
   ],
   "source": [
    "plt.rcParams['font.sans-serif'] = \"Karla\"\n",
    "plt.rcParams[\"font.weight\"] = \"bold\"\n",
    "\n",
    "from matplotlib.pyplot import figure\n",
    "\n",
    "figure(figsize=(15, 6), dpi=240)\n",
    "\n",
    "# shift train predictions for plotting\n",
    "trainPredictPlot = np.empty_like(training_set_scaled)\n",
    "trainPredictPlot[:, :] = np.nan\n",
    "trainPredictPlot[LOOK_BACK:len(trainPredict)+LOOK_BACK, :] = trainPredict\n",
    "# shift test predictions for plotting\n",
    "testPredictPlot = np.empty_like(training_set_scaled)\n",
    "testPredictPlot[:, :] = np.nan\n",
    "testPredictPlot[len(trainPredict)+(LOOK_BACK*2)+1:len(training_set_scaled)-1, :] = testPredict\n",
    "# plot baseline and predictions\n",
    "\n",
    "x = ts.Date\n",
    "\n",
    "plt.plot(x, sc.inverse_transform(training_set_scaled), color = \"#3F4CEC\", linewidth = 1, label = \"Observed Prices\")\n",
    "# plt.plot(x, trainPredictPlot, color = \"#FFC322\", linestyle='dashed', label = \"Predicted Train Set\")\n",
    "plt.plot(x, testPredictPlot, color = \"#E96744\", linestyle='dashed', label = \"Predicted Test Set\")\n",
    "plt.legend(loc=\"upper left\", prop={'size': 12})\n",
    "plt.ylabel(\"Adjusted Closing Price\", fontsize = 12)\n",
    "plt.grid(axis = \"y\", linestyle = \"dotted\")\n",
    "plt.xlabel(\"Date\", fontsize = 12)\n",
    "plt.title(\"LSTM - Price Prediction Excluding Sentiment\", fontsize = 18, weight = \"bold\")\n",
    "\n",
    "plt.show()"
   ]
  },
  {
   "cell_type": "code",
   "execution_count": null,
   "metadata": {},
   "outputs": [],
   "source": []
  }
 ],
 "metadata": {
  "interpreter": {
   "hash": "a199850fbe9b2f1658a16eea735881451fc009eba53b7dda86327ce82228d5dd"
  },
  "kernelspec": {
   "display_name": "Python 3.9.7 64-bit ('.thesis': venv)",
   "language": "python",
   "name": "python3"
  },
  "language_info": {
   "codemirror_mode": {
    "name": "ipython",
    "version": 3
   },
   "file_extension": ".py",
   "mimetype": "text/x-python",
   "name": "python",
   "nbconvert_exporter": "python",
   "pygments_lexer": "ipython3",
   "version": "3.9.7"
  },
  "orig_nbformat": 4
 },
 "nbformat": 4,
 "nbformat_minor": 2
}
