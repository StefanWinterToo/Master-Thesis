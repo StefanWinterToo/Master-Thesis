{
 "cells": [
  {
   "cell_type": "code",
   "execution_count": 44,
   "metadata": {},
   "outputs": [],
   "source": [
    "import pandas as pd\n",
    "import matplotlib.pyplot as plt\n",
    "import numpy as np\n",
    "from sklearn.preprocessing import MinMaxScaler\n",
    "from keras.models import Sequential\n",
    "from keras.layers import Dense\n",
    "from keras.layers import LSTM"
   ]
  },
  {
   "cell_type": "code",
   "execution_count": 45,
   "metadata": {},
   "outputs": [],
   "source": [
    "ts = pd.read_excel(\"data/stock_prices.xlsx\", usecols = [\"Date\", \"Adj Close\", \"Volume\"])\n",
    "ts[\"Close_Diff\"] = ts[\"Adj Close\"].diff()"
   ]
  },
  {
   "cell_type": "code",
   "execution_count": 46,
   "metadata": {},
   "outputs": [],
   "source": [
    "sc = MinMaxScaler(feature_range=(0,1))\n",
    "training_set_scaled = sc.fit_transform(ts.loc[:, [\"Adj Close\"]].dropna()) # For using stock prices\n",
    "#training_set_scaled = sc.fit_transform(ts.loc[:, [\"Close_Diff\"]].dropna()) # For using percentage differences"
   ]
  },
  {
   "cell_type": "code",
   "execution_count": 47,
   "metadata": {},
   "outputs": [],
   "source": [
    "# Train, test split\n",
    "series = training_set_scaled\n",
    "train_size = int(round(len(series) * 0.90, 0))\n",
    "\n",
    "train_set = series[:train_size]\n",
    "test_set = series[train_size:]"
   ]
  },
  {
   "cell_type": "code",
   "execution_count": 48,
   "metadata": {},
   "outputs": [],
   "source": [
    "assert (len(train_set) + len(test_set)) == len(series)"
   ]
  },
  {
   "cell_type": "code",
   "execution_count": 49,
   "metadata": {},
   "outputs": [],
   "source": [
    "def create_dataset(dataset, look_back = 1):\n",
    "    X, Y = [], []\n",
    "    for i in range(len(dataset) - look_back - 1):\n",
    "        a = dataset[i:(i + look_back), 0]\n",
    "        X.append(a)\n",
    "        Y.append(dataset[i + look_back, 0])\n",
    "    return np.array(X), np.array(Y)"
   ]
  },
  {
   "cell_type": "code",
   "execution_count": 50,
   "metadata": {},
   "outputs": [],
   "source": [
    "LOOK_BACK = 3\n",
    "X_train, y_train = create_dataset(train_set, LOOK_BACK)\n",
    "X_test, y_test = create_dataset(test_set, LOOK_BACK)"
   ]
  },
  {
   "cell_type": "code",
   "execution_count": 51,
   "metadata": {},
   "outputs": [],
   "source": [
    "# The LSTM network expects the input data (X) to be provided in the form of: [samples, time steps, features].\n",
    "# Currently, our data is in the form: [samples, features]\n",
    "X_train = np.reshape(X_train, (X_train.shape[0], 1, X_train.shape[1]))\n",
    "X_test = np.reshape(X_test, (X_test.shape[0], 1, X_test.shape[1]))"
   ]
  },
  {
   "cell_type": "code",
   "execution_count": 52,
   "metadata": {},
   "outputs": [],
   "source": [
    "def build_model(opt):\n",
    "    model = Sequential()\n",
    "    model.add(LSTM(4, input_shape = (1, LOOK_BACK)))\n",
    "    model.add(Dense(1))\n",
    "    model.compile(optimizer = opt, loss = 'mean_squared_error', metrics = 'RootMeanSquaredError')\n",
    "    return model"
   ]
  },
  {
   "cell_type": "code",
   "execution_count": 53,
   "metadata": {},
   "outputs": [],
   "source": [
    "param_list = []\n",
    "\n",
    "opti = ['adam']\n",
    "\n",
    "for opt in opti:\n",
    "    model = build_model(opt)\n",
    "    history = model.fit(X_train, y_train, epochs = 20, batch_size = 1, validation_split = 0.2, verbose = 0)\n",
    "    param_list.append(\"Dropout: \" + str(0) + \n",
    "                            \" & Optimizer:\" + opt +\n",
    "                            \" ;Train MSE: \" + str(history.history['root_mean_squared_error']) + \n",
    "                            \" ;Train Loss: \"+ str(history.history['loss']) + \n",
    "                            \" ;Val MSE:\" + str(history.history['val_root_mean_squared_error']) +\n",
    "                            \" ;Val Loss:\" + str(history.history['val_loss'])\n",
    "                            )"
   ]
  },
  {
   "cell_type": "code",
   "execution_count": 54,
   "metadata": {},
   "outputs": [],
   "source": [
    "import math\n",
    "from sklearn.metrics import mean_squared_error\n",
    "\n",
    "trainPredict = sc.inverse_transform(model.predict(X_train))\n",
    "testPredict  = sc.inverse_transform(model.predict(X_test))\n",
    "testScore = math.sqrt(mean_squared_error(y_test, testPredict))"
   ]
  },
  {
   "cell_type": "code",
   "execution_count": 55,
   "metadata": {},
   "outputs": [
    {
     "data": {
      "text/plain": [
       "191.4437641642346"
      ]
     },
     "execution_count": 55,
     "metadata": {},
     "output_type": "execute_result"
    }
   ],
   "source": [
    "testScore"
   ]
  },
  {
   "cell_type": "code",
   "execution_count": 56,
   "metadata": {},
   "outputs": [
    {
     "data": {
      "image/png": "[encoded data removed]",
      "text/plain": [
       "<Figure size 432x288 with 1 Axes>"
      ]
     },
     "metadata": {
      "needs_background": "light"
     },
     "output_type": "display_data"
    }
   ],
   "source": [
    "# shift train predictions for plotting\n",
    "trainPredictPlot = np.empty_like(training_set_scaled)\n",
    "trainPredictPlot[:, :] = np.nan\n",
    "trainPredictPlot[LOOK_BACK:len(trainPredict)+LOOK_BACK, :] = trainPredict\n",
    "# shift test predictions for plotting\n",
    "testPredictPlot = np.empty_like(training_set_scaled)\n",
    "testPredictPlot[:, :] = np.nan\n",
    "testPredictPlot[len(trainPredict)+(LOOK_BACK*2)+1:len(training_set_scaled)-1, :] = testPredict\n",
    "# plot baseline and predictions\n",
    "plt.plot(sc.inverse_transform(training_set_scaled))\n",
    "plt.plot(trainPredictPlot)\n",
    "plt.plot(testPredictPlot)\n",
    "plt.show()"
   ]
  },
  {
   "cell_type": "code",
   "execution_count": null,
   "metadata": {},
   "outputs": [],
   "source": []
  }
 ],
 "metadata": {
  "interpreter": {
   "hash": "a199850fbe9b2f1658a16eea735881451fc009eba53b7dda86327ce82228d5dd"
  },
  "kernelspec": {
   "display_name": "Python 3.9.7 64-bit ('.thesis': venv)",
   "language": "python",
   "name": "python3"
  },
  "language_info": {
   "codemirror_mode": {
    "name": "ipython",
    "version": 3
   },
   "file_extension": ".py",
   "mimetype": "text/x-python",
   "name": "python",
   "nbconvert_exporter": "python",
   "pygments_lexer": "ipython3",
   "version": "3.9.7"
  },
  "orig_nbformat": 4
 },
 "nbformat": 4,
 "nbformat_minor": 2
}
